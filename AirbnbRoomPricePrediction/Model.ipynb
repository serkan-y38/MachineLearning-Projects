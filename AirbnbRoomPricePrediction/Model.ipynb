{
 "cells": [
  {
   "cell_type": "code",
   "execution_count": 1,
   "metadata": {
    "collapsed": true,
    "ExecuteTime": {
     "start_time": "2023-04-16T18:40:25.844922Z",
     "end_time": "2023-04-16T18:40:26.311245Z"
    }
   },
   "outputs": [],
   "source": [
    "import missingno as msno\n",
    "import numpy as np\n",
    "import seaborn as sns\n",
    "import matplotlib.pyplot as plt\n",
    "import pandas as pd\n",
    "from sklearn.linear_model import Ridge, Lasso, ElasticNet, LinearRegression\n",
    "from sklearn.model_selection import train_test_split, GridSearchCV\n",
    "from sklearn.metrics import mean_squared_error\n",
    "from lightgbm import LGBMRegressor\n",
    "from xgboost import XGBRegressor\n",
    "from sklearn.tree import DecisionTreeRegressor\n",
    "from sklearn.neighbors import KNeighborsRegressor\n",
    "from sklearn.neural_network import MLPRegressor\n",
    "from sklearn.ensemble import RandomForestRegressor\n",
    "from sklearn.ensemble import GradientBoostingRegressor\n",
    "from catboost import CatBoostRegressor\n",
    "from sklearn.preprocessing import LabelEncoder\n",
    "import warnings\n",
    "from sklearn.neighbors import LocalOutlierFactor"
   ]
  },
  {
   "cell_type": "code",
   "execution_count": 2,
   "outputs": [],
   "source": [
    "warnings.filterwarnings('ignore')"
   ],
   "metadata": {
    "collapsed": false,
    "ExecuteTime": {
     "start_time": "2023-04-16T18:40:32.729993Z",
     "end_time": "2023-04-16T18:40:32.761285Z"
    }
   }
  },
  {
   "cell_type": "code",
   "execution_count": 3,
   "outputs": [],
   "source": [
    "df = pd.read_csv(\"AirbnbIstanbul.csv\")"
   ],
   "metadata": {
    "collapsed": false,
    "ExecuteTime": {
     "start_time": "2023-04-16T18:40:33.412863Z",
     "end_time": "2023-04-16T18:40:33.522239Z"
    }
   }
  },
  {
   "cell_type": "markdown",
   "source": [
    "## Exploring Dataframe"
   ],
   "metadata": {
    "collapsed": false
   }
  },
  {
   "cell_type": "code",
   "execution_count": 4,
   "outputs": [
    {
     "data": {
      "text/plain": "      id                                 name  neighbourhood_group   \n0   4826                            The Place                  NaN  \\\n1  20815    The Bosphorus from The Comfy Hill                  NaN   \n2  25436  House for vacation rental furnutare                  NaN   \n3  27271      LOVELY APT. IN PERFECT LOCATION                  NaN   \n4  28277       Duplex Apartment with Terrace                   NaN   \n\n  neighbourhood  latitude  longitude        room_type  price  minimum_nights   \n0       Uskudar  41.05650   29.05367  Entire home/apt    554               1  \\\n1      Besiktas  41.06984   29.04545  Entire home/apt    100              30   \n2      Besiktas  41.07731   29.03891  Entire home/apt    211              21   \n3       Beyoglu  41.03220   28.98216  Entire home/apt    237               5   \n4         Sisli  41.04471   28.98567  Entire home/apt    591               3   \n\n   number_of_reviews last_review  reviews_per_month   \n0                  1  2009-06-01               0.01  \\\n1                 41  2018-11-07               0.38   \n2                  0         NaN                NaN   \n3                  2  2018-05-04               0.04   \n4                  0         NaN                NaN   \n\n   calculated_host_listings_count  availability_365  \n0                               1               365  \n1                               2                49  \n2                               1                83  \n3                               1               228  \n4                              13               356  ",
      "text/html": "<div>\n<style scoped>\n    .dataframe tbody tr th:only-of-type {\n        vertical-align: middle;\n    }\n\n    .dataframe tbody tr th {\n        vertical-align: top;\n    }\n\n    .dataframe thead th {\n        text-align: right;\n    }\n</style>\n<table border=\"1\" class=\"dataframe\">\n  <thead>\n    <tr style=\"text-align: right;\">\n      <th></th>\n      <th>id</th>\n      <th>name</th>\n      <th>neighbourhood_group</th>\n      <th>neighbourhood</th>\n      <th>latitude</th>\n      <th>longitude</th>\n      <th>room_type</th>\n      <th>price</th>\n      <th>minimum_nights</th>\n      <th>number_of_reviews</th>\n      <th>last_review</th>\n      <th>reviews_per_month</th>\n      <th>calculated_host_listings_count</th>\n      <th>availability_365</th>\n    </tr>\n  </thead>\n  <tbody>\n    <tr>\n      <th>0</th>\n      <td>4826</td>\n      <td>The Place</td>\n      <td>NaN</td>\n      <td>Uskudar</td>\n      <td>41.05650</td>\n      <td>29.05367</td>\n      <td>Entire home/apt</td>\n      <td>554</td>\n      <td>1</td>\n      <td>1</td>\n      <td>2009-06-01</td>\n      <td>0.01</td>\n      <td>1</td>\n      <td>365</td>\n    </tr>\n    <tr>\n      <th>1</th>\n      <td>20815</td>\n      <td>The Bosphorus from The Comfy Hill</td>\n      <td>NaN</td>\n      <td>Besiktas</td>\n      <td>41.06984</td>\n      <td>29.04545</td>\n      <td>Entire home/apt</td>\n      <td>100</td>\n      <td>30</td>\n      <td>41</td>\n      <td>2018-11-07</td>\n      <td>0.38</td>\n      <td>2</td>\n      <td>49</td>\n    </tr>\n    <tr>\n      <th>2</th>\n      <td>25436</td>\n      <td>House for vacation rental furnutare</td>\n      <td>NaN</td>\n      <td>Besiktas</td>\n      <td>41.07731</td>\n      <td>29.03891</td>\n      <td>Entire home/apt</td>\n      <td>211</td>\n      <td>21</td>\n      <td>0</td>\n      <td>NaN</td>\n      <td>NaN</td>\n      <td>1</td>\n      <td>83</td>\n    </tr>\n    <tr>\n      <th>3</th>\n      <td>27271</td>\n      <td>LOVELY APT. IN PERFECT LOCATION</td>\n      <td>NaN</td>\n      <td>Beyoglu</td>\n      <td>41.03220</td>\n      <td>28.98216</td>\n      <td>Entire home/apt</td>\n      <td>237</td>\n      <td>5</td>\n      <td>2</td>\n      <td>2018-05-04</td>\n      <td>0.04</td>\n      <td>1</td>\n      <td>228</td>\n    </tr>\n    <tr>\n      <th>4</th>\n      <td>28277</td>\n      <td>Duplex Apartment with Terrace</td>\n      <td>NaN</td>\n      <td>Sisli</td>\n      <td>41.04471</td>\n      <td>28.98567</td>\n      <td>Entire home/apt</td>\n      <td>591</td>\n      <td>3</td>\n      <td>0</td>\n      <td>NaN</td>\n      <td>NaN</td>\n      <td>13</td>\n      <td>356</td>\n    </tr>\n  </tbody>\n</table>\n</div>"
     },
     "execution_count": 4,
     "metadata": {},
     "output_type": "execute_result"
    }
   ],
   "source": [
    "df.head()"
   ],
   "metadata": {
    "collapsed": false,
    "ExecuteTime": {
     "start_time": "2023-04-16T18:40:34.726314Z",
     "end_time": "2023-04-16T18:40:34.773224Z"
    }
   }
  },
  {
   "cell_type": "code",
   "execution_count": 5,
   "outputs": [
    {
     "data": {
      "text/plain": "                                  count          mean           std   \nid                              16249.0  1.885688e+07  1.054815e+07  \\\nneighbourhood_group                 0.0           NaN           NaN   \nlatitude                        16249.0  4.102646e+01  4.319419e-02   \nlongitude                       16249.0  2.898539e+01  1.143542e-01   \nprice                           16249.0  3.547277e+02  1.429008e+03   \nminimum_nights                  16249.0  4.693397e+00  2.891786e+01   \nnumber_of_reviews               16249.0  7.188319e+00  2.144074e+01   \nreviews_per_month                7768.0  9.152639e-01  1.087721e+00   \ncalculated_host_listings_count  16249.0  4.103699e+00  7.648426e+00   \navailability_365                16249.0  2.495084e+02  1.361509e+02   \n\n                                       min           25%           50%   \nid                              4826.00000  8.501221e+06  2.162206e+07  \\\nneighbourhood_group                    NaN           NaN           NaN   \nlatitude                          40.81469  4.100436e+01  4.103135e+01   \nlongitude                         28.03200  2.897413e+01  2.898426e+01   \nprice                              0.00000  1.050000e+02  1.900000e+02   \nminimum_nights                     1.00000  1.000000e+00  1.000000e+00   \nnumber_of_reviews                  0.00000  0.000000e+00  0.000000e+00   \nreviews_per_month                  0.01000  1.800000e-01  5.200000e-01   \ncalculated_host_listings_count     1.00000  1.000000e+00  1.000000e+00   \navailability_365                   0.00000  1.010000e+02  3.400000e+02   \n\n                                         75%           max  \nid                              2.870223e+07  3.245756e+07  \nneighbourhood_group                      NaN           NaN  \nlatitude                        4.104781e+01  4.141442e+01  \nlongitude                       2.902243e+01  2.990778e+01  \nprice                           3.270000e+02  5.956100e+04  \nminimum_nights                  2.000000e+00  1.125000e+03  \nnumber_of_reviews               4.000000e+00  3.070000e+02  \nreviews_per_month               1.190000e+00  1.200000e+01  \ncalculated_host_listings_count  4.000000e+00  7.700000e+01  \navailability_365                3.650000e+02  3.650000e+02  ",
      "text/html": "<div>\n<style scoped>\n    .dataframe tbody tr th:only-of-type {\n        vertical-align: middle;\n    }\n\n    .dataframe tbody tr th {\n        vertical-align: top;\n    }\n\n    .dataframe thead th {\n        text-align: right;\n    }\n</style>\n<table border=\"1\" class=\"dataframe\">\n  <thead>\n    <tr style=\"text-align: right;\">\n      <th></th>\n      <th>count</th>\n      <th>mean</th>\n      <th>std</th>\n      <th>min</th>\n      <th>25%</th>\n      <th>50%</th>\n      <th>75%</th>\n      <th>max</th>\n    </tr>\n  </thead>\n  <tbody>\n    <tr>\n      <th>id</th>\n      <td>16249.0</td>\n      <td>1.885688e+07</td>\n      <td>1.054815e+07</td>\n      <td>4826.00000</td>\n      <td>8.501221e+06</td>\n      <td>2.162206e+07</td>\n      <td>2.870223e+07</td>\n      <td>3.245756e+07</td>\n    </tr>\n    <tr>\n      <th>neighbourhood_group</th>\n      <td>0.0</td>\n      <td>NaN</td>\n      <td>NaN</td>\n      <td>NaN</td>\n      <td>NaN</td>\n      <td>NaN</td>\n      <td>NaN</td>\n      <td>NaN</td>\n    </tr>\n    <tr>\n      <th>latitude</th>\n      <td>16249.0</td>\n      <td>4.102646e+01</td>\n      <td>4.319419e-02</td>\n      <td>40.81469</td>\n      <td>4.100436e+01</td>\n      <td>4.103135e+01</td>\n      <td>4.104781e+01</td>\n      <td>4.141442e+01</td>\n    </tr>\n    <tr>\n      <th>longitude</th>\n      <td>16249.0</td>\n      <td>2.898539e+01</td>\n      <td>1.143542e-01</td>\n      <td>28.03200</td>\n      <td>2.897413e+01</td>\n      <td>2.898426e+01</td>\n      <td>2.902243e+01</td>\n      <td>2.990778e+01</td>\n    </tr>\n    <tr>\n      <th>price</th>\n      <td>16249.0</td>\n      <td>3.547277e+02</td>\n      <td>1.429008e+03</td>\n      <td>0.00000</td>\n      <td>1.050000e+02</td>\n      <td>1.900000e+02</td>\n      <td>3.270000e+02</td>\n      <td>5.956100e+04</td>\n    </tr>\n    <tr>\n      <th>minimum_nights</th>\n      <td>16249.0</td>\n      <td>4.693397e+00</td>\n      <td>2.891786e+01</td>\n      <td>1.00000</td>\n      <td>1.000000e+00</td>\n      <td>1.000000e+00</td>\n      <td>2.000000e+00</td>\n      <td>1.125000e+03</td>\n    </tr>\n    <tr>\n      <th>number_of_reviews</th>\n      <td>16249.0</td>\n      <td>7.188319e+00</td>\n      <td>2.144074e+01</td>\n      <td>0.00000</td>\n      <td>0.000000e+00</td>\n      <td>0.000000e+00</td>\n      <td>4.000000e+00</td>\n      <td>3.070000e+02</td>\n    </tr>\n    <tr>\n      <th>reviews_per_month</th>\n      <td>7768.0</td>\n      <td>9.152639e-01</td>\n      <td>1.087721e+00</td>\n      <td>0.01000</td>\n      <td>1.800000e-01</td>\n      <td>5.200000e-01</td>\n      <td>1.190000e+00</td>\n      <td>1.200000e+01</td>\n    </tr>\n    <tr>\n      <th>calculated_host_listings_count</th>\n      <td>16249.0</td>\n      <td>4.103699e+00</td>\n      <td>7.648426e+00</td>\n      <td>1.00000</td>\n      <td>1.000000e+00</td>\n      <td>1.000000e+00</td>\n      <td>4.000000e+00</td>\n      <td>7.700000e+01</td>\n    </tr>\n    <tr>\n      <th>availability_365</th>\n      <td>16249.0</td>\n      <td>2.495084e+02</td>\n      <td>1.361509e+02</td>\n      <td>0.00000</td>\n      <td>1.010000e+02</td>\n      <td>3.400000e+02</td>\n      <td>3.650000e+02</td>\n      <td>3.650000e+02</td>\n    </tr>\n  </tbody>\n</table>\n</div>"
     },
     "execution_count": 5,
     "metadata": {},
     "output_type": "execute_result"
    }
   ],
   "source": [
    "df.describe().T"
   ],
   "metadata": {
    "collapsed": false,
    "ExecuteTime": {
     "start_time": "2023-04-16T18:40:36.208144Z",
     "end_time": "2023-04-16T18:40:36.301887Z"
    }
   }
  },
  {
   "cell_type": "code",
   "execution_count": 6,
   "outputs": [
    {
     "data": {
      "text/plain": "             id                                               name   \n0          4826                                          The Place  \\\n1         20815                  The Bosphorus from The Comfy Hill   \n2         25436                House for vacation rental furnutare   \n3         27271                    LOVELY APT. IN PERFECT LOCATION   \n4         28277                     Duplex Apartment with Terrace    \n...         ...                                                ...   \n16244  32453285     luxury flat in city center atiye str nisantası   \n16245  32453323                                        Double Room   \n16246  32455952  Cozy room in charming home at the heart of Bey...   \n16247  32457561                 Perfect view with comfortable room   \n16248  20275353             Kandilli rasathane de gunluk konaklama   \n\n       neighbourhood_group neighbourhood  latitude  longitude   \n0                      NaN       Uskudar  41.05650   29.05367  \\\n1                      NaN      Besiktas  41.06984   29.04545   \n2                      NaN      Besiktas  41.07731   29.03891   \n3                      NaN       Beyoglu  41.03220   28.98216   \n4                      NaN         Sisli  41.04471   28.98567   \n...                    ...           ...       ...        ...   \n16244                  NaN         Sisli  41.04775   28.99283   \n16245                  NaN         Fatih  41.00435   28.97692   \n16246                  NaN       Beyoglu  41.03118   28.97837   \n16247                  NaN       Kadikoy  40.99467   29.05423   \n16248                  NaN       Uskudar  41.06792   29.06780   \n\n             room_type  price  minimum_nights  number_of_reviews last_review   \n0      Entire home/apt    554               1                  1  2009-06-01  \\\n1      Entire home/apt    100              30                 41  2018-11-07   \n2      Entire home/apt    211              21                  0         NaN   \n3      Entire home/apt    237               5                  2  2018-05-04   \n4      Entire home/apt    591               3                  0         NaN   \n...                ...    ...             ...                ...         ...   \n16244  Entire home/apt    248               1                  0         NaN   \n16245     Private room    237               2                  0         NaN   \n16246     Private room     53               3                  0         NaN   \n16247     Private room    100               1                  0         NaN   \n16248  Entire home/apt    148               1                  0         NaN   \n\n       reviews_per_month  calculated_host_listings_count  availability_365  \n0                   0.01                               1               365  \n1                   0.38                               2                49  \n2                    NaN                               1                83  \n3                   0.04                               1               228  \n4                    NaN                              13               356  \n...                  ...                             ...               ...  \n16244                NaN                               4               358  \n16245                NaN                               1               364  \n16246                NaN                               2               345  \n16247                NaN                               1               364  \n16248                NaN                               1                83  \n\n[16247 rows x 14 columns]",
      "text/html": "<div>\n<style scoped>\n    .dataframe tbody tr th:only-of-type {\n        vertical-align: middle;\n    }\n\n    .dataframe tbody tr th {\n        vertical-align: top;\n    }\n\n    .dataframe thead th {\n        text-align: right;\n    }\n</style>\n<table border=\"1\" class=\"dataframe\">\n  <thead>\n    <tr style=\"text-align: right;\">\n      <th></th>\n      <th>id</th>\n      <th>name</th>\n      <th>neighbourhood_group</th>\n      <th>neighbourhood</th>\n      <th>latitude</th>\n      <th>longitude</th>\n      <th>room_type</th>\n      <th>price</th>\n      <th>minimum_nights</th>\n      <th>number_of_reviews</th>\n      <th>last_review</th>\n      <th>reviews_per_month</th>\n      <th>calculated_host_listings_count</th>\n      <th>availability_365</th>\n    </tr>\n  </thead>\n  <tbody>\n    <tr>\n      <th>0</th>\n      <td>4826</td>\n      <td>The Place</td>\n      <td>NaN</td>\n      <td>Uskudar</td>\n      <td>41.05650</td>\n      <td>29.05367</td>\n      <td>Entire home/apt</td>\n      <td>554</td>\n      <td>1</td>\n      <td>1</td>\n      <td>2009-06-01</td>\n      <td>0.01</td>\n      <td>1</td>\n      <td>365</td>\n    </tr>\n    <tr>\n      <th>1</th>\n      <td>20815</td>\n      <td>The Bosphorus from The Comfy Hill</td>\n      <td>NaN</td>\n      <td>Besiktas</td>\n      <td>41.06984</td>\n      <td>29.04545</td>\n      <td>Entire home/apt</td>\n      <td>100</td>\n      <td>30</td>\n      <td>41</td>\n      <td>2018-11-07</td>\n      <td>0.38</td>\n      <td>2</td>\n      <td>49</td>\n    </tr>\n    <tr>\n      <th>2</th>\n      <td>25436</td>\n      <td>House for vacation rental furnutare</td>\n      <td>NaN</td>\n      <td>Besiktas</td>\n      <td>41.07731</td>\n      <td>29.03891</td>\n      <td>Entire home/apt</td>\n      <td>211</td>\n      <td>21</td>\n      <td>0</td>\n      <td>NaN</td>\n      <td>NaN</td>\n      <td>1</td>\n      <td>83</td>\n    </tr>\n    <tr>\n      <th>3</th>\n      <td>27271</td>\n      <td>LOVELY APT. IN PERFECT LOCATION</td>\n      <td>NaN</td>\n      <td>Beyoglu</td>\n      <td>41.03220</td>\n      <td>28.98216</td>\n      <td>Entire home/apt</td>\n      <td>237</td>\n      <td>5</td>\n      <td>2</td>\n      <td>2018-05-04</td>\n      <td>0.04</td>\n      <td>1</td>\n      <td>228</td>\n    </tr>\n    <tr>\n      <th>4</th>\n      <td>28277</td>\n      <td>Duplex Apartment with Terrace</td>\n      <td>NaN</td>\n      <td>Sisli</td>\n      <td>41.04471</td>\n      <td>28.98567</td>\n      <td>Entire home/apt</td>\n      <td>591</td>\n      <td>3</td>\n      <td>0</td>\n      <td>NaN</td>\n      <td>NaN</td>\n      <td>13</td>\n      <td>356</td>\n    </tr>\n    <tr>\n      <th>...</th>\n      <td>...</td>\n      <td>...</td>\n      <td>...</td>\n      <td>...</td>\n      <td>...</td>\n      <td>...</td>\n      <td>...</td>\n      <td>...</td>\n      <td>...</td>\n      <td>...</td>\n      <td>...</td>\n      <td>...</td>\n      <td>...</td>\n      <td>...</td>\n    </tr>\n    <tr>\n      <th>16244</th>\n      <td>32453285</td>\n      <td>luxury flat in city center atiye str nisantası</td>\n      <td>NaN</td>\n      <td>Sisli</td>\n      <td>41.04775</td>\n      <td>28.99283</td>\n      <td>Entire home/apt</td>\n      <td>248</td>\n      <td>1</td>\n      <td>0</td>\n      <td>NaN</td>\n      <td>NaN</td>\n      <td>4</td>\n      <td>358</td>\n    </tr>\n    <tr>\n      <th>16245</th>\n      <td>32453323</td>\n      <td>Double Room</td>\n      <td>NaN</td>\n      <td>Fatih</td>\n      <td>41.00435</td>\n      <td>28.97692</td>\n      <td>Private room</td>\n      <td>237</td>\n      <td>2</td>\n      <td>0</td>\n      <td>NaN</td>\n      <td>NaN</td>\n      <td>1</td>\n      <td>364</td>\n    </tr>\n    <tr>\n      <th>16246</th>\n      <td>32455952</td>\n      <td>Cozy room in charming home at the heart of Bey...</td>\n      <td>NaN</td>\n      <td>Beyoglu</td>\n      <td>41.03118</td>\n      <td>28.97837</td>\n      <td>Private room</td>\n      <td>53</td>\n      <td>3</td>\n      <td>0</td>\n      <td>NaN</td>\n      <td>NaN</td>\n      <td>2</td>\n      <td>345</td>\n    </tr>\n    <tr>\n      <th>16247</th>\n      <td>32457561</td>\n      <td>Perfect view with comfortable room</td>\n      <td>NaN</td>\n      <td>Kadikoy</td>\n      <td>40.99467</td>\n      <td>29.05423</td>\n      <td>Private room</td>\n      <td>100</td>\n      <td>1</td>\n      <td>0</td>\n      <td>NaN</td>\n      <td>NaN</td>\n      <td>1</td>\n      <td>364</td>\n    </tr>\n    <tr>\n      <th>16248</th>\n      <td>20275353</td>\n      <td>Kandilli rasathane de gunluk konaklama</td>\n      <td>NaN</td>\n      <td>Uskudar</td>\n      <td>41.06792</td>\n      <td>29.06780</td>\n      <td>Entire home/apt</td>\n      <td>148</td>\n      <td>1</td>\n      <td>0</td>\n      <td>NaN</td>\n      <td>NaN</td>\n      <td>1</td>\n      <td>83</td>\n    </tr>\n  </tbody>\n</table>\n<p>16247 rows × 14 columns</p>\n</div>"
     },
     "execution_count": 6,
     "metadata": {},
     "output_type": "execute_result"
    }
   ],
   "source": [
    "df.drop_duplicates()"
   ],
   "metadata": {
    "collapsed": false,
    "ExecuteTime": {
     "start_time": "2023-04-16T18:40:37.562210Z",
     "end_time": "2023-04-16T18:40:37.640336Z"
    }
   }
  },
  {
   "cell_type": "code",
   "execution_count": 7,
   "outputs": [
    {
     "name": "stdout",
     "output_type": "stream",
     "text": [
      "39\n"
     ]
    }
   ],
   "source": [
    "print(df['neighbourhood'].drop_duplicates().count())"
   ],
   "metadata": {
    "collapsed": false,
    "ExecuteTime": {
     "start_time": "2023-04-16T18:40:40.961241Z",
     "end_time": "2023-04-16T18:40:40.976882Z"
    }
   }
  },
  {
   "cell_type": "markdown",
   "source": [
    "## Deleting Unnecessary Columns"
   ],
   "metadata": {
    "collapsed": false
   }
  },
  {
   "cell_type": "code",
   "execution_count": 8,
   "outputs": [],
   "source": [
    "df.drop(['id', 'last_review', 'neighbourhood_group', 'name'], axis=1, inplace=True)"
   ],
   "metadata": {
    "collapsed": false,
    "ExecuteTime": {
     "start_time": "2023-04-16T18:41:00.153708Z",
     "end_time": "2023-04-16T18:41:00.184957Z"
    }
   }
  },
  {
   "cell_type": "code",
   "execution_count": 10,
   "outputs": [
    {
     "data": {
      "text/plain": "  neighbourhood  latitude  longitude        room_type  price  minimum_nights   \n0       Uskudar  41.05650   29.05367  Entire home/apt    554               1  \\\n1      Besiktas  41.06984   29.04545  Entire home/apt    100              30   \n2      Besiktas  41.07731   29.03891  Entire home/apt    211              21   \n3       Beyoglu  41.03220   28.98216  Entire home/apt    237               5   \n4         Sisli  41.04471   28.98567  Entire home/apt    591               3   \n\n   number_of_reviews  reviews_per_month  calculated_host_listings_count   \n0                  1               0.01                               1  \\\n1                 41               0.38                               2   \n2                  0                NaN                               1   \n3                  2               0.04                               1   \n4                  0                NaN                              13   \n\n   availability_365  \n0               365  \n1                49  \n2                83  \n3               228  \n4               356  ",
      "text/html": "<div>\n<style scoped>\n    .dataframe tbody tr th:only-of-type {\n        vertical-align: middle;\n    }\n\n    .dataframe tbody tr th {\n        vertical-align: top;\n    }\n\n    .dataframe thead th {\n        text-align: right;\n    }\n</style>\n<table border=\"1\" class=\"dataframe\">\n  <thead>\n    <tr style=\"text-align: right;\">\n      <th></th>\n      <th>neighbourhood</th>\n      <th>latitude</th>\n      <th>longitude</th>\n      <th>room_type</th>\n      <th>price</th>\n      <th>minimum_nights</th>\n      <th>number_of_reviews</th>\n      <th>reviews_per_month</th>\n      <th>calculated_host_listings_count</th>\n      <th>availability_365</th>\n    </tr>\n  </thead>\n  <tbody>\n    <tr>\n      <th>0</th>\n      <td>Uskudar</td>\n      <td>41.05650</td>\n      <td>29.05367</td>\n      <td>Entire home/apt</td>\n      <td>554</td>\n      <td>1</td>\n      <td>1</td>\n      <td>0.01</td>\n      <td>1</td>\n      <td>365</td>\n    </tr>\n    <tr>\n      <th>1</th>\n      <td>Besiktas</td>\n      <td>41.06984</td>\n      <td>29.04545</td>\n      <td>Entire home/apt</td>\n      <td>100</td>\n      <td>30</td>\n      <td>41</td>\n      <td>0.38</td>\n      <td>2</td>\n      <td>49</td>\n    </tr>\n    <tr>\n      <th>2</th>\n      <td>Besiktas</td>\n      <td>41.07731</td>\n      <td>29.03891</td>\n      <td>Entire home/apt</td>\n      <td>211</td>\n      <td>21</td>\n      <td>0</td>\n      <td>NaN</td>\n      <td>1</td>\n      <td>83</td>\n    </tr>\n    <tr>\n      <th>3</th>\n      <td>Beyoglu</td>\n      <td>41.03220</td>\n      <td>28.98216</td>\n      <td>Entire home/apt</td>\n      <td>237</td>\n      <td>5</td>\n      <td>2</td>\n      <td>0.04</td>\n      <td>1</td>\n      <td>228</td>\n    </tr>\n    <tr>\n      <th>4</th>\n      <td>Sisli</td>\n      <td>41.04471</td>\n      <td>28.98567</td>\n      <td>Entire home/apt</td>\n      <td>591</td>\n      <td>3</td>\n      <td>0</td>\n      <td>NaN</td>\n      <td>13</td>\n      <td>356</td>\n    </tr>\n  </tbody>\n</table>\n</div>"
     },
     "execution_count": 10,
     "metadata": {},
     "output_type": "execute_result"
    }
   ],
   "source": [
    "df.head()"
   ],
   "metadata": {
    "collapsed": false,
    "ExecuteTime": {
     "start_time": "2023-04-16T18:41:21.289502Z",
     "end_time": "2023-04-16T18:41:21.320758Z"
    }
   }
  },
  {
   "cell_type": "markdown",
   "source": [
    "## Missing Data"
   ],
   "metadata": {
    "collapsed": false,
    "ExecuteTime": {
     "start_time": "2023-04-16T18:39:32.508126Z",
     "end_time": "2023-04-16T18:39:32.598616Z"
    }
   }
  },
  {
   "cell_type": "code",
   "execution_count": 11,
   "outputs": [
    {
     "data": {
      "text/plain": "neighbourhood                        0\nlatitude                             0\nlongitude                            0\nroom_type                            0\nprice                                0\nminimum_nights                       0\nnumber_of_reviews                    0\nreviews_per_month                 8481\ncalculated_host_listings_count       0\navailability_365                     0\ndtype: int64"
     },
     "execution_count": 11,
     "metadata": {},
     "output_type": "execute_result"
    }
   ],
   "source": [
    "df.isnull().sum()"
   ],
   "metadata": {
    "collapsed": false,
    "ExecuteTime": {
     "start_time": "2023-04-16T18:41:22.896582Z",
     "end_time": "2023-04-16T18:41:22.927830Z"
    }
   }
  },
  {
   "cell_type": "code",
   "execution_count": 12,
   "outputs": [
    {
     "data": {
      "text/plain": "<Figure size 2500x1000 with 3 Axes>",
      "image/png": "[encoded data removed]"
     },
     "metadata": {},
     "output_type": "display_data"
    }
   ],
   "source": [
    "# visualise missing data\n",
    "msno.bar(df);"
   ],
   "metadata": {
    "collapsed": false,
    "ExecuteTime": {
     "start_time": "2023-04-16T18:41:23.390173Z",
     "end_time": "2023-04-16T18:41:24.249029Z"
    }
   }
  },
  {
   "cell_type": "markdown",
   "source": [
    "* Missing Reviews Per Month"
   ],
   "metadata": {
    "collapsed": false
   }
  },
  {
   "cell_type": "code",
   "execution_count": 13,
   "outputs": [],
   "source": [
    "# If number of reviews is zero then reviews per month is nan\n",
    "df['reviews_per_month'].fillna(0, inplace=True)"
   ],
   "metadata": {
    "collapsed": false,
    "ExecuteTime": {
     "start_time": "2023-04-16T18:41:25.145593Z",
     "end_time": "2023-04-16T18:41:25.176880Z"
    }
   }
  },
  {
   "cell_type": "code",
   "execution_count": 14,
   "outputs": [
    {
     "data": {
      "text/plain": "neighbourhood                     0\nlatitude                          0\nlongitude                         0\nroom_type                         0\nprice                             0\nminimum_nights                    0\nnumber_of_reviews                 0\nreviews_per_month                 0\ncalculated_host_listings_count    0\navailability_365                  0\ndtype: int64"
     },
     "execution_count": 14,
     "metadata": {},
     "output_type": "execute_result"
    }
   ],
   "source": [
    "df.isnull().sum()"
   ],
   "metadata": {
    "collapsed": false,
    "ExecuteTime": {
     "start_time": "2023-04-16T18:41:25.637140Z",
     "end_time": "2023-04-16T18:41:25.684015Z"
    }
   }
  },
  {
   "cell_type": "markdown",
   "source": [
    "## Variable Transformation"
   ],
   "metadata": {
    "collapsed": false
   }
  },
  {
   "cell_type": "code",
   "execution_count": 15,
   "outputs": [
    {
     "data": {
      "text/plain": "  neighbourhood  latitude  longitude        room_type  price  minimum_nights   \n0       Uskudar  41.05650   29.05367  Entire home/apt    554               1  \\\n1      Besiktas  41.06984   29.04545  Entire home/apt    100              30   \n2      Besiktas  41.07731   29.03891  Entire home/apt    211              21   \n3       Beyoglu  41.03220   28.98216  Entire home/apt    237               5   \n4         Sisli  41.04471   28.98567  Entire home/apt    591               3   \n\n   number_of_reviews  reviews_per_month  calculated_host_listings_count   \n0                  1               0.01                               1  \\\n1                 41               0.38                               2   \n2                  0               0.00                               1   \n3                  2               0.04                               1   \n4                  0               0.00                              13   \n\n   availability_365  \n0               365  \n1                49  \n2                83  \n3               228  \n4               356  ",
      "text/html": "<div>\n<style scoped>\n    .dataframe tbody tr th:only-of-type {\n        vertical-align: middle;\n    }\n\n    .dataframe tbody tr th {\n        vertical-align: top;\n    }\n\n    .dataframe thead th {\n        text-align: right;\n    }\n</style>\n<table border=\"1\" class=\"dataframe\">\n  <thead>\n    <tr style=\"text-align: right;\">\n      <th></th>\n      <th>neighbourhood</th>\n      <th>latitude</th>\n      <th>longitude</th>\n      <th>room_type</th>\n      <th>price</th>\n      <th>minimum_nights</th>\n      <th>number_of_reviews</th>\n      <th>reviews_per_month</th>\n      <th>calculated_host_listings_count</th>\n      <th>availability_365</th>\n    </tr>\n  </thead>\n  <tbody>\n    <tr>\n      <th>0</th>\n      <td>Uskudar</td>\n      <td>41.05650</td>\n      <td>29.05367</td>\n      <td>Entire home/apt</td>\n      <td>554</td>\n      <td>1</td>\n      <td>1</td>\n      <td>0.01</td>\n      <td>1</td>\n      <td>365</td>\n    </tr>\n    <tr>\n      <th>1</th>\n      <td>Besiktas</td>\n      <td>41.06984</td>\n      <td>29.04545</td>\n      <td>Entire home/apt</td>\n      <td>100</td>\n      <td>30</td>\n      <td>41</td>\n      <td>0.38</td>\n      <td>2</td>\n      <td>49</td>\n    </tr>\n    <tr>\n      <th>2</th>\n      <td>Besiktas</td>\n      <td>41.07731</td>\n      <td>29.03891</td>\n      <td>Entire home/apt</td>\n      <td>211</td>\n      <td>21</td>\n      <td>0</td>\n      <td>0.00</td>\n      <td>1</td>\n      <td>83</td>\n    </tr>\n    <tr>\n      <th>3</th>\n      <td>Beyoglu</td>\n      <td>41.03220</td>\n      <td>28.98216</td>\n      <td>Entire home/apt</td>\n      <td>237</td>\n      <td>5</td>\n      <td>2</td>\n      <td>0.04</td>\n      <td>1</td>\n      <td>228</td>\n    </tr>\n    <tr>\n      <th>4</th>\n      <td>Sisli</td>\n      <td>41.04471</td>\n      <td>28.98567</td>\n      <td>Entire home/apt</td>\n      <td>591</td>\n      <td>3</td>\n      <td>0</td>\n      <td>0.00</td>\n      <td>13</td>\n      <td>356</td>\n    </tr>\n  </tbody>\n</table>\n</div>"
     },
     "execution_count": 15,
     "metadata": {},
     "output_type": "execute_result"
    }
   ],
   "source": [
    "df.head()"
   ],
   "metadata": {
    "collapsed": false,
    "ExecuteTime": {
     "start_time": "2023-04-16T18:41:26.756412Z",
     "end_time": "2023-04-16T18:41:26.818960Z"
    }
   }
  },
  {
   "cell_type": "code",
   "execution_count": 16,
   "outputs": [],
   "source": [
    "df = pd.get_dummies(df, prefix=['room_type'],\n",
    "                    columns=['room_type'], drop_first=True)"
   ],
   "metadata": {
    "collapsed": false,
    "ExecuteTime": {
     "start_time": "2023-04-16T18:41:27.248553Z",
     "end_time": "2023-04-16T18:41:27.279802Z"
    }
   }
  },
  {
   "cell_type": "code",
   "execution_count": 17,
   "outputs": [],
   "source": [
    "neighbourhoods = df['neighbourhood']\n",
    "transformed_neighbourhood = LabelEncoder().fit_transform(df['neighbourhood'])\n",
    "df['neighbourhood'] = transformed_neighbourhood"
   ],
   "metadata": {
    "collapsed": false,
    "ExecuteTime": {
     "start_time": "2023-04-16T18:41:27.739571Z",
     "end_time": "2023-04-16T18:41:27.786448Z"
    }
   }
  },
  {
   "cell_type": "code",
   "execution_count": 18,
   "outputs": [],
   "source": [
    "neighbourhoods_df = pd.DataFrame({\"neighbourhoods\": neighbourhoods,\n",
    "                                  \"transformed_neighbourhood\": transformed_neighbourhood})"
   ],
   "metadata": {
    "collapsed": false,
    "ExecuteTime": {
     "start_time": "2023-04-16T18:41:28.352775Z",
     "end_time": "2023-04-16T18:41:28.384023Z"
    }
   }
  },
  {
   "cell_type": "code",
   "execution_count": 19,
   "outputs": [
    {
     "data": {
      "text/plain": "   neighbourhood  latitude  longitude  price  minimum_nights   \n0             37  41.05650   29.05367    554               1  \\\n1              9  41.06984   29.04545    100              30   \n2              9  41.07731   29.03891    211              21   \n3             12  41.03220   28.98216    237               5   \n4             32  41.04471   28.98567    591               3   \n\n   number_of_reviews  reviews_per_month  calculated_host_listings_count   \n0                  1               0.01                               1  \\\n1                 41               0.38                               2   \n2                  0               0.00                               1   \n3                  2               0.04                               1   \n4                  0               0.00                              13   \n\n   availability_365  room_type_Private room  room_type_Shared room  \n0               365                   False                  False  \n1                49                   False                  False  \n2                83                   False                  False  \n3               228                   False                  False  \n4               356                   False                  False  ",
      "text/html": "<div>\n<style scoped>\n    .dataframe tbody tr th:only-of-type {\n        vertical-align: middle;\n    }\n\n    .dataframe tbody tr th {\n        vertical-align: top;\n    }\n\n    .dataframe thead th {\n        text-align: right;\n    }\n</style>\n<table border=\"1\" class=\"dataframe\">\n  <thead>\n    <tr style=\"text-align: right;\">\n      <th></th>\n      <th>neighbourhood</th>\n      <th>latitude</th>\n      <th>longitude</th>\n      <th>price</th>\n      <th>minimum_nights</th>\n      <th>number_of_reviews</th>\n      <th>reviews_per_month</th>\n      <th>calculated_host_listings_count</th>\n      <th>availability_365</th>\n      <th>room_type_Private room</th>\n      <th>room_type_Shared room</th>\n    </tr>\n  </thead>\n  <tbody>\n    <tr>\n      <th>0</th>\n      <td>37</td>\n      <td>41.05650</td>\n      <td>29.05367</td>\n      <td>554</td>\n      <td>1</td>\n      <td>1</td>\n      <td>0.01</td>\n      <td>1</td>\n      <td>365</td>\n      <td>False</td>\n      <td>False</td>\n    </tr>\n    <tr>\n      <th>1</th>\n      <td>9</td>\n      <td>41.06984</td>\n      <td>29.04545</td>\n      <td>100</td>\n      <td>30</td>\n      <td>41</td>\n      <td>0.38</td>\n      <td>2</td>\n      <td>49</td>\n      <td>False</td>\n      <td>False</td>\n    </tr>\n    <tr>\n      <th>2</th>\n      <td>9</td>\n      <td>41.07731</td>\n      <td>29.03891</td>\n      <td>211</td>\n      <td>21</td>\n      <td>0</td>\n      <td>0.00</td>\n      <td>1</td>\n      <td>83</td>\n      <td>False</td>\n      <td>False</td>\n    </tr>\n    <tr>\n      <th>3</th>\n      <td>12</td>\n      <td>41.03220</td>\n      <td>28.98216</td>\n      <td>237</td>\n      <td>5</td>\n      <td>2</td>\n      <td>0.04</td>\n      <td>1</td>\n      <td>228</td>\n      <td>False</td>\n      <td>False</td>\n    </tr>\n    <tr>\n      <th>4</th>\n      <td>32</td>\n      <td>41.04471</td>\n      <td>28.98567</td>\n      <td>591</td>\n      <td>3</td>\n      <td>0</td>\n      <td>0.00</td>\n      <td>13</td>\n      <td>356</td>\n      <td>False</td>\n      <td>False</td>\n    </tr>\n  </tbody>\n</table>\n</div>"
     },
     "execution_count": 19,
     "metadata": {},
     "output_type": "execute_result"
    }
   ],
   "source": [
    "df.head()"
   ],
   "metadata": {
    "collapsed": false,
    "ExecuteTime": {
     "start_time": "2023-04-16T18:41:28.839773Z",
     "end_time": "2023-04-16T18:41:28.924545Z"
    }
   }
  },
  {
   "cell_type": "markdown",
   "source": [
    "## Outliers"
   ],
   "metadata": {
    "collapsed": false
   }
  },
  {
   "cell_type": "code",
   "execution_count": 20,
   "outputs": [
    {
     "data": {
      "text/plain": "array([ 1,  1, -1, ...,  1,  1,  1])"
     },
     "execution_count": 20,
     "metadata": {},
     "output_type": "execute_result"
    }
   ],
   "source": [
    "clf = LocalOutlierFactor(n_neighbors=20, contamination=0.1)\n",
    "clf.fit_predict(df)"
   ],
   "metadata": {
    "collapsed": false,
    "ExecuteTime": {
     "start_time": "2023-04-16T18:41:29.866655Z",
     "end_time": "2023-04-16T18:41:30.497911Z"
    }
   }
  },
  {
   "cell_type": "code",
   "execution_count": 21,
   "outputs": [
    {
     "data": {
      "text/plain": "array([-1.10390502, -1.23558898, -1.66162686, ..., -1.03621847,\n       -0.97471383, -1.11775109])"
     },
     "execution_count": 21,
     "metadata": {},
     "output_type": "execute_result"
    }
   ],
   "source": [
    "df_scores = clf.negative_outlier_factor_\n",
    "df_scores"
   ],
   "metadata": {
    "collapsed": false,
    "ExecuteTime": {
     "start_time": "2023-04-16T18:41:30.497911Z",
     "end_time": "2023-04-16T18:41:30.539958Z"
    }
   }
  },
  {
   "cell_type": "code",
   "execution_count": 22,
   "outputs": [
    {
     "data": {
      "text/plain": "array([-14.14503546, -13.89254756, -13.83506312, ...,  -0.94605708,\n        -0.94598238,  -0.94495998])"
     },
     "execution_count": 22,
     "metadata": {},
     "output_type": "execute_result"
    }
   ],
   "source": [
    "np.sort(df_scores[:])"
   ],
   "metadata": {
    "collapsed": false,
    "ExecuteTime": {
     "start_time": "2023-04-16T18:41:32.014221Z",
     "end_time": "2023-04-16T18:41:32.029486Z"
    }
   }
  },
  {
   "cell_type": "code",
   "execution_count": 23,
   "outputs": [],
   "source": [
    "tolerance = np.sort(df_scores[:])[10]"
   ],
   "metadata": {
    "collapsed": false,
    "ExecuteTime": {
     "start_time": "2023-04-16T18:41:32.104978Z",
     "end_time": "2023-04-16T18:41:32.130060Z"
    }
   }
  },
  {
   "cell_type": "code",
   "execution_count": 24,
   "outputs": [],
   "source": [
    "outlier_boolean = df_scores < tolerance\n",
    "not_outlier_boolean = df_scores > tolerance"
   ],
   "metadata": {
    "collapsed": false,
    "ExecuteTime": {
     "start_time": "2023-04-16T18:41:32.761651Z",
     "end_time": "2023-04-16T18:41:32.808559Z"
    }
   }
  },
  {
   "cell_type": "code",
   "execution_count": 25,
   "outputs": [
    {
     "data": {
      "text/plain": "       neighbourhood  latitude  longitude  price  minimum_nights   \n960               10  41.11567   29.12861   3164              10  \\\n4666              19  41.00715   28.97950   3248               1   \n4672              19  41.00638   28.97799   3132               1   \n6338              22  40.98005   29.07105    791             180   \n6372              29  41.21425   29.02405   3158               1   \n6459              29  41.19766   29.05359   1250             365   \n7071              29  41.09056   29.05388    738             365   \n7086              26  40.94296   29.13668   3427               2   \n8884               9  41.07829   29.03804   1055             360   \n12598             29  41.10007   29.05339   3164               2   \n\n       number_of_reviews  reviews_per_month  calculated_host_listings_count   \n960                    0                0.0                               1  \\\n4666                   0                0.0                              25   \n4672                   0                0.0                              25   \n6338                   0                0.0                               1   \n6372                   0                0.0                              16   \n6459                   0                0.0                               1   \n7071                   0                0.0                               1   \n7086                   0                0.0                               1   \n8884                   0                0.0                               1   \n12598                  0                0.0                              17   \n\n       availability_365  room_type_Private room  room_type_Shared room  \n960                 365                   False                  False  \n4666                365                   False                  False  \n4672                365                   False                  False  \n6338                364                   False                  False  \n6372                365                   False                  False  \n6459                362                   False                  False  \n7071                358                   False                  False  \n7086                365                    True                  False  \n8884                365                   False                  False  \n12598               364                   False                  False  ",
      "text/html": "<div>\n<style scoped>\n    .dataframe tbody tr th:only-of-type {\n        vertical-align: middle;\n    }\n\n    .dataframe tbody tr th {\n        vertical-align: top;\n    }\n\n    .dataframe thead th {\n        text-align: right;\n    }\n</style>\n<table border=\"1\" class=\"dataframe\">\n  <thead>\n    <tr style=\"text-align: right;\">\n      <th></th>\n      <th>neighbourhood</th>\n      <th>latitude</th>\n      <th>longitude</th>\n      <th>price</th>\n      <th>minimum_nights</th>\n      <th>number_of_reviews</th>\n      <th>reviews_per_month</th>\n      <th>calculated_host_listings_count</th>\n      <th>availability_365</th>\n      <th>room_type_Private room</th>\n      <th>room_type_Shared room</th>\n    </tr>\n  </thead>\n  <tbody>\n    <tr>\n      <th>960</th>\n      <td>10</td>\n      <td>41.11567</td>\n      <td>29.12861</td>\n      <td>3164</td>\n      <td>10</td>\n      <td>0</td>\n      <td>0.0</td>\n      <td>1</td>\n      <td>365</td>\n      <td>False</td>\n      <td>False</td>\n    </tr>\n    <tr>\n      <th>4666</th>\n      <td>19</td>\n      <td>41.00715</td>\n      <td>28.97950</td>\n      <td>3248</td>\n      <td>1</td>\n      <td>0</td>\n      <td>0.0</td>\n      <td>25</td>\n      <td>365</td>\n      <td>False</td>\n      <td>False</td>\n    </tr>\n    <tr>\n      <th>4672</th>\n      <td>19</td>\n      <td>41.00638</td>\n      <td>28.97799</td>\n      <td>3132</td>\n      <td>1</td>\n      <td>0</td>\n      <td>0.0</td>\n      <td>25</td>\n      <td>365</td>\n      <td>False</td>\n      <td>False</td>\n    </tr>\n    <tr>\n      <th>6338</th>\n      <td>22</td>\n      <td>40.98005</td>\n      <td>29.07105</td>\n      <td>791</td>\n      <td>180</td>\n      <td>0</td>\n      <td>0.0</td>\n      <td>1</td>\n      <td>364</td>\n      <td>False</td>\n      <td>False</td>\n    </tr>\n    <tr>\n      <th>6372</th>\n      <td>29</td>\n      <td>41.21425</td>\n      <td>29.02405</td>\n      <td>3158</td>\n      <td>1</td>\n      <td>0</td>\n      <td>0.0</td>\n      <td>16</td>\n      <td>365</td>\n      <td>False</td>\n      <td>False</td>\n    </tr>\n    <tr>\n      <th>6459</th>\n      <td>29</td>\n      <td>41.19766</td>\n      <td>29.05359</td>\n      <td>1250</td>\n      <td>365</td>\n      <td>0</td>\n      <td>0.0</td>\n      <td>1</td>\n      <td>362</td>\n      <td>False</td>\n      <td>False</td>\n    </tr>\n    <tr>\n      <th>7071</th>\n      <td>29</td>\n      <td>41.09056</td>\n      <td>29.05388</td>\n      <td>738</td>\n      <td>365</td>\n      <td>0</td>\n      <td>0.0</td>\n      <td>1</td>\n      <td>358</td>\n      <td>False</td>\n      <td>False</td>\n    </tr>\n    <tr>\n      <th>7086</th>\n      <td>26</td>\n      <td>40.94296</td>\n      <td>29.13668</td>\n      <td>3427</td>\n      <td>2</td>\n      <td>0</td>\n      <td>0.0</td>\n      <td>1</td>\n      <td>365</td>\n      <td>True</td>\n      <td>False</td>\n    </tr>\n    <tr>\n      <th>8884</th>\n      <td>9</td>\n      <td>41.07829</td>\n      <td>29.03804</td>\n      <td>1055</td>\n      <td>360</td>\n      <td>0</td>\n      <td>0.0</td>\n      <td>1</td>\n      <td>365</td>\n      <td>False</td>\n      <td>False</td>\n    </tr>\n    <tr>\n      <th>12598</th>\n      <td>29</td>\n      <td>41.10007</td>\n      <td>29.05339</td>\n      <td>3164</td>\n      <td>2</td>\n      <td>0</td>\n      <td>0.0</td>\n      <td>17</td>\n      <td>364</td>\n      <td>False</td>\n      <td>False</td>\n    </tr>\n  </tbody>\n</table>\n</div>"
     },
     "execution_count": 25,
     "metadata": {},
     "output_type": "execute_result"
    }
   ],
   "source": [
    "df[outlier_boolean]"
   ],
   "metadata": {
    "collapsed": false,
    "ExecuteTime": {
     "start_time": "2023-04-16T18:41:34.457440Z",
     "end_time": "2023-04-16T18:41:34.566808Z"
    }
   }
  },
  {
   "cell_type": "code",
   "execution_count": 26,
   "outputs": [],
   "source": [
    "df = df[not_outlier_boolean]"
   ],
   "metadata": {
    "collapsed": false,
    "ExecuteTime": {
     "start_time": "2023-04-16T18:41:35.313482Z",
     "end_time": "2023-04-16T18:41:35.344731Z"
    }
   }
  },
  {
   "cell_type": "markdown",
   "source": [
    "## Models"
   ],
   "metadata": {
    "collapsed": false
   }
  },
  {
   "cell_type": "code",
   "execution_count": 27,
   "outputs": [
    {
     "data": {
      "text/plain": "       neighbourhood  latitude  longitude  price  minimum_nights   \n0                 37  41.05650   29.05367    554               1  \\\n1                  9  41.06984   29.04545    100              30   \n2                  9  41.07731   29.03891    211              21   \n3                 12  41.03220   28.98216    237               5   \n4                 32  41.04471   28.98567    591               3   \n...              ...       ...        ...    ...             ...   \n16244             32  41.04775   28.99283    248               1   \n16245             19  41.00435   28.97692    237               2   \n16246             12  41.03118   28.97837     53               3   \n16247             22  40.99467   29.05423    100               1   \n16248             37  41.06792   29.06780    148               1   \n\n       number_of_reviews  reviews_per_month  calculated_host_listings_count   \n0                      1               0.01                               1  \\\n1                     41               0.38                               2   \n2                      0               0.00                               1   \n3                      2               0.04                               1   \n4                      0               0.00                              13   \n...                  ...                ...                             ...   \n16244                  0               0.00                               4   \n16245                  0               0.00                               1   \n16246                  0               0.00                               2   \n16247                  0               0.00                               1   \n16248                  0               0.00                               1   \n\n       availability_365  room_type_Private room  room_type_Shared room  \n0                   365                   False                  False  \n1                    49                   False                  False  \n2                    83                   False                  False  \n3                   228                   False                  False  \n4                   356                   False                  False  \n...                 ...                     ...                    ...  \n16244               358                   False                  False  \n16245               364                    True                  False  \n16246               345                    True                  False  \n16247               364                    True                  False  \n16248                83                   False                  False  \n\n[16238 rows x 11 columns]",
      "text/html": "<div>\n<style scoped>\n    .dataframe tbody tr th:only-of-type {\n        vertical-align: middle;\n    }\n\n    .dataframe tbody tr th {\n        vertical-align: top;\n    }\n\n    .dataframe thead th {\n        text-align: right;\n    }\n</style>\n<table border=\"1\" class=\"dataframe\">\n  <thead>\n    <tr style=\"text-align: right;\">\n      <th></th>\n      <th>neighbourhood</th>\n      <th>latitude</th>\n      <th>longitude</th>\n      <th>price</th>\n      <th>minimum_nights</th>\n      <th>number_of_reviews</th>\n      <th>reviews_per_month</th>\n      <th>calculated_host_listings_count</th>\n      <th>availability_365</th>\n      <th>room_type_Private room</th>\n      <th>room_type_Shared room</th>\n    </tr>\n  </thead>\n  <tbody>\n    <tr>\n      <th>0</th>\n      <td>37</td>\n      <td>41.05650</td>\n      <td>29.05367</td>\n      <td>554</td>\n      <td>1</td>\n      <td>1</td>\n      <td>0.01</td>\n      <td>1</td>\n      <td>365</td>\n      <td>False</td>\n      <td>False</td>\n    </tr>\n    <tr>\n      <th>1</th>\n      <td>9</td>\n      <td>41.06984</td>\n      <td>29.04545</td>\n      <td>100</td>\n      <td>30</td>\n      <td>41</td>\n      <td>0.38</td>\n      <td>2</td>\n      <td>49</td>\n      <td>False</td>\n      <td>False</td>\n    </tr>\n    <tr>\n      <th>2</th>\n      <td>9</td>\n      <td>41.07731</td>\n      <td>29.03891</td>\n      <td>211</td>\n      <td>21</td>\n      <td>0</td>\n      <td>0.00</td>\n      <td>1</td>\n      <td>83</td>\n      <td>False</td>\n      <td>False</td>\n    </tr>\n    <tr>\n      <th>3</th>\n      <td>12</td>\n      <td>41.03220</td>\n      <td>28.98216</td>\n      <td>237</td>\n      <td>5</td>\n      <td>2</td>\n      <td>0.04</td>\n      <td>1</td>\n      <td>228</td>\n      <td>False</td>\n      <td>False</td>\n    </tr>\n    <tr>\n      <th>4</th>\n      <td>32</td>\n      <td>41.04471</td>\n      <td>28.98567</td>\n      <td>591</td>\n      <td>3</td>\n      <td>0</td>\n      <td>0.00</td>\n      <td>13</td>\n      <td>356</td>\n      <td>False</td>\n      <td>False</td>\n    </tr>\n    <tr>\n      <th>...</th>\n      <td>...</td>\n      <td>...</td>\n      <td>...</td>\n      <td>...</td>\n      <td>...</td>\n      <td>...</td>\n      <td>...</td>\n      <td>...</td>\n      <td>...</td>\n      <td>...</td>\n      <td>...</td>\n    </tr>\n    <tr>\n      <th>16244</th>\n      <td>32</td>\n      <td>41.04775</td>\n      <td>28.99283</td>\n      <td>248</td>\n      <td>1</td>\n      <td>0</td>\n      <td>0.00</td>\n      <td>4</td>\n      <td>358</td>\n      <td>False</td>\n      <td>False</td>\n    </tr>\n    <tr>\n      <th>16245</th>\n      <td>19</td>\n      <td>41.00435</td>\n      <td>28.97692</td>\n      <td>237</td>\n      <td>2</td>\n      <td>0</td>\n      <td>0.00</td>\n      <td>1</td>\n      <td>364</td>\n      <td>True</td>\n      <td>False</td>\n    </tr>\n    <tr>\n      <th>16246</th>\n      <td>12</td>\n      <td>41.03118</td>\n      <td>28.97837</td>\n      <td>53</td>\n      <td>3</td>\n      <td>0</td>\n      <td>0.00</td>\n      <td>2</td>\n      <td>345</td>\n      <td>True</td>\n      <td>False</td>\n    </tr>\n    <tr>\n      <th>16247</th>\n      <td>22</td>\n      <td>40.99467</td>\n      <td>29.05423</td>\n      <td>100</td>\n      <td>1</td>\n      <td>0</td>\n      <td>0.00</td>\n      <td>1</td>\n      <td>364</td>\n      <td>True</td>\n      <td>False</td>\n    </tr>\n    <tr>\n      <th>16248</th>\n      <td>37</td>\n      <td>41.06792</td>\n      <td>29.06780</td>\n      <td>148</td>\n      <td>1</td>\n      <td>0</td>\n      <td>0.00</td>\n      <td>1</td>\n      <td>83</td>\n      <td>False</td>\n      <td>False</td>\n    </tr>\n  </tbody>\n</table>\n<p>16238 rows × 11 columns</p>\n</div>"
     },
     "execution_count": 27,
     "metadata": {},
     "output_type": "execute_result"
    }
   ],
   "source": [
    "df"
   ],
   "metadata": {
    "collapsed": false,
    "ExecuteTime": {
     "start_time": "2023-04-16T18:41:36.307603Z",
     "end_time": "2023-04-16T18:41:36.338889Z"
    }
   }
  },
  {
   "cell_type": "code",
   "execution_count": 28,
   "outputs": [],
   "source": [
    "results = []\n",
    "alg_names = []"
   ],
   "metadata": {
    "collapsed": false,
    "ExecuteTime": {
     "start_time": "2023-04-16T18:41:36.858152Z",
     "end_time": "2023-04-16T18:41:36.889446Z"
    }
   }
  },
  {
   "cell_type": "code",
   "execution_count": 29,
   "outputs": [],
   "source": [
    "def implement_ml_algorithm(alg, Xtr, ytr, Xte, yte):\n",
    "    model = alg().fit(Xtr, ytr)\n",
    "    score = np.sqrt(mean_squared_error(yte, model.predict(Xte)))\n",
    "\n",
    "    results.append(score)\n",
    "    alg_names.append(alg.__name__)\n",
    "\n",
    "    # print(\"For \" + alg.__name__, \" pre RMSE: \", score)"
   ],
   "metadata": {
    "collapsed": false,
    "ExecuteTime": {
     "start_time": "2023-04-16T18:41:37.345033Z",
     "end_time": "2023-04-16T18:41:37.392161Z"
    }
   }
  },
  {
   "cell_type": "code",
   "execution_count": 30,
   "outputs": [],
   "source": [
    "algorithms = [Ridge, Lasso, ElasticNet, LinearRegression, LGBMRegressor,\n",
    "              XGBRegressor, GradientBoostingRegressor, RandomForestRegressor,\n",
    "              DecisionTreeRegressor, MLPRegressor, KNeighborsRegressor, CatBoostRegressor]"
   ],
   "metadata": {
    "collapsed": false,
    "ExecuteTime": {
     "start_time": "2023-04-16T18:41:37.847960Z",
     "end_time": "2023-04-16T18:41:37.879510Z"
    }
   }
  },
  {
   "cell_type": "code",
   "execution_count": 31,
   "outputs": [],
   "source": [
    "X_train, X_test, y_train, y_test = train_test_split(df.drop(['price'], axis=1), df['price'], test_size=0.25,\n",
    "                                                    random_state=5)"
   ],
   "metadata": {
    "collapsed": false,
    "ExecuteTime": {
     "start_time": "2023-04-16T18:41:38.542782Z",
     "end_time": "2023-04-16T18:41:38.574059Z"
    }
   }
  },
  {
   "cell_type": "code",
   "execution_count": 32,
   "outputs": [
    {
     "name": "stdout",
     "output_type": "stream",
     "text": [
      "Learning rate set to 0.060772\n",
      "0:\tlearn: 1364.9736696\ttotal: 135ms\tremaining: 2m 14s\n",
      "1:\tlearn: 1360.9957580\ttotal: 137ms\tremaining: 1m 8s\n",
      "2:\tlearn: 1357.3055956\ttotal: 140ms\tremaining: 46.5s\n",
      "3:\tlearn: 1354.8573487\ttotal: 142ms\tremaining: 35.4s\n",
      "4:\tlearn: 1350.9401969\ttotal: 145ms\tremaining: 28.8s\n",
      "5:\tlearn: 1347.6191096\ttotal: 147ms\tremaining: 24.4s\n",
      "6:\tlearn: 1344.7987533\ttotal: 150ms\tremaining: 21.2s\n",
      "7:\tlearn: 1342.5884672\ttotal: 152ms\tremaining: 18.8s\n",
      "8:\tlearn: 1339.8335812\ttotal: 154ms\tremaining: 17s\n",
      "9:\tlearn: 1338.9977018\ttotal: 156ms\tremaining: 15.5s\n",
      "10:\tlearn: 1337.8085685\ttotal: 159ms\tremaining: 14.3s\n",
      "11:\tlearn: 1335.0561634\ttotal: 161ms\tremaining: 13.3s\n",
      "12:\tlearn: 1333.4242433\ttotal: 164ms\tremaining: 12.4s\n",
      "13:\tlearn: 1332.4867702\ttotal: 166ms\tremaining: 11.7s\n",
      "14:\tlearn: 1331.0396519\ttotal: 168ms\tremaining: 11s\n",
      "15:\tlearn: 1330.1202854\ttotal: 170ms\tremaining: 10.5s\n",
      "16:\tlearn: 1327.7924599\ttotal: 173ms\tremaining: 9.98s\n",
      "17:\tlearn: 1326.9408147\ttotal: 175ms\tremaining: 9.56s\n",
      "18:\tlearn: 1324.3340019\ttotal: 178ms\tremaining: 9.17s\n",
      "19:\tlearn: 1323.2511699\ttotal: 180ms\tremaining: 8.82s\n",
      "20:\tlearn: 1320.0642171\ttotal: 182ms\tremaining: 8.49s\n",
      "21:\tlearn: 1319.2045421\ttotal: 184ms\tremaining: 8.19s\n",
      "22:\tlearn: 1318.4979178\ttotal: 186ms\tremaining: 7.92s\n",
      "23:\tlearn: 1317.6605766\ttotal: 189ms\tremaining: 7.68s\n",
      "24:\tlearn: 1315.2862051\ttotal: 192ms\tremaining: 7.48s\n",
      "25:\tlearn: 1314.5263576\ttotal: 195ms\tremaining: 7.29s\n",
      "26:\tlearn: 1312.0274571\ttotal: 197ms\tremaining: 7.1s\n",
      "27:\tlearn: 1311.2237146\ttotal: 200ms\tremaining: 6.93s\n",
      "28:\tlearn: 1308.0479355\ttotal: 202ms\tremaining: 6.76s\n",
      "29:\tlearn: 1305.1542439\ttotal: 204ms\tremaining: 6.6s\n",
      "30:\tlearn: 1304.5287284\ttotal: 207ms\tremaining: 6.46s\n",
      "31:\tlearn: 1303.9473057\ttotal: 209ms\tremaining: 6.33s\n",
      "32:\tlearn: 1303.2224925\ttotal: 211ms\tremaining: 6.18s\n",
      "33:\tlearn: 1302.3505661\ttotal: 214ms\tremaining: 6.07s\n",
      "34:\tlearn: 1301.8156013\ttotal: 216ms\tremaining: 5.94s\n",
      "35:\tlearn: 1301.4393494\ttotal: 218ms\tremaining: 5.83s\n",
      "36:\tlearn: 1298.4828946\ttotal: 220ms\tremaining: 5.73s\n",
      "37:\tlearn: 1297.7521401\ttotal: 223ms\tremaining: 5.64s\n",
      "38:\tlearn: 1297.0951210\ttotal: 226ms\tremaining: 5.56s\n",
      "39:\tlearn: 1296.5945183\ttotal: 228ms\tremaining: 5.48s\n",
      "40:\tlearn: 1295.6990573\ttotal: 231ms\tremaining: 5.41s\n",
      "41:\tlearn: 1293.7834949\ttotal: 235ms\tremaining: 5.36s\n",
      "42:\tlearn: 1292.5940763\ttotal: 238ms\tremaining: 5.29s\n",
      "43:\tlearn: 1291.9648865\ttotal: 240ms\tremaining: 5.22s\n",
      "44:\tlearn: 1290.1354948\ttotal: 243ms\tremaining: 5.16s\n",
      "45:\tlearn: 1288.6865017\ttotal: 248ms\tremaining: 5.15s\n",
      "46:\tlearn: 1287.7616880\ttotal: 251ms\tremaining: 5.1s\n",
      "47:\tlearn: 1285.4828153\ttotal: 254ms\tremaining: 5.04s\n",
      "48:\tlearn: 1285.1721909\ttotal: 257ms\tremaining: 4.99s\n",
      "49:\tlearn: 1284.6128374\ttotal: 260ms\tremaining: 4.93s\n",
      "50:\tlearn: 1284.0110765\ttotal: 263ms\tremaining: 4.89s\n",
      "51:\tlearn: 1283.3576332\ttotal: 266ms\tremaining: 4.84s\n",
      "52:\tlearn: 1280.2903619\ttotal: 268ms\tremaining: 4.8s\n",
      "53:\tlearn: 1279.8552542\ttotal: 272ms\tremaining: 4.76s\n",
      "54:\tlearn: 1279.1916560\ttotal: 274ms\tremaining: 4.71s\n",
      "55:\tlearn: 1278.6230302\ttotal: 276ms\tremaining: 4.66s\n",
      "56:\tlearn: 1277.5504459\ttotal: 280ms\tremaining: 4.63s\n",
      "57:\tlearn: 1277.1462521\ttotal: 282ms\tremaining: 4.58s\n",
      "58:\tlearn: 1274.2158303\ttotal: 285ms\tremaining: 4.55s\n",
      "59:\tlearn: 1271.9910788\ttotal: 288ms\tremaining: 4.5s\n",
      "60:\tlearn: 1271.6110754\ttotal: 289ms\tremaining: 4.45s\n",
      "61:\tlearn: 1271.2344318\ttotal: 293ms\tremaining: 4.42s\n",
      "62:\tlearn: 1268.9598768\ttotal: 295ms\tremaining: 4.38s\n",
      "63:\tlearn: 1268.4094386\ttotal: 297ms\tremaining: 4.34s\n",
      "64:\tlearn: 1266.2253878\ttotal: 300ms\tremaining: 4.31s\n",
      "65:\tlearn: 1265.8360231\ttotal: 302ms\tremaining: 4.27s\n",
      "66:\tlearn: 1265.4179398\ttotal: 304ms\tremaining: 4.23s\n",
      "67:\tlearn: 1264.2921158\ttotal: 306ms\tremaining: 4.2s\n",
      "68:\tlearn: 1263.9107206\ttotal: 309ms\tremaining: 4.16s\n",
      "69:\tlearn: 1261.0863854\ttotal: 311ms\tremaining: 4.13s\n",
      "70:\tlearn: 1260.8413547\ttotal: 313ms\tremaining: 4.1s\n",
      "71:\tlearn: 1258.8398392\ttotal: 316ms\tremaining: 4.07s\n",
      "72:\tlearn: 1258.0376166\ttotal: 318ms\tremaining: 4.04s\n",
      "73:\tlearn: 1257.5887377\ttotal: 320ms\tremaining: 4.01s\n",
      "74:\tlearn: 1257.1553630\ttotal: 322ms\tremaining: 3.98s\n",
      "75:\tlearn: 1256.3864844\ttotal: 325ms\tremaining: 3.95s\n",
      "76:\tlearn: 1255.4480004\ttotal: 327ms\tremaining: 3.92s\n",
      "77:\tlearn: 1255.1526517\ttotal: 329ms\tremaining: 3.89s\n",
      "78:\tlearn: 1254.6842901\ttotal: 332ms\tremaining: 3.87s\n",
      "79:\tlearn: 1253.7195792\ttotal: 334ms\tremaining: 3.84s\n",
      "80:\tlearn: 1252.9575469\ttotal: 336ms\tremaining: 3.81s\n",
      "81:\tlearn: 1250.9569678\ttotal: 339ms\tremaining: 3.79s\n",
      "82:\tlearn: 1249.0568915\ttotal: 341ms\tremaining: 3.77s\n",
      "83:\tlearn: 1246.9095463\ttotal: 344ms\tremaining: 3.75s\n",
      "84:\tlearn: 1246.5282607\ttotal: 347ms\tremaining: 3.73s\n",
      "85:\tlearn: 1246.1455726\ttotal: 350ms\tremaining: 3.72s\n",
      "86:\tlearn: 1245.3987522\ttotal: 352ms\tremaining: 3.7s\n",
      "87:\tlearn: 1245.0351135\ttotal: 355ms\tremaining: 3.68s\n",
      "88:\tlearn: 1244.7189556\ttotal: 358ms\tremaining: 3.66s\n",
      "89:\tlearn: 1244.4549027\ttotal: 360ms\tremaining: 3.64s\n",
      "90:\tlearn: 1243.9836277\ttotal: 363ms\tremaining: 3.62s\n",
      "91:\tlearn: 1243.2416492\ttotal: 365ms\tremaining: 3.6s\n",
      "92:\tlearn: 1241.3219338\ttotal: 367ms\tremaining: 3.58s\n",
      "93:\tlearn: 1238.4210694\ttotal: 369ms\tremaining: 3.56s\n",
      "94:\tlearn: 1238.1986981\ttotal: 372ms\tremaining: 3.54s\n",
      "95:\tlearn: 1235.5047034\ttotal: 374ms\tremaining: 3.52s\n",
      "96:\tlearn: 1235.1819795\ttotal: 376ms\tremaining: 3.5s\n",
      "97:\tlearn: 1234.8583187\ttotal: 378ms\tremaining: 3.48s\n",
      "98:\tlearn: 1232.9996255\ttotal: 380ms\tremaining: 3.46s\n",
      "99:\tlearn: 1232.7627403\ttotal: 383ms\tremaining: 3.45s\n",
      "100:\tlearn: 1232.0093694\ttotal: 385ms\tremaining: 3.43s\n",
      "101:\tlearn: 1231.1501890\ttotal: 388ms\tremaining: 3.42s\n",
      "102:\tlearn: 1230.9320433\ttotal: 391ms\tremaining: 3.4s\n",
      "103:\tlearn: 1230.7160002\ttotal: 397ms\tremaining: 3.42s\n",
      "104:\tlearn: 1230.3994013\ttotal: 400ms\tremaining: 3.41s\n",
      "105:\tlearn: 1228.4176062\ttotal: 403ms\tremaining: 3.4s\n",
      "106:\tlearn: 1226.6594386\ttotal: 407ms\tremaining: 3.4s\n",
      "107:\tlearn: 1224.9559586\ttotal: 411ms\tremaining: 3.39s\n",
      "108:\tlearn: 1223.3283123\ttotal: 413ms\tremaining: 3.38s\n",
      "109:\tlearn: 1223.1244029\ttotal: 416ms\tremaining: 3.36s\n",
      "110:\tlearn: 1220.4248214\ttotal: 418ms\tremaining: 3.35s\n",
      "111:\tlearn: 1220.2605620\ttotal: 421ms\tremaining: 3.33s\n",
      "112:\tlearn: 1218.6620660\ttotal: 424ms\tremaining: 3.32s\n",
      "113:\tlearn: 1218.4750342\ttotal: 426ms\tremaining: 3.31s\n",
      "114:\tlearn: 1218.3555533\ttotal: 429ms\tremaining: 3.3s\n",
      "115:\tlearn: 1217.5744235\ttotal: 432ms\tremaining: 3.29s\n",
      "116:\tlearn: 1216.0005112\ttotal: 435ms\tremaining: 3.28s\n",
      "117:\tlearn: 1215.3265810\ttotal: 438ms\tremaining: 3.27s\n",
      "118:\tlearn: 1215.0568647\ttotal: 441ms\tremaining: 3.26s\n",
      "119:\tlearn: 1214.8768805\ttotal: 445ms\tremaining: 3.26s\n",
      "120:\tlearn: 1212.1305517\ttotal: 447ms\tremaining: 3.25s\n",
      "121:\tlearn: 1211.9438395\ttotal: 450ms\tremaining: 3.24s\n",
      "122:\tlearn: 1211.7741789\ttotal: 453ms\tremaining: 3.23s\n",
      "123:\tlearn: 1210.2964870\ttotal: 456ms\tremaining: 3.22s\n",
      "124:\tlearn: 1210.1332791\ttotal: 459ms\tremaining: 3.21s\n",
      "125:\tlearn: 1209.8550559\ttotal: 462ms\tremaining: 3.21s\n",
      "126:\tlearn: 1209.6769629\ttotal: 466ms\tremaining: 3.2s\n",
      "127:\tlearn: 1209.4818245\ttotal: 469ms\tremaining: 3.2s\n",
      "128:\tlearn: 1209.2441327\ttotal: 472ms\tremaining: 3.19s\n",
      "129:\tlearn: 1206.7158945\ttotal: 474ms\tremaining: 3.17s\n",
      "130:\tlearn: 1206.5682733\ttotal: 477ms\tremaining: 3.17s\n",
      "131:\tlearn: 1206.4270331\ttotal: 479ms\tremaining: 3.15s\n",
      "132:\tlearn: 1203.8273319\ttotal: 483ms\tremaining: 3.15s\n",
      "133:\tlearn: 1203.6028475\ttotal: 485ms\tremaining: 3.13s\n",
      "134:\tlearn: 1202.1017519\ttotal: 487ms\tremaining: 3.12s\n",
      "135:\tlearn: 1200.8488479\ttotal: 491ms\tremaining: 3.12s\n",
      "136:\tlearn: 1200.6446788\ttotal: 493ms\tremaining: 3.1s\n",
      "137:\tlearn: 1198.0335440\ttotal: 496ms\tremaining: 3.1s\n",
      "138:\tlearn: 1196.0914019\ttotal: 499ms\tremaining: 3.09s\n",
      "139:\tlearn: 1194.5956201\ttotal: 502ms\tremaining: 3.08s\n",
      "140:\tlearn: 1194.4609037\ttotal: 504ms\tremaining: 3.07s\n",
      "141:\tlearn: 1192.9907485\ttotal: 507ms\tremaining: 3.06s\n",
      "142:\tlearn: 1191.5702295\ttotal: 509ms\tremaining: 3.05s\n",
      "143:\tlearn: 1190.1633337\ttotal: 512ms\tremaining: 3.04s\n",
      "144:\tlearn: 1188.8408936\ttotal: 514ms\tremaining: 3.03s\n",
      "145:\tlearn: 1188.6270036\ttotal: 517ms\tremaining: 3.02s\n",
      "146:\tlearn: 1187.3282766\ttotal: 519ms\tremaining: 3.01s\n",
      "147:\tlearn: 1187.2082682\ttotal: 521ms\tremaining: 3s\n",
      "148:\tlearn: 1187.0913558\ttotal: 522ms\tremaining: 2.98s\n",
      "149:\tlearn: 1186.0641268\ttotal: 525ms\tremaining: 2.97s\n",
      "150:\tlearn: 1185.8700881\ttotal: 527ms\tremaining: 2.96s\n",
      "151:\tlearn: 1184.6659161\ttotal: 530ms\tremaining: 2.95s\n",
      "152:\tlearn: 1184.5564367\ttotal: 531ms\tremaining: 2.94s\n",
      "153:\tlearn: 1183.8831507\ttotal: 534ms\tremaining: 2.93s\n",
      "154:\tlearn: 1183.7119108\ttotal: 536ms\tremaining: 2.92s\n",
      "155:\tlearn: 1182.4979416\ttotal: 538ms\tremaining: 2.91s\n",
      "156:\tlearn: 1182.3908829\ttotal: 540ms\tremaining: 2.9s\n",
      "157:\tlearn: 1182.2897767\ttotal: 542ms\tremaining: 2.89s\n",
      "158:\tlearn: 1181.6618704\ttotal: 545ms\tremaining: 2.88s\n",
      "159:\tlearn: 1181.5596689\ttotal: 547ms\tremaining: 2.87s\n",
      "160:\tlearn: 1180.3931622\ttotal: 549ms\tremaining: 2.86s\n",
      "161:\tlearn: 1179.2613976\ttotal: 551ms\tremaining: 2.85s\n",
      "162:\tlearn: 1178.0985276\ttotal: 553ms\tremaining: 2.84s\n",
      "163:\tlearn: 1177.0275913\ttotal: 556ms\tremaining: 2.83s\n",
      "164:\tlearn: 1175.9836141\ttotal: 558ms\tremaining: 2.82s\n",
      "165:\tlearn: 1174.9665516\ttotal: 560ms\tremaining: 2.81s\n",
      "166:\tlearn: 1173.9855258\ttotal: 563ms\tremaining: 2.81s\n",
      "167:\tlearn: 1173.0152371\ttotal: 565ms\tremaining: 2.8s\n",
      "168:\tlearn: 1172.0947036\ttotal: 567ms\tremaining: 2.79s\n",
      "169:\tlearn: 1171.1245700\ttotal: 569ms\tremaining: 2.78s\n",
      "170:\tlearn: 1170.2585016\ttotal: 571ms\tremaining: 2.77s\n",
      "171:\tlearn: 1169.4181395\ttotal: 573ms\tremaining: 2.76s\n",
      "172:\tlearn: 1168.5749521\ttotal: 576ms\tremaining: 2.75s\n",
      "173:\tlearn: 1167.0366730\ttotal: 579ms\tremaining: 2.75s\n",
      "174:\tlearn: 1166.1489339\ttotal: 581ms\tremaining: 2.74s\n",
      "175:\tlearn: 1165.2880208\ttotal: 583ms\tremaining: 2.73s\n",
      "176:\tlearn: 1164.5158638\ttotal: 585ms\tremaining: 2.72s\n",
      "177:\tlearn: 1164.2216944\ttotal: 589ms\tremaining: 2.72s\n",
      "178:\tlearn: 1163.4779662\ttotal: 591ms\tremaining: 2.71s\n",
      "179:\tlearn: 1162.7559642\ttotal: 593ms\tremaining: 2.7s\n",
      "180:\tlearn: 1162.0534921\ttotal: 595ms\tremaining: 2.69s\n",
      "181:\tlearn: 1161.3240435\ttotal: 598ms\tremaining: 2.69s\n",
      "182:\tlearn: 1160.6645580\ttotal: 600ms\tremaining: 2.68s\n",
      "183:\tlearn: 1160.0247780\ttotal: 602ms\tremaining: 2.67s\n",
      "184:\tlearn: 1159.8752253\ttotal: 604ms\tremaining: 2.66s\n",
      "185:\tlearn: 1159.2549441\ttotal: 606ms\tremaining: 2.65s\n",
      "186:\tlearn: 1158.6517038\ttotal: 609ms\tremaining: 2.65s\n",
      "187:\tlearn: 1158.0554726\ttotal: 611ms\tremaining: 2.64s\n",
      "188:\tlearn: 1157.4709100\ttotal: 613ms\tremaining: 2.63s\n",
      "189:\tlearn: 1156.9025409\ttotal: 616ms\tremaining: 2.62s\n",
      "190:\tlearn: 1156.2771587\ttotal: 618ms\tremaining: 2.62s\n",
      "191:\tlearn: 1155.7432508\ttotal: 621ms\tremaining: 2.62s\n",
      "192:\tlearn: 1155.2248630\ttotal: 624ms\tremaining: 2.61s\n",
      "193:\tlearn: 1154.7212415\ttotal: 628ms\tremaining: 2.61s\n",
      "194:\tlearn: 1154.2254045\ttotal: 631ms\tremaining: 2.61s\n",
      "195:\tlearn: 1153.7376661\ttotal: 635ms\tremaining: 2.6s\n",
      "196:\tlearn: 1153.2177720\ttotal: 638ms\tremaining: 2.6s\n",
      "197:\tlearn: 1152.7565840\ttotal: 641ms\tremaining: 2.59s\n",
      "198:\tlearn: 1152.3102353\ttotal: 643ms\tremaining: 2.59s\n",
      "199:\tlearn: 1151.8345551\ttotal: 646ms\tremaining: 2.58s\n",
      "200:\tlearn: 1151.4147454\ttotal: 649ms\tremaining: 2.58s\n",
      "201:\tlearn: 1151.0076980\ttotal: 652ms\tremaining: 2.57s\n",
      "202:\tlearn: 1150.6131809\ttotal: 655ms\tremaining: 2.57s\n",
      "203:\tlearn: 1150.4084468\ttotal: 659ms\tremaining: 2.57s\n",
      "204:\tlearn: 1150.0251040\ttotal: 663ms\tremaining: 2.57s\n",
      "205:\tlearn: 1149.6123151\ttotal: 666ms\tremaining: 2.56s\n",
      "206:\tlearn: 1149.2134400\ttotal: 670ms\tremaining: 2.56s\n",
      "207:\tlearn: 1148.8275953\ttotal: 672ms\tremaining: 2.56s\n",
      "208:\tlearn: 1148.4540448\ttotal: 675ms\tremaining: 2.55s\n",
      "209:\tlearn: 1148.1142829\ttotal: 677ms\tremaining: 2.55s\n",
      "210:\tlearn: 1147.7944062\ttotal: 680ms\tremaining: 2.54s\n",
      "211:\tlearn: 1147.4524858\ttotal: 683ms\tremaining: 2.54s\n",
      "212:\tlearn: 1147.1428490\ttotal: 685ms\tremaining: 2.53s\n",
      "213:\tlearn: 1146.8510406\ttotal: 688ms\tremaining: 2.53s\n",
      "214:\tlearn: 1146.5380505\ttotal: 691ms\tremaining: 2.52s\n",
      "215:\tlearn: 1145.9613833\ttotal: 695ms\tremaining: 2.52s\n",
      "216:\tlearn: 1145.6864177\ttotal: 697ms\tremaining: 2.51s\n",
      "217:\tlearn: 1145.4203401\ttotal: 699ms\tremaining: 2.51s\n",
      "218:\tlearn: 1144.8237055\ttotal: 702ms\tremaining: 2.5s\n",
      "219:\tlearn: 1144.7433965\ttotal: 704ms\tremaining: 2.5s\n",
      "220:\tlearn: 1144.4851038\ttotal: 707ms\tremaining: 2.49s\n",
      "221:\tlearn: 1144.0025437\ttotal: 710ms\tremaining: 2.49s\n",
      "222:\tlearn: 1143.7438630\ttotal: 712ms\tremaining: 2.48s\n",
      "223:\tlearn: 1143.4933832\ttotal: 715ms\tremaining: 2.48s\n",
      "224:\tlearn: 1139.6972228\ttotal: 717ms\tremaining: 2.47s\n",
      "225:\tlearn: 1139.0791033\ttotal: 720ms\tremaining: 2.47s\n",
      "226:\tlearn: 1138.8356334\ttotal: 723ms\tremaining: 2.46s\n",
      "227:\tlearn: 1138.1081348\ttotal: 725ms\tremaining: 2.46s\n",
      "228:\tlearn: 1137.8503583\ttotal: 728ms\tremaining: 2.45s\n",
      "229:\tlearn: 1137.6210213\ttotal: 731ms\tremaining: 2.44s\n",
      "230:\tlearn: 1136.8293501\ttotal: 734ms\tremaining: 2.44s\n",
      "231:\tlearn: 1136.6070096\ttotal: 736ms\tremaining: 2.44s\n",
      "232:\tlearn: 1136.3914541\ttotal: 738ms\tremaining: 2.43s\n",
      "233:\tlearn: 1136.1824469\ttotal: 741ms\tremaining: 2.42s\n",
      "234:\tlearn: 1133.8250997\ttotal: 743ms\tremaining: 2.42s\n",
      "235:\tlearn: 1133.6219607\ttotal: 745ms\tremaining: 2.41s\n",
      "236:\tlearn: 1133.4250518\ttotal: 747ms\tremaining: 2.4s\n",
      "237:\tlearn: 1133.2340171\ttotal: 749ms\tremaining: 2.4s\n",
      "238:\tlearn: 1132.7503688\ttotal: 752ms\tremaining: 2.39s\n",
      "239:\tlearn: 1132.6738749\ttotal: 754ms\tremaining: 2.39s\n",
      "240:\tlearn: 1130.3816610\ttotal: 757ms\tremaining: 2.38s\n",
      "241:\tlearn: 1130.1958855\ttotal: 759ms\tremaining: 2.38s\n",
      "242:\tlearn: 1130.0158460\ttotal: 761ms\tremaining: 2.37s\n",
      "243:\tlearn: 1129.8411429\ttotal: 763ms\tremaining: 2.36s\n",
      "244:\tlearn: 1129.7309987\ttotal: 766ms\tremaining: 2.36s\n",
      "245:\tlearn: 1129.6571793\ttotal: 768ms\tremaining: 2.35s\n",
      "246:\tlearn: 1129.4879966\ttotal: 770ms\tremaining: 2.35s\n",
      "247:\tlearn: 1127.2537321\ttotal: 772ms\tremaining: 2.34s\n",
      "248:\tlearn: 1127.0893886\ttotal: 774ms\tremaining: 2.33s\n",
      "249:\tlearn: 1124.8289455\ttotal: 777ms\tremaining: 2.33s\n",
      "250:\tlearn: 1124.6692661\ttotal: 778ms\tremaining: 2.32s\n",
      "251:\tlearn: 1124.5144265\ttotal: 781ms\tremaining: 2.32s\n",
      "252:\tlearn: 1124.0645115\ttotal: 784ms\tremaining: 2.31s\n",
      "253:\tlearn: 1123.4333088\ttotal: 787ms\tremaining: 2.31s\n",
      "254:\tlearn: 1123.2830680\ttotal: 789ms\tremaining: 2.3s\n",
      "255:\tlearn: 1120.5052046\ttotal: 791ms\tremaining: 2.3s\n",
      "256:\tlearn: 1120.3590667\ttotal: 793ms\tremaining: 2.29s\n",
      "257:\tlearn: 1119.8632658\ttotal: 796ms\tremaining: 2.29s\n",
      "258:\tlearn: 1119.7927866\ttotal: 798ms\tremaining: 2.28s\n",
      "259:\tlearn: 1117.7370509\ttotal: 810ms\tremaining: 2.3s\n",
      "260:\tlearn: 1117.6687835\ttotal: 813ms\tremaining: 2.3s\n",
      "261:\tlearn: 1117.5269603\ttotal: 816ms\tremaining: 2.3s\n",
      "262:\tlearn: 1115.4044682\ttotal: 818ms\tremaining: 2.29s\n",
      "263:\tlearn: 1115.3379543\ttotal: 821ms\tremaining: 2.29s\n",
      "264:\tlearn: 1115.2001393\ttotal: 823ms\tremaining: 2.28s\n",
      "265:\tlearn: 1113.1382462\ttotal: 827ms\tremaining: 2.28s\n",
      "266:\tlearn: 1113.0043082\ttotal: 830ms\tremaining: 2.28s\n",
      "267:\tlearn: 1112.8744263\ttotal: 833ms\tremaining: 2.27s\n",
      "268:\tlearn: 1112.7808740\ttotal: 835ms\tremaining: 2.27s\n",
      "269:\tlearn: 1112.6861668\ttotal: 839ms\tremaining: 2.27s\n",
      "270:\tlearn: 1110.1494619\ttotal: 842ms\tremaining: 2.27s\n",
      "271:\tlearn: 1110.0233618\ttotal: 845ms\tremaining: 2.26s\n",
      "272:\tlearn: 1109.9010785\ttotal: 848ms\tremaining: 2.26s\n",
      "273:\tlearn: 1106.9802720\ttotal: 851ms\tremaining: 2.25s\n",
      "274:\tlearn: 1106.8928164\ttotal: 855ms\tremaining: 2.25s\n",
      "275:\tlearn: 1106.3639610\ttotal: 857ms\tremaining: 2.25s\n",
      "276:\tlearn: 1105.8951924\ttotal: 861ms\tremaining: 2.25s\n",
      "277:\tlearn: 1104.7136972\ttotal: 863ms\tremaining: 2.24s\n",
      "278:\tlearn: 1104.2605027\ttotal: 866ms\tremaining: 2.24s\n",
      "279:\tlearn: 1104.1718778\ttotal: 869ms\tremaining: 2.23s\n",
      "280:\tlearn: 1103.2272492\ttotal: 871ms\tremaining: 2.23s\n",
      "281:\tlearn: 1102.7928872\ttotal: 874ms\tremaining: 2.23s\n",
      "282:\tlearn: 1102.4004472\ttotal: 877ms\tremaining: 2.22s\n",
      "283:\tlearn: 1102.3179608\ttotal: 881ms\tremaining: 2.22s\n",
      "284:\tlearn: 1102.1806838\ttotal: 884ms\tremaining: 2.22s\n",
      "285:\tlearn: 1101.3158222\ttotal: 888ms\tremaining: 2.22s\n",
      "286:\tlearn: 1099.2527609\ttotal: 890ms\tremaining: 2.21s\n",
      "287:\tlearn: 1099.1199171\ttotal: 893ms\tremaining: 2.21s\n",
      "288:\tlearn: 1099.0413993\ttotal: 895ms\tremaining: 2.2s\n",
      "289:\tlearn: 1098.6758376\ttotal: 898ms\tremaining: 2.2s\n",
      "290:\tlearn: 1098.5637443\ttotal: 900ms\tremaining: 2.19s\n",
      "291:\tlearn: 1098.4391605\ttotal: 903ms\tremaining: 2.19s\n",
      "292:\tlearn: 1097.9796489\ttotal: 905ms\tremaining: 2.18s\n",
      "293:\tlearn: 1097.5740434\ttotal: 908ms\tremaining: 2.18s\n",
      "294:\tlearn: 1097.1123860\ttotal: 910ms\tremaining: 2.17s\n",
      "295:\tlearn: 1096.9918424\ttotal: 913ms\tremaining: 2.17s\n",
      "296:\tlearn: 1096.8754634\ttotal: 916ms\tremaining: 2.17s\n",
      "297:\tlearn: 1095.6688301\ttotal: 918ms\tremaining: 2.16s\n",
      "298:\tlearn: 1095.3057444\ttotal: 921ms\tremaining: 2.16s\n",
      "299:\tlearn: 1094.8980652\ttotal: 923ms\tremaining: 2.15s\n",
      "300:\tlearn: 1094.8232921\ttotal: 926ms\tremaining: 2.15s\n",
      "301:\tlearn: 1092.3256161\ttotal: 928ms\tremaining: 2.15s\n",
      "302:\tlearn: 1089.5329413\ttotal: 931ms\tremaining: 2.14s\n",
      "303:\tlearn: 1089.1368635\ttotal: 934ms\tremaining: 2.14s\n",
      "304:\tlearn: 1088.8045019\ttotal: 936ms\tremaining: 2.13s\n",
      "305:\tlearn: 1086.3690470\ttotal: 938ms\tremaining: 2.13s\n",
      "306:\tlearn: 1083.6485984\ttotal: 941ms\tremaining: 2.12s\n",
      "307:\tlearn: 1083.5750908\ttotal: 943ms\tremaining: 2.12s\n",
      "308:\tlearn: 1083.2392596\ttotal: 945ms\tremaining: 2.11s\n",
      "309:\tlearn: 1080.5931904\ttotal: 948ms\tremaining: 2.11s\n",
      "310:\tlearn: 1080.4796234\ttotal: 950ms\tremaining: 2.1s\n",
      "311:\tlearn: 1078.0991684\ttotal: 952ms\tremaining: 2.1s\n",
      "312:\tlearn: 1077.9892240\ttotal: 954ms\tremaining: 2.09s\n",
      "313:\tlearn: 1077.8830188\ttotal: 956ms\tremaining: 2.09s\n",
      "314:\tlearn: 1075.3055674\ttotal: 959ms\tremaining: 2.08s\n",
      "315:\tlearn: 1075.2561783\ttotal: 961ms\tremaining: 2.08s\n",
      "316:\tlearn: 1075.1636530\ttotal: 963ms\tremaining: 2.08s\n",
      "317:\tlearn: 1075.0717896\ttotal: 966ms\tremaining: 2.07s\n",
      "318:\tlearn: 1073.0553203\ttotal: 968ms\tremaining: 2.07s\n",
      "319:\tlearn: 1070.9756219\ttotal: 970ms\tremaining: 2.06s\n",
      "320:\tlearn: 1068.6464482\ttotal: 973ms\tremaining: 2.06s\n",
      "321:\tlearn: 1066.3834337\ttotal: 975ms\tremaining: 2.05s\n",
      "322:\tlearn: 1063.9207517\ttotal: 978ms\tremaining: 2.05s\n",
      "323:\tlearn: 1062.7524107\ttotal: 980ms\tremaining: 2.04s\n",
      "324:\tlearn: 1062.3305032\ttotal: 983ms\tremaining: 2.04s\n",
      "325:\tlearn: 1059.9340784\ttotal: 986ms\tremaining: 2.04s\n",
      "326:\tlearn: 1059.6215280\ttotal: 988ms\tremaining: 2.03s\n",
      "327:\tlearn: 1057.4087565\ttotal: 990ms\tremaining: 2.03s\n",
      "328:\tlearn: 1055.2578585\ttotal: 993ms\tremaining: 2.02s\n",
      "329:\tlearn: 1055.1670666\ttotal: 995ms\tremaining: 2.02s\n",
      "330:\tlearn: 1055.0977526\ttotal: 997ms\tremaining: 2.01s\n",
      "331:\tlearn: 1054.7036153\ttotal: 1000ms\tremaining: 2.01s\n",
      "332:\tlearn: 1052.3605859\ttotal: 1s\tremaining: 2.01s\n",
      "333:\tlearn: 1050.0864672\ttotal: 1s\tremaining: 2s\n",
      "334:\tlearn: 1048.6239305\ttotal: 1.01s\tremaining: 2s\n",
      "335:\tlearn: 1048.5353106\ttotal: 1.01s\tremaining: 2s\n",
      "336:\tlearn: 1048.4494502\ttotal: 1.01s\tremaining: 2s\n",
      "337:\tlearn: 1046.2339489\ttotal: 1.02s\tremaining: 1.99s\n",
      "338:\tlearn: 1044.1598915\ttotal: 1.02s\tremaining: 1.99s\n",
      "339:\tlearn: 1044.0923513\ttotal: 1.02s\tremaining: 1.99s\n",
      "340:\tlearn: 1044.0275934\ttotal: 1.03s\tremaining: 1.99s\n",
      "341:\tlearn: 1043.9440505\ttotal: 1.03s\tremaining: 1.98s\n",
      "342:\tlearn: 1041.8320535\ttotal: 1.03s\tremaining: 1.98s\n",
      "343:\tlearn: 1041.4391993\ttotal: 1.04s\tremaining: 1.98s\n",
      "344:\tlearn: 1039.3839424\ttotal: 1.04s\tremaining: 1.98s\n",
      "345:\tlearn: 1039.3025905\ttotal: 1.04s\tremaining: 1.98s\n",
      "346:\tlearn: 1039.2393488\ttotal: 1.05s\tremaining: 1.97s\n",
      "347:\tlearn: 1039.1782967\ttotal: 1.05s\tremaining: 1.97s\n",
      "348:\tlearn: 1038.6421335\ttotal: 1.05s\tremaining: 1.97s\n",
      "349:\tlearn: 1036.5827420\ttotal: 1.06s\tremaining: 1.96s\n",
      "350:\tlearn: 1034.4840450\ttotal: 1.06s\tremaining: 1.96s\n",
      "351:\tlearn: 1034.4048020\ttotal: 1.06s\tremaining: 1.96s\n",
      "352:\tlearn: 1034.0165259\ttotal: 1.06s\tremaining: 1.95s\n",
      "353:\tlearn: 1031.9028042\ttotal: 1.07s\tremaining: 1.95s\n",
      "354:\tlearn: 1029.9307441\ttotal: 1.07s\tremaining: 1.95s\n",
      "355:\tlearn: 1029.8535703\ttotal: 1.07s\tremaining: 1.94s\n",
      "356:\tlearn: 1029.1138755\ttotal: 1.07s\tremaining: 1.94s\n",
      "357:\tlearn: 1029.0544742\ttotal: 1.08s\tremaining: 1.93s\n",
      "358:\tlearn: 1027.0921073\ttotal: 1.08s\tremaining: 1.93s\n",
      "359:\tlearn: 1026.4508288\ttotal: 1.08s\tremaining: 1.93s\n",
      "360:\tlearn: 1026.3712559\ttotal: 1.08s\tremaining: 1.92s\n",
      "361:\tlearn: 1024.4760803\ttotal: 1.09s\tremaining: 1.92s\n",
      "362:\tlearn: 1022.4692704\ttotal: 1.09s\tremaining: 1.91s\n",
      "363:\tlearn: 1022.4118116\ttotal: 1.09s\tremaining: 1.91s\n",
      "364:\tlearn: 1022.3281714\ttotal: 1.09s\tremaining: 1.9s\n",
      "365:\tlearn: 1020.3768117\ttotal: 1.1s\tremaining: 1.9s\n",
      "366:\tlearn: 1019.9681385\ttotal: 1.1s\tremaining: 1.9s\n",
      "367:\tlearn: 1019.9147621\ttotal: 1.1s\tremaining: 1.89s\n",
      "368:\tlearn: 1019.8373004\ttotal: 1.1s\tremaining: 1.89s\n",
      "369:\tlearn: 1019.7860931\ttotal: 1.11s\tremaining: 1.88s\n",
      "370:\tlearn: 1019.7362812\ttotal: 1.11s\tremaining: 1.88s\n",
      "371:\tlearn: 1019.6650177\ttotal: 1.11s\tremaining: 1.88s\n",
      "372:\tlearn: 1019.6171925\ttotal: 1.11s\tremaining: 1.87s\n",
      "373:\tlearn: 1017.7785587\ttotal: 1.12s\tremaining: 1.87s\n",
      "374:\tlearn: 1017.7092980\ttotal: 1.12s\tremaining: 1.86s\n",
      "375:\tlearn: 1017.0900506\ttotal: 1.12s\tremaining: 1.86s\n",
      "376:\tlearn: 1014.1494022\ttotal: 1.12s\tremaining: 1.86s\n",
      "377:\tlearn: 1012.2432723\ttotal: 1.13s\tremaining: 1.85s\n",
      "378:\tlearn: 1011.8591342\ttotal: 1.13s\tremaining: 1.85s\n",
      "379:\tlearn: 1010.0543315\ttotal: 1.13s\tremaining: 1.84s\n",
      "380:\tlearn: 1008.2000303\ttotal: 1.13s\tremaining: 1.84s\n",
      "381:\tlearn: 1006.7766583\ttotal: 1.14s\tremaining: 1.84s\n",
      "382:\tlearn: 1004.9699805\ttotal: 1.14s\tremaining: 1.83s\n",
      "383:\tlearn: 1004.9019963\ttotal: 1.14s\tremaining: 1.83s\n",
      "384:\tlearn: 1003.1202378\ttotal: 1.14s\tremaining: 1.82s\n",
      "385:\tlearn: 1001.0546806\ttotal: 1.14s\tremaining: 1.82s\n",
      "386:\tlearn: 1001.0082494\ttotal: 1.15s\tremaining: 1.82s\n",
      "387:\tlearn: 1000.3694238\ttotal: 1.15s\tremaining: 1.81s\n",
      "388:\tlearn: 998.6074812\ttotal: 1.15s\tremaining: 1.81s\n",
      "389:\tlearn: 998.5370900\ttotal: 1.15s\tremaining: 1.8s\n",
      "390:\tlearn: 998.4726889\ttotal: 1.16s\tremaining: 1.8s\n",
      "391:\tlearn: 996.7622895\ttotal: 1.16s\tremaining: 1.8s\n",
      "392:\tlearn: 996.6997509\ttotal: 1.16s\tremaining: 1.79s\n",
      "393:\tlearn: 996.3404006\ttotal: 1.16s\tremaining: 1.79s\n",
      "394:\tlearn: 996.2797811\ttotal: 1.17s\tremaining: 1.78s\n",
      "395:\tlearn: 996.2346737\ttotal: 1.17s\tremaining: 1.78s\n",
      "396:\tlearn: 994.5723705\ttotal: 1.17s\tremaining: 1.78s\n",
      "397:\tlearn: 994.1711671\ttotal: 1.17s\tremaining: 1.77s\n",
      "398:\tlearn: 992.5558658\ttotal: 1.18s\tremaining: 1.77s\n",
      "399:\tlearn: 992.1991753\ttotal: 1.18s\tremaining: 1.77s\n",
      "400:\tlearn: 990.6282906\ttotal: 1.18s\tremaining: 1.76s\n",
      "401:\tlearn: 990.2826120\ttotal: 1.18s\tremaining: 1.76s\n",
      "402:\tlearn: 990.2234827\ttotal: 1.19s\tremaining: 1.76s\n",
      "403:\tlearn: 990.1065856\ttotal: 1.19s\tremaining: 1.75s\n",
      "404:\tlearn: 989.8352326\ttotal: 1.19s\tremaining: 1.75s\n",
      "405:\tlearn: 989.7778587\ttotal: 1.19s\tremaining: 1.74s\n",
      "406:\tlearn: 989.7348101\ttotal: 1.19s\tremaining: 1.74s\n",
      "407:\tlearn: 988.0144075\ttotal: 1.2s\tremaining: 1.74s\n",
      "408:\tlearn: 987.6159443\ttotal: 1.2s\tremaining: 1.73s\n",
      "409:\tlearn: 987.2311813\ttotal: 1.2s\tremaining: 1.73s\n",
      "410:\tlearn: 985.5997220\ttotal: 1.2s\tremaining: 1.73s\n",
      "411:\tlearn: 984.4730297\ttotal: 1.21s\tremaining: 1.72s\n",
      "412:\tlearn: 984.4326732\ttotal: 1.21s\tremaining: 1.72s\n",
      "413:\tlearn: 981.7441506\ttotal: 1.21s\tremaining: 1.72s\n",
      "414:\tlearn: 981.7052629\ttotal: 1.22s\tremaining: 1.71s\n",
      "415:\tlearn: 980.0420563\ttotal: 1.22s\tremaining: 1.71s\n",
      "416:\tlearn: 980.0043868\ttotal: 1.22s\tremaining: 1.71s\n",
      "417:\tlearn: 979.6630496\ttotal: 1.23s\tremaining: 1.71s\n",
      "418:\tlearn: 978.0473251\ttotal: 1.23s\tremaining: 1.7s\n",
      "419:\tlearn: 977.9906219\ttotal: 1.23s\tremaining: 1.7s\n",
      "420:\tlearn: 977.5517323\ttotal: 1.23s\tremaining: 1.7s\n",
      "421:\tlearn: 977.2594796\ttotal: 1.24s\tremaining: 1.69s\n",
      "422:\tlearn: 977.2206128\ttotal: 1.24s\tremaining: 1.69s\n",
      "423:\tlearn: 974.6683299\ttotal: 1.24s\tremaining: 1.69s\n",
      "424:\tlearn: 973.1189247\ttotal: 1.25s\tremaining: 1.69s\n",
      "425:\tlearn: 971.6140731\ttotal: 1.25s\tremaining: 1.68s\n",
      "426:\tlearn: 970.0222908\ttotal: 1.25s\tremaining: 1.68s\n",
      "427:\tlearn: 969.9668765\ttotal: 1.25s\tremaining: 1.68s\n",
      "428:\tlearn: 969.9131860\ttotal: 1.26s\tremaining: 1.67s\n",
      "429:\tlearn: 968.3480096\ttotal: 1.26s\tremaining: 1.67s\n",
      "430:\tlearn: 966.8709839\ttotal: 1.26s\tremaining: 1.67s\n",
      "431:\tlearn: 966.8187200\ttotal: 1.27s\tremaining: 1.66s\n",
      "432:\tlearn: 965.3943730\ttotal: 1.27s\tremaining: 1.66s\n",
      "433:\tlearn: 965.2882235\ttotal: 1.27s\tremaining: 1.66s\n",
      "434:\tlearn: 964.9434006\ttotal: 1.27s\tremaining: 1.65s\n",
      "435:\tlearn: 963.5594508\ttotal: 1.27s\tremaining: 1.65s\n",
      "436:\tlearn: 962.2154635\ttotal: 1.28s\tremaining: 1.65s\n",
      "437:\tlearn: 962.1645630\ttotal: 1.28s\tremaining: 1.64s\n",
      "438:\tlearn: 960.5822782\ttotal: 1.28s\tremaining: 1.64s\n",
      "439:\tlearn: 959.1262559\ttotal: 1.28s\tremaining: 1.64s\n",
      "440:\tlearn: 959.0766593\ttotal: 1.29s\tremaining: 1.63s\n",
      "441:\tlearn: 957.6627015\ttotal: 1.29s\tremaining: 1.63s\n",
      "442:\tlearn: 956.3496103\ttotal: 1.29s\tremaining: 1.62s\n",
      "443:\tlearn: 955.2974091\ttotal: 1.29s\tremaining: 1.62s\n",
      "444:\tlearn: 954.2976813\ttotal: 1.3s\tremaining: 1.62s\n",
      "445:\tlearn: 953.9691361\ttotal: 1.3s\tremaining: 1.61s\n",
      "446:\tlearn: 952.5907623\ttotal: 1.3s\tremaining: 1.61s\n",
      "447:\tlearn: 952.5422866\ttotal: 1.3s\tremaining: 1.6s\n",
      "448:\tlearn: 949.1761748\ttotal: 1.3s\tremaining: 1.6s\n",
      "449:\tlearn: 947.8328901\ttotal: 1.31s\tremaining: 1.6s\n",
      "450:\tlearn: 946.9488060\ttotal: 1.31s\tremaining: 1.59s\n",
      "451:\tlearn: 945.6432401\ttotal: 1.31s\tremaining: 1.59s\n",
      "452:\tlearn: 945.3890501\ttotal: 1.31s\tremaining: 1.59s\n",
      "453:\tlearn: 944.1060010\ttotal: 1.31s\tremaining: 1.58s\n",
      "454:\tlearn: 941.9642333\ttotal: 1.32s\tremaining: 1.58s\n",
      "455:\tlearn: 940.7300745\ttotal: 1.32s\tremaining: 1.57s\n",
      "456:\tlearn: 940.3433662\ttotal: 1.32s\tremaining: 1.57s\n",
      "457:\tlearn: 939.4809795\ttotal: 1.32s\tremaining: 1.57s\n",
      "458:\tlearn: 939.4331903\ttotal: 1.33s\tremaining: 1.56s\n",
      "459:\tlearn: 938.4419608\ttotal: 1.33s\tremaining: 1.56s\n",
      "460:\tlearn: 937.1971819\ttotal: 1.33s\tremaining: 1.56s\n",
      "461:\tlearn: 934.7013914\ttotal: 1.33s\tremaining: 1.55s\n",
      "462:\tlearn: 933.5241963\ttotal: 1.33s\tremaining: 1.55s\n",
      "463:\tlearn: 933.4736583\ttotal: 1.34s\tremaining: 1.54s\n",
      "464:\tlearn: 933.2442840\ttotal: 1.34s\tremaining: 1.54s\n",
      "465:\tlearn: 932.1010299\ttotal: 1.34s\tremaining: 1.54s\n",
      "466:\tlearn: 931.2409854\ttotal: 1.34s\tremaining: 1.53s\n",
      "467:\tlearn: 931.1956205\ttotal: 1.35s\tremaining: 1.53s\n",
      "468:\tlearn: 930.7574233\ttotal: 1.35s\tremaining: 1.53s\n",
      "469:\tlearn: 929.5198110\ttotal: 1.35s\tremaining: 1.52s\n",
      "470:\tlearn: 929.4699372\ttotal: 1.35s\tremaining: 1.52s\n",
      "471:\tlearn: 925.6437910\ttotal: 1.35s\tremaining: 1.52s\n",
      "472:\tlearn: 925.1826332\ttotal: 1.36s\tremaining: 1.51s\n",
      "473:\tlearn: 923.9812037\ttotal: 1.36s\tremaining: 1.51s\n",
      "474:\tlearn: 922.8579792\ttotal: 1.36s\tremaining: 1.51s\n",
      "475:\tlearn: 922.0327401\ttotal: 1.37s\tremaining: 1.5s\n",
      "476:\tlearn: 919.9174947\ttotal: 1.37s\tremaining: 1.5s\n",
      "477:\tlearn: 918.8263879\ttotal: 1.37s\tremaining: 1.5s\n",
      "478:\tlearn: 918.0232498\ttotal: 1.37s\tremaining: 1.49s\n",
      "479:\tlearn: 917.6180664\ttotal: 1.38s\tremaining: 1.49s\n",
      "480:\tlearn: 916.5573527\ttotal: 1.38s\tremaining: 1.49s\n",
      "481:\tlearn: 915.5258072\ttotal: 1.38s\tremaining: 1.48s\n",
      "482:\tlearn: 915.1930601\ttotal: 1.38s\tremaining: 1.48s\n",
      "483:\tlearn: 913.9703300\ttotal: 1.39s\tremaining: 1.48s\n",
      "484:\tlearn: 913.9230931\ttotal: 1.39s\tremaining: 1.47s\n",
      "485:\tlearn: 913.8807550\ttotal: 1.39s\tremaining: 1.47s\n",
      "486:\tlearn: 911.8043819\ttotal: 1.39s\tremaining: 1.47s\n",
      "487:\tlearn: 911.4806003\ttotal: 1.39s\tremaining: 1.46s\n",
      "488:\tlearn: 911.4360423\ttotal: 1.4s\tremaining: 1.46s\n",
      "489:\tlearn: 910.4289626\ttotal: 1.4s\tremaining: 1.46s\n",
      "490:\tlearn: 909.4521395\ttotal: 1.4s\tremaining: 1.45s\n",
      "491:\tlearn: 909.1211687\ttotal: 1.4s\tremaining: 1.45s\n",
      "492:\tlearn: 908.1676624\ttotal: 1.4s\tremaining: 1.44s\n",
      "493:\tlearn: 907.2449782\ttotal: 1.41s\tremaining: 1.44s\n",
      "494:\tlearn: 906.8353847\ttotal: 1.41s\tremaining: 1.44s\n",
      "495:\tlearn: 906.7918993\ttotal: 1.41s\tremaining: 1.43s\n",
      "496:\tlearn: 905.8983144\ttotal: 1.41s\tremaining: 1.43s\n",
      "497:\tlearn: 903.5061558\ttotal: 1.42s\tremaining: 1.43s\n",
      "498:\tlearn: 903.4669790\ttotal: 1.42s\tremaining: 1.43s\n",
      "499:\tlearn: 902.2700753\ttotal: 1.42s\tremaining: 1.42s\n",
      "500:\tlearn: 901.3978800\ttotal: 1.43s\tremaining: 1.42s\n",
      "501:\tlearn: 901.1434185\ttotal: 1.43s\tremaining: 1.42s\n",
      "502:\tlearn: 900.8619651\ttotal: 1.43s\tremaining: 1.41s\n",
      "503:\tlearn: 900.5444172\ttotal: 1.43s\tremaining: 1.41s\n",
      "504:\tlearn: 900.1459841\ttotal: 1.44s\tremaining: 1.41s\n",
      "505:\tlearn: 899.2996099\ttotal: 1.44s\tremaining: 1.41s\n",
      "506:\tlearn: 898.9623502\ttotal: 1.44s\tremaining: 1.4s\n",
      "507:\tlearn: 898.5763681\ttotal: 1.45s\tremaining: 1.4s\n",
      "508:\tlearn: 895.4353251\ttotal: 1.45s\tremaining: 1.4s\n",
      "509:\tlearn: 895.1173832\ttotal: 1.45s\tremaining: 1.39s\n",
      "510:\tlearn: 894.7748692\ttotal: 1.45s\tremaining: 1.39s\n",
      "511:\tlearn: 893.6187449\ttotal: 1.46s\tremaining: 1.39s\n",
      "512:\tlearn: 892.5010059\ttotal: 1.46s\tremaining: 1.39s\n",
      "513:\tlearn: 891.1460544\ttotal: 1.46s\tremaining: 1.38s\n",
      "514:\tlearn: 890.3144388\ttotal: 1.46s\tremaining: 1.38s\n",
      "515:\tlearn: 890.2784881\ttotal: 1.47s\tremaining: 1.38s\n",
      "516:\tlearn: 889.9024024\ttotal: 1.47s\tremaining: 1.37s\n",
      "517:\tlearn: 889.8313174\ttotal: 1.47s\tremaining: 1.37s\n",
      "518:\tlearn: 886.1486514\ttotal: 1.47s\tremaining: 1.37s\n",
      "519:\tlearn: 884.9864637\ttotal: 1.48s\tremaining: 1.36s\n",
      "520:\tlearn: 884.6204099\ttotal: 1.48s\tremaining: 1.36s\n",
      "521:\tlearn: 883.8118332\ttotal: 1.48s\tremaining: 1.36s\n",
      "522:\tlearn: 882.7389237\ttotal: 1.48s\tremaining: 1.35s\n",
      "523:\tlearn: 882.5974494\ttotal: 1.49s\tremaining: 1.35s\n",
      "524:\tlearn: 882.2423496\ttotal: 1.49s\tremaining: 1.35s\n",
      "525:\tlearn: 882.2082705\ttotal: 1.49s\tremaining: 1.34s\n",
      "526:\tlearn: 882.1694072\ttotal: 1.49s\tremaining: 1.34s\n",
      "527:\tlearn: 880.1402142\ttotal: 1.49s\tremaining: 1.34s\n",
      "528:\tlearn: 878.1690779\ttotal: 1.5s\tremaining: 1.33s\n",
      "529:\tlearn: 878.0325082\ttotal: 1.5s\tremaining: 1.33s\n",
      "530:\tlearn: 877.1965574\ttotal: 1.5s\tremaining: 1.33s\n",
      "531:\tlearn: 876.8509316\ttotal: 1.5s\tremaining: 1.32s\n",
      "532:\tlearn: 876.5163069\ttotal: 1.5s\tremaining: 1.32s\n",
      "533:\tlearn: 875.7490046\ttotal: 1.51s\tremaining: 1.32s\n",
      "534:\tlearn: 875.7153556\ttotal: 1.51s\tremaining: 1.31s\n",
      "535:\tlearn: 875.3912890\ttotal: 1.51s\tremaining: 1.31s\n",
      "536:\tlearn: 875.0770611\ttotal: 1.51s\tremaining: 1.31s\n",
      "537:\tlearn: 873.9799478\ttotal: 1.52s\tremaining: 1.3s\n",
      "538:\tlearn: 873.6751727\ttotal: 1.52s\tremaining: 1.3s\n",
      "539:\tlearn: 871.0312930\ttotal: 1.52s\tremaining: 1.3s\n",
      "540:\tlearn: 869.0859586\ttotal: 1.52s\tremaining: 1.29s\n",
      "541:\tlearn: 868.2363371\ttotal: 1.52s\tremaining: 1.29s\n",
      "542:\tlearn: 867.1863922\ttotal: 1.53s\tremaining: 1.29s\n",
      "543:\tlearn: 866.8550036\ttotal: 1.53s\tremaining: 1.28s\n",
      "544:\tlearn: 866.5653730\ttotal: 1.53s\tremaining: 1.28s\n",
      "545:\tlearn: 865.8130926\ttotal: 1.53s\tremaining: 1.28s\n",
      "546:\tlearn: 865.7809834\ttotal: 1.54s\tremaining: 1.27s\n",
      "547:\tlearn: 865.5001087\ttotal: 1.54s\tremaining: 1.27s\n",
      "548:\tlearn: 865.2155885\ttotal: 1.54s\tremaining: 1.27s\n",
      "549:\tlearn: 864.1705710\ttotal: 1.54s\tremaining: 1.26s\n",
      "550:\tlearn: 864.1395445\ttotal: 1.55s\tremaining: 1.26s\n",
      "551:\tlearn: 863.3333240\ttotal: 1.55s\tremaining: 1.26s\n",
      "552:\tlearn: 863.3032758\ttotal: 1.55s\tremaining: 1.25s\n",
      "553:\tlearn: 863.0280582\ttotal: 1.55s\tremaining: 1.25s\n",
      "554:\tlearn: 862.9740074\ttotal: 1.55s\tremaining: 1.25s\n",
      "555:\tlearn: 862.5094093\ttotal: 1.56s\tremaining: 1.24s\n",
      "556:\tlearn: 862.2439706\ttotal: 1.56s\tremaining: 1.24s\n",
      "557:\tlearn: 861.2458925\ttotal: 1.56s\tremaining: 1.24s\n",
      "558:\tlearn: 859.8745079\ttotal: 1.56s\tremaining: 1.23s\n",
      "559:\tlearn: 859.0909283\ttotal: 1.57s\tremaining: 1.23s\n",
      "560:\tlearn: 858.8407273\ttotal: 1.57s\tremaining: 1.23s\n",
      "561:\tlearn: 858.7881945\ttotal: 1.57s\tremaining: 1.23s\n",
      "562:\tlearn: 858.7600351\ttotal: 1.57s\tremaining: 1.22s\n",
      "563:\tlearn: 858.5101268\ttotal: 1.58s\tremaining: 1.22s\n",
      "564:\tlearn: 857.7737642\ttotal: 1.58s\tremaining: 1.22s\n",
      "565:\tlearn: 857.6466721\ttotal: 1.58s\tremaining: 1.21s\n",
      "566:\tlearn: 857.5963403\ttotal: 1.58s\tremaining: 1.21s\n",
      "567:\tlearn: 856.8817040\ttotal: 1.58s\tremaining: 1.21s\n",
      "568:\tlearn: 856.1191355\ttotal: 1.59s\tremaining: 1.2s\n",
      "569:\tlearn: 855.8255470\ttotal: 1.59s\tremaining: 1.2s\n",
      "570:\tlearn: 853.9207724\ttotal: 1.59s\tremaining: 1.2s\n",
      "571:\tlearn: 852.0724636\ttotal: 1.6s\tremaining: 1.19s\n",
      "572:\tlearn: 851.9064363\ttotal: 1.6s\tremaining: 1.19s\n",
      "573:\tlearn: 851.1604699\ttotal: 1.6s\tremaining: 1.19s\n",
      "574:\tlearn: 850.7726964\ttotal: 1.6s\tremaining: 1.19s\n",
      "575:\tlearn: 850.6523041\ttotal: 1.61s\tremaining: 1.18s\n",
      "576:\tlearn: 847.0458974\ttotal: 1.61s\tremaining: 1.18s\n",
      "577:\tlearn: 846.2999615\ttotal: 1.61s\tremaining: 1.18s\n",
      "578:\tlearn: 846.2617072\ttotal: 1.62s\tremaining: 1.18s\n",
      "579:\tlearn: 845.5551459\ttotal: 1.62s\tremaining: 1.17s\n",
      "580:\tlearn: 844.8702914\ttotal: 1.62s\tremaining: 1.17s\n",
      "581:\tlearn: 844.8439874\ttotal: 1.62s\tremaining: 1.17s\n",
      "582:\tlearn: 844.6092416\ttotal: 1.63s\tremaining: 1.16s\n",
      "583:\tlearn: 844.5712563\ttotal: 1.63s\tremaining: 1.16s\n",
      "584:\tlearn: 844.5459008\ttotal: 1.63s\tremaining: 1.16s\n",
      "585:\tlearn: 842.7336520\ttotal: 1.64s\tremaining: 1.16s\n",
      "586:\tlearn: 841.7232973\ttotal: 1.64s\tremaining: 1.15s\n",
      "587:\tlearn: 841.6986645\ttotal: 1.64s\tremaining: 1.15s\n",
      "588:\tlearn: 841.4801447\ttotal: 1.64s\tremaining: 1.15s\n",
      "589:\tlearn: 841.3640976\ttotal: 1.65s\tremaining: 1.15s\n",
      "590:\tlearn: 841.3164063\ttotal: 1.65s\tremaining: 1.14s\n",
      "591:\tlearn: 841.2931814\ttotal: 1.65s\tremaining: 1.14s\n",
      "592:\tlearn: 841.0717519\ttotal: 1.66s\tremaining: 1.14s\n",
      "593:\tlearn: 840.8660048\ttotal: 1.66s\tremaining: 1.13s\n",
      "594:\tlearn: 840.8296013\ttotal: 1.66s\tremaining: 1.13s\n",
      "595:\tlearn: 840.6436401\ttotal: 1.66s\tremaining: 1.13s\n",
      "596:\tlearn: 840.6212752\ttotal: 1.67s\tremaining: 1.12s\n",
      "597:\tlearn: 838.8558434\ttotal: 1.67s\tremaining: 1.12s\n",
      "598:\tlearn: 837.1354050\ttotal: 1.67s\tremaining: 1.12s\n",
      "599:\tlearn: 837.1134914\ttotal: 1.67s\tremaining: 1.11s\n",
      "600:\tlearn: 836.4408296\ttotal: 1.68s\tremaining: 1.11s\n",
      "601:\tlearn: 836.3977014\ttotal: 1.68s\tremaining: 1.11s\n",
      "602:\tlearn: 836.3559589\ttotal: 1.68s\tremaining: 1.11s\n",
      "603:\tlearn: 834.6871002\ttotal: 1.68s\tremaining: 1.1s\n",
      "604:\tlearn: 834.3666763\ttotal: 1.69s\tremaining: 1.1s\n",
      "605:\tlearn: 833.6152998\ttotal: 1.69s\tremaining: 1.1s\n",
      "606:\tlearn: 832.8949652\ttotal: 1.69s\tremaining: 1.09s\n",
      "607:\tlearn: 832.6783357\ttotal: 1.69s\tremaining: 1.09s\n",
      "608:\tlearn: 831.7108425\ttotal: 1.69s\tremaining: 1.09s\n",
      "609:\tlearn: 831.5006812\ttotal: 1.7s\tremaining: 1.08s\n",
      "610:\tlearn: 830.8459213\ttotal: 1.7s\tremaining: 1.08s\n",
      "611:\tlearn: 827.2675408\ttotal: 1.7s\tremaining: 1.08s\n",
      "612:\tlearn: 825.6315578\ttotal: 1.7s\tremaining: 1.07s\n",
      "613:\tlearn: 824.9899754\ttotal: 1.71s\tremaining: 1.07s\n",
      "614:\tlearn: 824.8658793\ttotal: 1.71s\tremaining: 1.07s\n",
      "615:\tlearn: 824.2334772\ttotal: 1.71s\tremaining: 1.07s\n",
      "616:\tlearn: 824.0290068\ttotal: 1.71s\tremaining: 1.06s\n",
      "617:\tlearn: 823.9163208\ttotal: 1.71s\tremaining: 1.06s\n",
      "618:\tlearn: 823.7291241\ttotal: 1.72s\tremaining: 1.06s\n",
      "619:\tlearn: 823.5308760\ttotal: 1.72s\tremaining: 1.05s\n",
      "620:\tlearn: 823.2167923\ttotal: 1.72s\tremaining: 1.05s\n",
      "621:\tlearn: 821.4179232\ttotal: 1.72s\tremaining: 1.05s\n",
      "622:\tlearn: 820.8117613\ttotal: 1.73s\tremaining: 1.04s\n",
      "623:\tlearn: 820.2207675\ttotal: 1.73s\tremaining: 1.04s\n",
      "624:\tlearn: 819.3652906\ttotal: 1.73s\tremaining: 1.04s\n",
      "625:\tlearn: 818.6522362\ttotal: 1.73s\tremaining: 1.03s\n",
      "626:\tlearn: 818.0815205\ttotal: 1.73s\tremaining: 1.03s\n",
      "627:\tlearn: 816.5136002\ttotal: 1.74s\tremaining: 1.03s\n",
      "628:\tlearn: 815.9578817\ttotal: 1.74s\tremaining: 1.02s\n",
      "629:\tlearn: 814.9764548\ttotal: 1.74s\tremaining: 1.02s\n",
      "630:\tlearn: 814.4351304\ttotal: 1.74s\tremaining: 1.02s\n",
      "631:\tlearn: 813.9119262\ttotal: 1.75s\tremaining: 1.02s\n",
      "632:\tlearn: 813.7168161\ttotal: 1.75s\tremaining: 1.01s\n",
      "633:\tlearn: 813.2045653\ttotal: 1.75s\tremaining: 1.01s\n",
      "634:\tlearn: 812.8971299\ttotal: 1.75s\tremaining: 1.01s\n",
      "635:\tlearn: 812.8761459\ttotal: 1.75s\tremaining: 1s\n",
      "636:\tlearn: 812.5641326\ttotal: 1.76s\tremaining: 1s\n",
      "637:\tlearn: 811.0450599\ttotal: 1.76s\tremaining: 999ms\n",
      "638:\tlearn: 810.9361431\ttotal: 1.76s\tremaining: 996ms\n",
      "639:\tlearn: 810.7471648\ttotal: 1.76s\tremaining: 992ms\n",
      "640:\tlearn: 810.0439473\ttotal: 1.77s\tremaining: 990ms\n",
      "641:\tlearn: 808.5030546\ttotal: 1.77s\tremaining: 987ms\n",
      "642:\tlearn: 808.0056797\ttotal: 1.77s\tremaining: 984ms\n",
      "643:\tlearn: 807.0491448\ttotal: 1.77s\tremaining: 981ms\n",
      "644:\tlearn: 806.1179537\ttotal: 1.77s\tremaining: 977ms\n",
      "645:\tlearn: 804.6666319\ttotal: 1.78s\tremaining: 974ms\n",
      "646:\tlearn: 804.1831905\ttotal: 1.78s\tremaining: 971ms\n",
      "647:\tlearn: 802.7727207\ttotal: 1.78s\tremaining: 968ms\n",
      "648:\tlearn: 801.4074411\ttotal: 1.78s\tremaining: 966ms\n",
      "649:\tlearn: 800.9366635\ttotal: 1.79s\tremaining: 963ms\n",
      "650:\tlearn: 800.8223216\ttotal: 1.79s\tremaining: 960ms\n",
      "651:\tlearn: 800.7068282\ttotal: 1.79s\tremaining: 957ms\n",
      "652:\tlearn: 799.8466985\ttotal: 1.8s\tremaining: 955ms\n",
      "653:\tlearn: 798.5204665\ttotal: 1.8s\tremaining: 952ms\n",
      "654:\tlearn: 798.3337856\ttotal: 1.8s\tremaining: 950ms\n",
      "655:\tlearn: 797.8738838\ttotal: 1.81s\tremaining: 947ms\n",
      "656:\tlearn: 797.6928875\ttotal: 1.81s\tremaining: 944ms\n",
      "657:\tlearn: 797.5174940\ttotal: 1.81s\tremaining: 942ms\n",
      "658:\tlearn: 797.3475156\ttotal: 1.81s\tremaining: 939ms\n",
      "659:\tlearn: 793.7359160\ttotal: 1.82s\tremaining: 937ms\n",
      "660:\tlearn: 793.4104965\ttotal: 1.82s\tremaining: 934ms\n",
      "661:\tlearn: 792.1162922\ttotal: 1.82s\tremaining: 931ms\n",
      "662:\tlearn: 792.0087929\ttotal: 1.83s\tremaining: 929ms\n",
      "663:\tlearn: 790.7420188\ttotal: 1.83s\tremaining: 926ms\n",
      "664:\tlearn: 789.8659989\ttotal: 1.83s\tremaining: 924ms\n",
      "665:\tlearn: 789.4166021\ttotal: 1.84s\tremaining: 921ms\n",
      "666:\tlearn: 789.2501458\ttotal: 1.84s\tremaining: 919ms\n",
      "667:\tlearn: 788.3826166\ttotal: 1.84s\tremaining: 916ms\n",
      "668:\tlearn: 787.4000964\ttotal: 1.84s\tremaining: 913ms\n",
      "669:\tlearn: 787.2485192\ttotal: 1.85s\tremaining: 910ms\n",
      "670:\tlearn: 786.8114435\ttotal: 1.85s\tremaining: 907ms\n",
      "671:\tlearn: 786.6498569\ttotal: 1.85s\tremaining: 904ms\n",
      "672:\tlearn: 786.3435030\ttotal: 1.85s\tremaining: 901ms\n",
      "673:\tlearn: 786.1866020\ttotal: 1.86s\tremaining: 898ms\n",
      "674:\tlearn: 785.5183337\ttotal: 1.86s\tremaining: 895ms\n",
      "675:\tlearn: 785.3819302\ttotal: 1.86s\tremaining: 892ms\n",
      "676:\tlearn: 784.9394299\ttotal: 1.86s\tremaining: 889ms\n",
      "677:\tlearn: 784.5261509\ttotal: 1.86s\tremaining: 886ms\n",
      "678:\tlearn: 783.7231154\ttotal: 1.87s\tremaining: 883ms\n",
      "679:\tlearn: 783.5705044\ttotal: 1.87s\tremaining: 880ms\n",
      "680:\tlearn: 782.2883116\ttotal: 1.87s\tremaining: 877ms\n",
      "681:\tlearn: 782.1621183\ttotal: 1.87s\tremaining: 874ms\n",
      "682:\tlearn: 781.7065345\ttotal: 1.88s\tremaining: 871ms\n",
      "683:\tlearn: 781.6294221\ttotal: 1.88s\tremaining: 868ms\n",
      "684:\tlearn: 781.4857738\ttotal: 1.88s\tremaining: 865ms\n",
      "685:\tlearn: 778.6885085\ttotal: 1.88s\tremaining: 862ms\n",
      "686:\tlearn: 777.4787665\ttotal: 1.89s\tremaining: 859ms\n",
      "687:\tlearn: 776.7935649\ttotal: 1.89s\tremaining: 856ms\n",
      "688:\tlearn: 776.7487780\ttotal: 1.89s\tremaining: 853ms\n",
      "689:\tlearn: 775.5623807\ttotal: 1.89s\tremaining: 850ms\n",
      "690:\tlearn: 774.7743853\ttotal: 1.89s\tremaining: 847ms\n",
      "691:\tlearn: 771.2759010\ttotal: 1.9s\tremaining: 844ms\n",
      "692:\tlearn: 770.8691505\ttotal: 1.9s\tremaining: 841ms\n",
      "693:\tlearn: 770.7716906\ttotal: 1.9s\tremaining: 838ms\n",
      "694:\tlearn: 770.2582970\ttotal: 1.9s\tremaining: 835ms\n",
      "695:\tlearn: 769.4914162\ttotal: 1.91s\tremaining: 833ms\n",
      "696:\tlearn: 769.2561124\ttotal: 1.91s\tremaining: 830ms\n",
      "697:\tlearn: 769.1145696\ttotal: 1.91s\tremaining: 826ms\n",
      "698:\tlearn: 767.9610064\ttotal: 1.91s\tremaining: 824ms\n",
      "699:\tlearn: 767.4226057\ttotal: 1.91s\tremaining: 821ms\n",
      "700:\tlearn: 763.9998158\ttotal: 1.92s\tremaining: 818ms\n",
      "701:\tlearn: 763.9070470\ttotal: 1.92s\tremaining: 815ms\n",
      "702:\tlearn: 763.5157767\ttotal: 1.92s\tremaining: 812ms\n",
      "703:\tlearn: 763.1291372\ttotal: 1.92s\tremaining: 809ms\n",
      "704:\tlearn: 763.0327355\ttotal: 1.93s\tremaining: 806ms\n",
      "705:\tlearn: 763.0119326\ttotal: 1.93s\tremaining: 803ms\n",
      "706:\tlearn: 761.8776698\ttotal: 1.93s\tremaining: 800ms\n",
      "707:\tlearn: 761.7986092\ttotal: 1.93s\tremaining: 797ms\n",
      "708:\tlearn: 761.0217176\ttotal: 1.93s\tremaining: 794ms\n",
      "709:\tlearn: 760.9131717\ttotal: 1.94s\tremaining: 791ms\n",
      "710:\tlearn: 760.1401916\ttotal: 1.94s\tremaining: 788ms\n",
      "711:\tlearn: 759.0089493\ttotal: 1.94s\tremaining: 785ms\n",
      "712:\tlearn: 757.9442902\ttotal: 1.94s\tremaining: 782ms\n",
      "713:\tlearn: 757.8053094\ttotal: 1.95s\tremaining: 780ms\n",
      "714:\tlearn: 756.7712090\ttotal: 1.95s\tremaining: 777ms\n",
      "715:\tlearn: 756.1346635\ttotal: 1.95s\tremaining: 774ms\n",
      "716:\tlearn: 756.0926883\ttotal: 1.95s\tremaining: 771ms\n",
      "717:\tlearn: 755.3745902\ttotal: 1.96s\tremaining: 768ms\n",
      "718:\tlearn: 755.2883723\ttotal: 1.96s\tremaining: 765ms\n",
      "719:\tlearn: 755.1391236\ttotal: 1.96s\tremaining: 762ms\n",
      "720:\tlearn: 755.0062376\ttotal: 1.96s\tremaining: 760ms\n",
      "721:\tlearn: 754.3868333\ttotal: 1.97s\tremaining: 757ms\n",
      "722:\tlearn: 753.3793725\ttotal: 1.97s\tremaining: 754ms\n",
      "723:\tlearn: 753.2278624\ttotal: 1.97s\tremaining: 751ms\n",
      "724:\tlearn: 753.1224415\ttotal: 1.97s\tremaining: 748ms\n",
      "725:\tlearn: 752.4256728\ttotal: 1.97s\tremaining: 745ms\n",
      "726:\tlearn: 752.4062933\ttotal: 1.98s\tremaining: 742ms\n",
      "727:\tlearn: 751.7954700\ttotal: 1.98s\tremaining: 740ms\n",
      "728:\tlearn: 751.1194309\ttotal: 1.98s\tremaining: 737ms\n",
      "729:\tlearn: 750.1384254\ttotal: 1.98s\tremaining: 734ms\n",
      "730:\tlearn: 750.0089870\ttotal: 1.99s\tremaining: 731ms\n",
      "731:\tlearn: 749.6146027\ttotal: 1.99s\tremaining: 728ms\n",
      "732:\tlearn: 748.8921165\ttotal: 1.99s\tremaining: 726ms\n",
      "733:\tlearn: 748.5054222\ttotal: 2s\tremaining: 723ms\n",
      "734:\tlearn: 748.3748444\ttotal: 2s\tremaining: 721ms\n",
      "735:\tlearn: 748.0148619\ttotal: 2s\tremaining: 718ms\n",
      "736:\tlearn: 747.9131985\ttotal: 2s\tremaining: 715ms\n",
      "737:\tlearn: 747.3258270\ttotal: 2.01s\tremaining: 713ms\n",
      "738:\tlearn: 747.3066702\ttotal: 2.01s\tremaining: 710ms\n",
      "739:\tlearn: 746.3694287\ttotal: 2.01s\tremaining: 707ms\n",
      "740:\tlearn: 746.2671380\ttotal: 2.02s\tremaining: 705ms\n",
      "741:\tlearn: 746.0229990\ttotal: 2.02s\tremaining: 702ms\n",
      "742:\tlearn: 745.8948765\ttotal: 2.02s\tremaining: 700ms\n",
      "743:\tlearn: 745.5766112\ttotal: 2.03s\tremaining: 697ms\n",
      "744:\tlearn: 744.6642980\ttotal: 2.03s\tremaining: 694ms\n",
      "745:\tlearn: 744.6258542\ttotal: 2.03s\tremaining: 692ms\n",
      "746:\tlearn: 741.2180701\ttotal: 2.03s\tremaining: 689ms\n",
      "747:\tlearn: 741.1824436\ttotal: 2.04s\tremaining: 687ms\n",
      "748:\tlearn: 740.8299287\ttotal: 2.04s\tremaining: 684ms\n",
      "749:\tlearn: 739.9161041\ttotal: 2.04s\tremaining: 682ms\n",
      "750:\tlearn: 739.5563498\ttotal: 2.05s\tremaining: 679ms\n",
      "751:\tlearn: 739.1990238\ttotal: 2.05s\tremaining: 676ms\n",
      "752:\tlearn: 738.3077610\ttotal: 2.05s\tremaining: 674ms\n",
      "753:\tlearn: 734.9995125\ttotal: 2.06s\tremaining: 671ms\n",
      "754:\tlearn: 734.9220498\ttotal: 2.06s\tremaining: 668ms\n",
      "755:\tlearn: 734.7420850\ttotal: 2.06s\tremaining: 665ms\n",
      "756:\tlearn: 734.6582213\ttotal: 2.06s\tremaining: 663ms\n",
      "757:\tlearn: 734.5281166\ttotal: 2.07s\tremaining: 660ms\n",
      "758:\tlearn: 734.4448340\ttotal: 2.07s\tremaining: 657ms\n",
      "759:\tlearn: 733.8647783\ttotal: 2.07s\tremaining: 655ms\n",
      "760:\tlearn: 733.7725494\ttotal: 2.08s\tremaining: 652ms\n",
      "761:\tlearn: 732.8947569\ttotal: 2.08s\tremaining: 649ms\n",
      "762:\tlearn: 732.8540401\ttotal: 2.08s\tremaining: 646ms\n",
      "763:\tlearn: 732.1810086\ttotal: 2.08s\tremaining: 643ms\n",
      "764:\tlearn: 732.1635066\ttotal: 2.08s\tremaining: 641ms\n",
      "765:\tlearn: 731.8283980\ttotal: 2.09s\tremaining: 638ms\n",
      "766:\tlearn: 730.7157445\ttotal: 2.09s\tremaining: 635ms\n",
      "767:\tlearn: 730.6142631\ttotal: 2.09s\tremaining: 632ms\n",
      "768:\tlearn: 730.5323232\ttotal: 2.1s\tremaining: 629ms\n",
      "769:\tlearn: 729.8775353\ttotal: 2.1s\tremaining: 627ms\n",
      "770:\tlearn: 729.8016678\ttotal: 2.1s\tremaining: 624ms\n",
      "771:\tlearn: 729.1193138\ttotal: 2.1s\tremaining: 621ms\n",
      "772:\tlearn: 725.8630800\ttotal: 2.1s\tremaining: 618ms\n",
      "773:\tlearn: 725.7930295\ttotal: 2.11s\tremaining: 615ms\n",
      "774:\tlearn: 725.4273237\ttotal: 2.11s\tremaining: 612ms\n",
      "775:\tlearn: 725.3590840\ttotal: 2.11s\tremaining: 610ms\n",
      "776:\tlearn: 724.5049100\ttotal: 2.11s\tremaining: 607ms\n",
      "777:\tlearn: 723.8839554\ttotal: 2.12s\tremaining: 604ms\n",
      "778:\tlearn: 723.8229183\ttotal: 2.12s\tremaining: 601ms\n",
      "779:\tlearn: 723.4802216\ttotal: 2.12s\tremaining: 598ms\n",
      "780:\tlearn: 722.9094797\ttotal: 2.12s\tremaining: 596ms\n",
      "781:\tlearn: 722.8915369\ttotal: 2.13s\tremaining: 593ms\n",
      "782:\tlearn: 722.8750631\ttotal: 2.13s\tremaining: 590ms\n",
      "783:\tlearn: 722.6677610\ttotal: 2.13s\tremaining: 587ms\n",
      "784:\tlearn: 722.5304110\ttotal: 2.13s\tremaining: 584ms\n",
      "785:\tlearn: 722.4696646\ttotal: 2.13s\tremaining: 582ms\n",
      "786:\tlearn: 721.8656286\ttotal: 2.14s\tremaining: 579ms\n",
      "787:\tlearn: 721.3108708\ttotal: 2.14s\tremaining: 576ms\n",
      "788:\tlearn: 720.7726565\ttotal: 2.14s\tremaining: 573ms\n",
      "789:\tlearn: 720.4496309\ttotal: 2.15s\tremaining: 570ms\n",
      "790:\tlearn: 720.3606379\ttotal: 2.15s\tremaining: 568ms\n",
      "791:\tlearn: 720.1976825\ttotal: 2.15s\tremaining: 565ms\n",
      "792:\tlearn: 719.6101502\ttotal: 2.15s\tremaining: 562ms\n",
      "793:\tlearn: 719.0869003\ttotal: 2.16s\tremaining: 559ms\n",
      "794:\tlearn: 719.0230807\ttotal: 2.16s\tremaining: 557ms\n",
      "795:\tlearn: 718.5152765\ttotal: 2.16s\tremaining: 554ms\n",
      "796:\tlearn: 717.6833124\ttotal: 2.16s\tremaining: 551ms\n",
      "797:\tlearn: 717.1138307\ttotal: 2.17s\tremaining: 548ms\n",
      "798:\tlearn: 716.3055486\ttotal: 2.17s\tremaining: 546ms\n",
      "799:\tlearn: 715.9938198\ttotal: 2.17s\tremaining: 543ms\n",
      "800:\tlearn: 715.9563498\ttotal: 2.17s\tremaining: 540ms\n",
      "801:\tlearn: 715.6300490\ttotal: 2.18s\tremaining: 538ms\n",
      "802:\tlearn: 714.8445060\ttotal: 2.18s\tremaining: 535ms\n",
      "803:\tlearn: 714.7146502\ttotal: 2.18s\tremaining: 532ms\n",
      "804:\tlearn: 714.2651875\ttotal: 2.19s\tremaining: 530ms\n",
      "805:\tlearn: 713.9712675\ttotal: 2.19s\tremaining: 527ms\n",
      "806:\tlearn: 713.9101622\ttotal: 2.19s\tremaining: 524ms\n",
      "807:\tlearn: 713.6251484\ttotal: 2.2s\tremaining: 522ms\n",
      "808:\tlearn: 713.5007842\ttotal: 2.2s\tremaining: 519ms\n",
      "809:\tlearn: 713.4113571\ttotal: 2.2s\tremaining: 517ms\n",
      "810:\tlearn: 712.9150039\ttotal: 2.21s\tremaining: 514ms\n",
      "811:\tlearn: 712.3591221\ttotal: 2.21s\tremaining: 511ms\n",
      "812:\tlearn: 711.8160008\ttotal: 2.21s\tremaining: 508ms\n",
      "813:\tlearn: 711.7593898\ttotal: 2.21s\tremaining: 506ms\n",
      "814:\tlearn: 710.9934808\ttotal: 2.22s\tremaining: 503ms\n",
      "815:\tlearn: 710.9382156\ttotal: 2.22s\tremaining: 501ms\n",
      "816:\tlearn: 710.1944937\ttotal: 2.22s\tremaining: 498ms\n",
      "817:\tlearn: 709.7109453\ttotal: 2.23s\tremaining: 495ms\n",
      "818:\tlearn: 709.5735911\ttotal: 2.23s\tremaining: 493ms\n",
      "819:\tlearn: 709.0483776\ttotal: 2.23s\tremaining: 490ms\n",
      "820:\tlearn: 708.9620476\ttotal: 2.23s\tremaining: 487ms\n",
      "821:\tlearn: 708.4922693\ttotal: 2.24s\tremaining: 485ms\n",
      "822:\tlearn: 708.2908693\ttotal: 2.24s\tremaining: 482ms\n",
      "823:\tlearn: 706.3466187\ttotal: 2.24s\tremaining: 479ms\n",
      "824:\tlearn: 706.2381053\ttotal: 2.24s\tremaining: 476ms\n",
      "825:\tlearn: 705.9357648\ttotal: 2.25s\tremaining: 473ms\n",
      "826:\tlearn: 705.3826586\ttotal: 2.25s\tremaining: 471ms\n",
      "827:\tlearn: 705.1918860\ttotal: 2.25s\tremaining: 468ms\n",
      "828:\tlearn: 704.8984189\ttotal: 2.25s\tremaining: 465ms\n",
      "829:\tlearn: 704.1686336\ttotal: 2.26s\tremaining: 462ms\n",
      "830:\tlearn: 703.8883732\ttotal: 2.26s\tremaining: 460ms\n",
      "831:\tlearn: 702.8112107\ttotal: 2.26s\tremaining: 457ms\n",
      "832:\tlearn: 702.5168866\ttotal: 2.27s\tremaining: 454ms\n",
      "833:\tlearn: 702.4409721\ttotal: 2.27s\tremaining: 451ms\n",
      "834:\tlearn: 701.8795819\ttotal: 2.27s\tremaining: 449ms\n",
      "835:\tlearn: 701.8400702\ttotal: 2.27s\tremaining: 446ms\n",
      "836:\tlearn: 700.9497437\ttotal: 2.28s\tremaining: 443ms\n",
      "837:\tlearn: 700.8766370\ttotal: 2.28s\tremaining: 440ms\n",
      "838:\tlearn: 700.6955455\ttotal: 2.28s\tremaining: 438ms\n",
      "839:\tlearn: 700.5242765\ttotal: 2.28s\tremaining: 435ms\n",
      "840:\tlearn: 699.9805293\ttotal: 2.29s\tremaining: 432ms\n",
      "841:\tlearn: 699.8493424\ttotal: 2.29s\tremaining: 430ms\n",
      "842:\tlearn: 698.8211747\ttotal: 2.29s\tremaining: 427ms\n",
      "843:\tlearn: 698.6939149\ttotal: 2.29s\tremaining: 424ms\n",
      "844:\tlearn: 698.0202321\ttotal: 2.3s\tremaining: 422ms\n",
      "845:\tlearn: 697.7531288\ttotal: 2.3s\tremaining: 419ms\n",
      "846:\tlearn: 697.6992703\ttotal: 2.3s\tremaining: 416ms\n",
      "847:\tlearn: 697.5610294\ttotal: 2.31s\tremaining: 413ms\n",
      "848:\tlearn: 695.7533599\ttotal: 2.31s\tremaining: 411ms\n",
      "849:\tlearn: 695.2891798\ttotal: 2.31s\tremaining: 408ms\n",
      "850:\tlearn: 694.6232963\ttotal: 2.31s\tremaining: 405ms\n",
      "851:\tlearn: 694.4331424\ttotal: 2.32s\tremaining: 403ms\n",
      "852:\tlearn: 694.3039930\ttotal: 2.32s\tremaining: 400ms\n",
      "853:\tlearn: 694.1800220\ttotal: 2.33s\tremaining: 398ms\n",
      "854:\tlearn: 692.0593695\ttotal: 2.33s\tremaining: 395ms\n",
      "855:\tlearn: 691.6069137\ttotal: 2.33s\tremaining: 392ms\n",
      "856:\tlearn: 691.4236790\ttotal: 2.33s\tremaining: 389ms\n",
      "857:\tlearn: 691.2607488\ttotal: 2.34s\tremaining: 387ms\n",
      "858:\tlearn: 691.1893594\ttotal: 2.34s\tremaining: 384ms\n",
      "859:\tlearn: 691.1023257\ttotal: 2.34s\tremaining: 381ms\n",
      "860:\tlearn: 691.0337234\ttotal: 2.35s\tremaining: 379ms\n",
      "861:\tlearn: 690.9510720\ttotal: 2.35s\tremaining: 376ms\n",
      "862:\tlearn: 690.7698829\ttotal: 2.35s\tremaining: 373ms\n",
      "863:\tlearn: 690.7374810\ttotal: 2.35s\tremaining: 370ms\n",
      "864:\tlearn: 690.0539137\ttotal: 2.36s\tremaining: 368ms\n",
      "865:\tlearn: 686.9446444\ttotal: 2.36s\tremaining: 365ms\n",
      "866:\tlearn: 686.9279483\ttotal: 2.36s\tremaining: 362ms\n",
      "867:\tlearn: 686.4815036\ttotal: 2.36s\tremaining: 360ms\n",
      "868:\tlearn: 686.1057266\ttotal: 2.37s\tremaining: 357ms\n",
      "869:\tlearn: 686.0392211\ttotal: 2.37s\tremaining: 354ms\n",
      "870:\tlearn: 685.8714189\ttotal: 2.37s\tremaining: 352ms\n",
      "871:\tlearn: 685.6160051\ttotal: 2.38s\tremaining: 349ms\n",
      "872:\tlearn: 685.5562845\ttotal: 2.38s\tremaining: 346ms\n",
      "873:\tlearn: 685.1153507\ttotal: 2.38s\tremaining: 344ms\n",
      "874:\tlearn: 684.5379963\ttotal: 2.39s\tremaining: 341ms\n",
      "875:\tlearn: 684.4230028\ttotal: 2.39s\tremaining: 338ms\n",
      "876:\tlearn: 684.3588142\ttotal: 2.39s\tremaining: 336ms\n",
      "877:\tlearn: 684.2815782\ttotal: 2.4s\tremaining: 333ms\n",
      "878:\tlearn: 684.2197957\ttotal: 2.4s\tremaining: 330ms\n",
      "879:\tlearn: 683.6611230\ttotal: 2.4s\tremaining: 327ms\n",
      "880:\tlearn: 683.6189082\ttotal: 2.4s\tremaining: 325ms\n",
      "881:\tlearn: 682.9669950\ttotal: 2.41s\tremaining: 322ms\n",
      "882:\tlearn: 682.5453105\ttotal: 2.41s\tremaining: 319ms\n",
      "883:\tlearn: 681.9398558\ttotal: 2.41s\tremaining: 317ms\n",
      "884:\tlearn: 681.0831937\ttotal: 2.42s\tremaining: 314ms\n",
      "885:\tlearn: 678.0262440\ttotal: 2.42s\tremaining: 311ms\n",
      "886:\tlearn: 675.0552183\ttotal: 2.42s\tremaining: 309ms\n",
      "887:\tlearn: 674.9424888\ttotal: 2.42s\tremaining: 306ms\n",
      "888:\tlearn: 672.0353804\ttotal: 2.43s\tremaining: 303ms\n",
      "889:\tlearn: 671.8872768\ttotal: 2.43s\tremaining: 300ms\n",
      "890:\tlearn: 671.7353669\ttotal: 2.43s\tremaining: 298ms\n",
      "891:\tlearn: 671.6382961\ttotal: 2.44s\tremaining: 295ms\n",
      "892:\tlearn: 671.5033170\ttotal: 2.44s\tremaining: 292ms\n",
      "893:\tlearn: 671.2136566\ttotal: 2.44s\tremaining: 289ms\n",
      "894:\tlearn: 671.1987804\ttotal: 2.44s\tremaining: 287ms\n",
      "895:\tlearn: 671.1844939\ttotal: 2.45s\tremaining: 284ms\n",
      "896:\tlearn: 671.1305190\ttotal: 2.45s\tremaining: 281ms\n",
      "897:\tlearn: 671.1165728\ttotal: 2.45s\tremaining: 278ms\n",
      "898:\tlearn: 670.9855868\ttotal: 2.45s\tremaining: 276ms\n",
      "899:\tlearn: 670.9710694\ttotal: 2.46s\tremaining: 273ms\n",
      "900:\tlearn: 670.8915517\ttotal: 2.46s\tremaining: 270ms\n",
      "901:\tlearn: 670.4784399\ttotal: 2.46s\tremaining: 267ms\n",
      "902:\tlearn: 670.3514217\ttotal: 2.46s\tremaining: 265ms\n",
      "903:\tlearn: 669.8086075\ttotal: 2.47s\tremaining: 262ms\n",
      "904:\tlearn: 668.8482595\ttotal: 2.47s\tremaining: 259ms\n",
      "905:\tlearn: 668.8361302\ttotal: 2.47s\tremaining: 256ms\n",
      "906:\tlearn: 668.8031001\ttotal: 2.48s\tremaining: 254ms\n",
      "907:\tlearn: 668.7525007\ttotal: 2.48s\tremaining: 251ms\n",
      "908:\tlearn: 668.2082240\ttotal: 2.48s\tremaining: 248ms\n",
      "909:\tlearn: 667.6809906\ttotal: 2.48s\tremaining: 246ms\n",
      "910:\tlearn: 667.6720526\ttotal: 2.48s\tremaining: 243ms\n",
      "911:\tlearn: 667.0576881\ttotal: 2.49s\tremaining: 240ms\n",
      "912:\tlearn: 664.2072542\ttotal: 2.49s\tremaining: 237ms\n",
      "913:\tlearn: 663.6932325\ttotal: 2.49s\tremaining: 235ms\n",
      "914:\tlearn: 663.6325211\ttotal: 2.5s\tremaining: 232ms\n",
      "915:\tlearn: 663.4833433\ttotal: 2.5s\tremaining: 229ms\n",
      "916:\tlearn: 663.3586937\ttotal: 2.5s\tremaining: 226ms\n",
      "917:\tlearn: 662.6894266\ttotal: 2.5s\tremaining: 224ms\n",
      "918:\tlearn: 662.6308469\ttotal: 2.5s\tremaining: 221ms\n",
      "919:\tlearn: 662.5407721\ttotal: 2.51s\tremaining: 218ms\n",
      "920:\tlearn: 662.1838109\ttotal: 2.51s\tremaining: 215ms\n",
      "921:\tlearn: 661.7244623\ttotal: 2.51s\tremaining: 213ms\n",
      "922:\tlearn: 661.6977278\ttotal: 2.52s\tremaining: 210ms\n",
      "923:\tlearn: 661.1001379\ttotal: 2.52s\tremaining: 207ms\n",
      "924:\tlearn: 660.9945392\ttotal: 2.52s\tremaining: 204ms\n",
      "925:\tlearn: 660.8582752\ttotal: 2.52s\tremaining: 202ms\n",
      "926:\tlearn: 660.5707540\ttotal: 2.53s\tremaining: 199ms\n",
      "927:\tlearn: 659.9471187\ttotal: 2.53s\tremaining: 196ms\n",
      "928:\tlearn: 657.1799677\ttotal: 2.53s\tremaining: 194ms\n",
      "929:\tlearn: 656.5909671\ttotal: 2.54s\tremaining: 191ms\n",
      "930:\tlearn: 656.4696202\ttotal: 2.54s\tremaining: 188ms\n",
      "931:\tlearn: 655.0704566\ttotal: 2.54s\tremaining: 185ms\n",
      "932:\tlearn: 652.4106907\ttotal: 2.54s\tremaining: 183ms\n",
      "933:\tlearn: 649.8214806\ttotal: 2.54s\tremaining: 180ms\n",
      "934:\tlearn: 647.3011363\ttotal: 2.55s\tremaining: 177ms\n",
      "935:\tlearn: 644.8480026\ttotal: 2.55s\tremaining: 174ms\n",
      "936:\tlearn: 644.2697092\ttotal: 2.55s\tremaining: 172ms\n",
      "937:\tlearn: 643.9989964\ttotal: 2.55s\tremaining: 169ms\n",
      "938:\tlearn: 643.8736644\ttotal: 2.56s\tremaining: 166ms\n",
      "939:\tlearn: 641.4825371\ttotal: 2.56s\tremaining: 163ms\n",
      "940:\tlearn: 641.1972051\ttotal: 2.56s\tremaining: 161ms\n",
      "941:\tlearn: 641.0800976\ttotal: 2.56s\tremaining: 158ms\n",
      "942:\tlearn: 640.9501103\ttotal: 2.57s\tremaining: 155ms\n",
      "943:\tlearn: 638.6032018\ttotal: 2.57s\tremaining: 153ms\n",
      "944:\tlearn: 638.5952753\ttotal: 2.57s\tremaining: 150ms\n",
      "945:\tlearn: 638.2897210\ttotal: 2.58s\tremaining: 147ms\n",
      "946:\tlearn: 638.1845063\ttotal: 2.58s\tremaining: 144ms\n",
      "947:\tlearn: 635.9163051\ttotal: 2.58s\tremaining: 142ms\n",
      "948:\tlearn: 635.8100278\ttotal: 2.59s\tremaining: 139ms\n",
      "949:\tlearn: 635.2540807\ttotal: 2.59s\tremaining: 136ms\n",
      "950:\tlearn: 635.0890495\ttotal: 2.59s\tremaining: 134ms\n",
      "951:\tlearn: 634.5328951\ttotal: 2.6s\tremaining: 131ms\n",
      "952:\tlearn: 634.3763904\ttotal: 2.6s\tremaining: 128ms\n",
      "953:\tlearn: 634.2695429\ttotal: 2.6s\tremaining: 125ms\n",
      "954:\tlearn: 633.9908014\ttotal: 2.61s\tremaining: 123ms\n",
      "955:\tlearn: 633.8232603\ttotal: 2.61s\tremaining: 120ms\n",
      "956:\tlearn: 633.7613301\ttotal: 2.61s\tremaining: 117ms\n",
      "957:\tlearn: 633.6079365\ttotal: 2.61s\tremaining: 115ms\n",
      "958:\tlearn: 633.0832202\ttotal: 2.62s\tremaining: 112ms\n",
      "959:\tlearn: 632.9604582\ttotal: 2.62s\tremaining: 109ms\n",
      "960:\tlearn: 632.9118858\ttotal: 2.62s\tremaining: 106ms\n",
      "961:\tlearn: 632.8498329\ttotal: 2.63s\tremaining: 104ms\n",
      "962:\tlearn: 632.7832547\ttotal: 2.63s\tremaining: 101ms\n",
      "963:\tlearn: 632.2346333\ttotal: 2.63s\tremaining: 98.3ms\n",
      "964:\tlearn: 631.8408570\ttotal: 2.63s\tremaining: 95.6ms\n",
      "965:\tlearn: 631.7372688\ttotal: 2.64s\tremaining: 92.8ms\n",
      "966:\tlearn: 631.6613073\ttotal: 2.64s\tremaining: 90.1ms\n",
      "967:\tlearn: 631.4691828\ttotal: 2.64s\tremaining: 87.4ms\n",
      "968:\tlearn: 629.2547851\ttotal: 2.65s\tremaining: 84.7ms\n",
      "969:\tlearn: 629.1356159\ttotal: 2.65s\tremaining: 81.9ms\n",
      "970:\tlearn: 628.6165598\ttotal: 2.65s\tremaining: 79.2ms\n",
      "971:\tlearn: 628.4978503\ttotal: 2.65s\tremaining: 76.5ms\n",
      "972:\tlearn: 626.3405208\ttotal: 2.66s\tremaining: 73.7ms\n",
      "973:\tlearn: 626.0648854\ttotal: 2.66s\tremaining: 71ms\n",
      "974:\tlearn: 625.7156494\ttotal: 2.66s\tremaining: 68.3ms\n",
      "975:\tlearn: 625.2832887\ttotal: 2.67s\tremaining: 65.5ms\n",
      "976:\tlearn: 624.7538005\ttotal: 2.67s\tremaining: 62.8ms\n",
      "977:\tlearn: 624.2357870\ttotal: 2.67s\tremaining: 60.1ms\n",
      "978:\tlearn: 624.1190226\ttotal: 2.67s\tremaining: 57.3ms\n",
      "979:\tlearn: 624.0201743\ttotal: 2.68s\tremaining: 54.6ms\n",
      "980:\tlearn: 623.9574755\ttotal: 2.68s\tremaining: 51.9ms\n",
      "981:\tlearn: 623.4148872\ttotal: 2.68s\tremaining: 49.2ms\n",
      "982:\tlearn: 621.3059204\ttotal: 2.68s\tremaining: 46.4ms\n",
      "983:\tlearn: 620.8838218\ttotal: 2.69s\tremaining: 43.7ms\n",
      "984:\tlearn: 620.5872751\ttotal: 2.69s\tremaining: 41ms\n",
      "985:\tlearn: 620.1802006\ttotal: 2.69s\tremaining: 38.2ms\n",
      "986:\tlearn: 620.0839440\ttotal: 2.69s\tremaining: 35.5ms\n",
      "987:\tlearn: 619.9645527\ttotal: 2.7s\tremaining: 32.8ms\n",
      "988:\tlearn: 619.8506464\ttotal: 2.7s\tremaining: 30ms\n",
      "989:\tlearn: 617.7938916\ttotal: 2.7s\tremaining: 27.3ms\n",
      "990:\tlearn: 615.7929185\ttotal: 2.71s\tremaining: 24.6ms\n",
      "991:\tlearn: 613.8463464\ttotal: 2.71s\tremaining: 21.8ms\n",
      "992:\tlearn: 613.7269533\ttotal: 2.71s\tremaining: 19.1ms\n",
      "993:\tlearn: 613.6154907\ttotal: 2.71s\tremaining: 16.4ms\n",
      "994:\tlearn: 613.5296270\ttotal: 2.72s\tremaining: 13.7ms\n",
      "995:\tlearn: 613.4709169\ttotal: 2.72s\tremaining: 10.9ms\n",
      "996:\tlearn: 611.5764107\ttotal: 2.72s\tremaining: 8.19ms\n",
      "997:\tlearn: 610.7586868\ttotal: 2.73s\tremaining: 5.46ms\n",
      "998:\tlearn: 610.3547369\ttotal: 2.73s\tremaining: 2.73ms\n",
      "999:\tlearn: 609.8468973\ttotal: 2.73s\tremaining: 0us\n"
     ]
    }
   ],
   "source": [
    "for algorithm in algorithms:\n",
    "    implement_ml_algorithm(algorithm, X_train, y_train, X_test, y_test)"
   ],
   "metadata": {
    "collapsed": false,
    "ExecuteTime": {
     "start_time": "2023-04-16T18:41:39.071558Z",
     "end_time": "2023-04-16T18:41:59.422497Z"
    }
   }
  },
  {
   "cell_type": "code",
   "execution_count": 33,
   "outputs": [],
   "source": [
    "result_df = pd.DataFrame({\n",
    "    \"Algorithm\": alg_names,\n",
    "    \"Scores\": results\n",
    "})"
   ],
   "metadata": {
    "collapsed": false,
    "ExecuteTime": {
     "start_time": "2023-04-16T18:42:07.377072Z",
     "end_time": "2023-04-16T18:42:07.392703Z"
    }
   }
  },
  {
   "cell_type": "code",
   "execution_count": 34,
   "outputs": [
    {
     "data": {
      "text/plain": "                    Algorithm       Scores\n0                       Ridge  1594.740475\n1                       Lasso  1595.298496\n2                  ElasticNet  1596.348053\n3            LinearRegression  1594.715343\n4               LGBMRegressor  1521.208215\n5                XGBRegressor  1502.128797\n6   GradientBoostingRegressor  1499.297739\n7       RandomForestRegressor  1452.330727\n8       DecisionTreeRegressor  2507.548178\n9                MLPRegressor  1593.031783\n10        KNeighborsRegressor  1646.457940\n11          CatBoostRegressor  1451.770771",
      "text/html": "<div>\n<style scoped>\n    .dataframe tbody tr th:only-of-type {\n        vertical-align: middle;\n    }\n\n    .dataframe tbody tr th {\n        vertical-align: top;\n    }\n\n    .dataframe thead th {\n        text-align: right;\n    }\n</style>\n<table border=\"1\" class=\"dataframe\">\n  <thead>\n    <tr style=\"text-align: right;\">\n      <th></th>\n      <th>Algorithm</th>\n      <th>Scores</th>\n    </tr>\n  </thead>\n  <tbody>\n    <tr>\n      <th>0</th>\n      <td>Ridge</td>\n      <td>1594.740475</td>\n    </tr>\n    <tr>\n      <th>1</th>\n      <td>Lasso</td>\n      <td>1595.298496</td>\n    </tr>\n    <tr>\n      <th>2</th>\n      <td>ElasticNet</td>\n      <td>1596.348053</td>\n    </tr>\n    <tr>\n      <th>3</th>\n      <td>LinearRegression</td>\n      <td>1594.715343</td>\n    </tr>\n    <tr>\n      <th>4</th>\n      <td>LGBMRegressor</td>\n      <td>1521.208215</td>\n    </tr>\n    <tr>\n      <th>5</th>\n      <td>XGBRegressor</td>\n      <td>1502.128797</td>\n    </tr>\n    <tr>\n      <th>6</th>\n      <td>GradientBoostingRegressor</td>\n      <td>1499.297739</td>\n    </tr>\n    <tr>\n      <th>7</th>\n      <td>RandomForestRegressor</td>\n      <td>1452.330727</td>\n    </tr>\n    <tr>\n      <th>8</th>\n      <td>DecisionTreeRegressor</td>\n      <td>2507.548178</td>\n    </tr>\n    <tr>\n      <th>9</th>\n      <td>MLPRegressor</td>\n      <td>1593.031783</td>\n    </tr>\n    <tr>\n      <th>10</th>\n      <td>KNeighborsRegressor</td>\n      <td>1646.457940</td>\n    </tr>\n    <tr>\n      <th>11</th>\n      <td>CatBoostRegressor</td>\n      <td>1451.770771</td>\n    </tr>\n  </tbody>\n</table>\n</div>"
     },
     "execution_count": 34,
     "metadata": {},
     "output_type": "execute_result"
    }
   ],
   "source": [
    "result_df"
   ],
   "metadata": {
    "collapsed": false,
    "ExecuteTime": {
     "start_time": "2023-04-16T18:42:14.078688Z",
     "end_time": "2023-04-16T18:42:14.109968Z"
    }
   }
  },
  {
   "cell_type": "markdown",
   "source": [
    "#### GBMRegressor"
   ],
   "metadata": {
    "collapsed": false
   }
  },
  {
   "cell_type": "code",
   "execution_count": 35,
   "outputs": [],
   "source": [
    "x = GradientBoostingRegressor()\n",
    "?x"
   ],
   "metadata": {
    "collapsed": false,
    "ExecuteTime": {
     "start_time": "2023-04-16T18:42:16.507610Z",
     "end_time": "2023-04-16T18:42:16.585372Z"
    }
   }
  },
  {
   "cell_type": "code",
   "execution_count": 36,
   "outputs": [],
   "source": [
    "gbm_params = {\"learning_rate\": [0.01, 0.001, 0.0001],\n",
    "              \"n_estimators\": [200, 500, 2000, 3000],\n",
    "              \"max_depth\": [5, 7, 9, 11, 13, 15, 20], }"
   ],
   "metadata": {
    "collapsed": false,
    "ExecuteTime": {
     "start_time": "2023-04-16T18:42:17.305578Z",
     "end_time": "2023-04-16T18:42:17.321202Z"
    }
   }
  },
  {
   "cell_type": "code",
   "execution_count": null,
   "outputs": [],
   "source": [
    "gbm_cv_model = GridSearchCV(LGBMRegressor(), gbm_params, cv=10, n_jobs=-1, verbose=2).fit(X_train, y_train)"
   ],
   "metadata": {
    "collapsed": false,
    "ExecuteTime": {
     "start_time": "2023-04-16T17:41:47.770431Z",
     "end_time": "2023-04-16T17:47:50.007190Z"
    }
   }
  },
  {
   "cell_type": "code",
   "execution_count": null,
   "outputs": [],
   "source": [
    "gbm_cv_model.best_params_"
   ],
   "metadata": {
    "collapsed": false,
    "ExecuteTime": {
     "start_time": "2023-04-16T17:57:32.531167Z",
     "end_time": "2023-04-16T17:57:32.546815Z"
    }
   }
  },
  {
   "cell_type": "code",
   "execution_count": 40,
   "outputs": [],
   "source": [
    "tuned_gbm = LGBMRegressor(learning_rate=0.001, max_depth=17, n_estimators=2000).fit(X_train, y_train)"
   ],
   "metadata": {
    "collapsed": false,
    "ExecuteTime": {
     "start_time": "2023-04-16T18:52:24.287188Z",
     "end_time": "2023-04-16T18:52:24.455004Z"
    }
   }
  },
  {
   "cell_type": "code",
   "execution_count": 41,
   "outputs": [
    {
     "data": {
      "text/plain": "1521.2082151072623"
     },
     "execution_count": 41,
     "metadata": {},
     "output_type": "execute_result"
    }
   ],
   "source": [
    "np.sqrt(mean_squared_error(y_test, tuned_gbm.predict(X_test)))"
   ],
   "metadata": {
    "collapsed": false,
    "ExecuteTime": {
     "start_time": "2023-04-16T18:52:27.276222Z",
     "end_time": "2023-04-16T18:52:27.334358Z"
    }
   }
  },
  {
   "cell_type": "code",
   "execution_count": 42,
   "outputs": [
    {
     "data": {
      "text/plain": "<Figure size 640x480 with 1 Axes>",
      "image/png": "[encoded data removed]"
     },
     "metadata": {},
     "output_type": "display_data"
    }
   ],
   "source": [
    "feature_imp = pd.Series(tuned_gbm.feature_importances_, index=X_train.columns).sort_values(ascending=False)\n",
    "\n",
    "sns.barplot(x=feature_imp, y=feature_imp.index)\n",
    "plt.xlabel('Variables İmportance')\n",
    "plt.ylabel('Variables')\n",
    "plt.show()"
   ],
   "metadata": {
    "collapsed": false,
    "ExecuteTime": {
     "start_time": "2023-04-16T18:52:35.216145Z",
     "end_time": "2023-04-16T18:52:35.452201Z"
    }
   }
  },
  {
   "cell_type": "code",
   "execution_count": null,
   "outputs": [],
   "source": [],
   "metadata": {
    "collapsed": false
   }
  }
 ],
 "metadata": {
  "kernelspec": {
   "display_name": "Python 3",
   "language": "python",
   "name": "python3"
  },
  "language_info": {
   "codemirror_mode": {
    "name": "ipython",
    "version": 2
   },
   "file_extension": ".py",
   "mimetype": "text/x-python",
   "name": "python",
   "nbconvert_exporter": "python",
   "pygments_lexer": "ipython2",
   "version": "2.7.6"
  }
 },
 "nbformat": 4,
 "nbformat_minor": 0
}
