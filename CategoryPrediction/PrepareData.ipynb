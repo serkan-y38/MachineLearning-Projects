{
 "cells": [
  {
   "cell_type": "code",
   "execution_count": 1,
   "outputs": [],
   "source": [
    "import pandas as pd"
   ],
   "metadata": {
    "collapsed": false,
    "ExecuteTime": {
     "end_time": "2023-05-03T11:47:36.133867400Z",
     "start_time": "2023-05-03T11:47:35.825151300Z"
    }
   }
  },
  {
   "cell_type": "code",
   "execution_count": 2,
   "outputs": [],
   "source": [
    "df = pd.read_csv('./shopping_data.csv')"
   ],
   "metadata": {
    "collapsed": false,
    "ExecuteTime": {
     "end_time": "2023-05-03T11:47:42.811111200Z",
     "start_time": "2023-05-03T11:47:42.730756500Z"
    }
   }
  },
  {
   "cell_type": "code",
   "execution_count": 3,
   "outputs": [
    {
     "data": {
      "text/plain": "       gender  age         category  quantity    price payment_method   \n0      Female   28         Clothing         5  1500.40    Credit Card  \\\n1        Male   21            Shoes         3  1800.51     Debit Card   \n2        Male   20         Clothing         1   300.08           Cash   \n3      Female   66            Shoes         5  3000.85    Credit Card   \n4      Female   53            Books         4    60.60           Cash   \n...       ...  ...              ...       ...      ...            ...   \n99451    Male   27  Food & Beverage         2    10.46           Cash   \n99452  Female   23  Food & Beverage         1     5.23     Debit Card   \n99453    Male   63  Food & Beverage         2    10.46     Debit Card   \n99454    Male   56       Technology         4  4200.00           Cash   \n99455  Female   36         Souvenir         3    35.19    Credit Card   \n\n          shopping_mall  \n0                Kanyon  \n1        Forum Istanbul  \n2             Metrocity  \n3          Metropol AVM  \n4                Kanyon  \n...                 ...  \n99451    Forum Istanbul  \n99452  Mall of Istanbul  \n99453         Metrocity  \n99454      Istinye Park  \n99455  Mall of Istanbul  \n\n[99456 rows x 7 columns]",
      "text/html": "<div>\n<style scoped>\n    .dataframe tbody tr th:only-of-type {\n        vertical-align: middle;\n    }\n\n    .dataframe tbody tr th {\n        vertical-align: top;\n    }\n\n    .dataframe thead th {\n        text-align: right;\n    }\n</style>\n<table border=\"1\" class=\"dataframe\">\n  <thead>\n    <tr style=\"text-align: right;\">\n      <th></th>\n      <th>gender</th>\n      <th>age</th>\n      <th>category</th>\n      <th>quantity</th>\n      <th>price</th>\n      <th>payment_method</th>\n      <th>shopping_mall</th>\n    </tr>\n  </thead>\n  <tbody>\n    <tr>\n      <th>0</th>\n      <td>Female</td>\n      <td>28</td>\n      <td>Clothing</td>\n      <td>5</td>\n      <td>1500.40</td>\n      <td>Credit Card</td>\n      <td>Kanyon</td>\n    </tr>\n    <tr>\n      <th>1</th>\n      <td>Male</td>\n      <td>21</td>\n      <td>Shoes</td>\n      <td>3</td>\n      <td>1800.51</td>\n      <td>Debit Card</td>\n      <td>Forum Istanbul</td>\n    </tr>\n    <tr>\n      <th>2</th>\n      <td>Male</td>\n      <td>20</td>\n      <td>Clothing</td>\n      <td>1</td>\n      <td>300.08</td>\n      <td>Cash</td>\n      <td>Metrocity</td>\n    </tr>\n    <tr>\n      <th>3</th>\n      <td>Female</td>\n      <td>66</td>\n      <td>Shoes</td>\n      <td>5</td>\n      <td>3000.85</td>\n      <td>Credit Card</td>\n      <td>Metropol AVM</td>\n    </tr>\n    <tr>\n      <th>4</th>\n      <td>Female</td>\n      <td>53</td>\n      <td>Books</td>\n      <td>4</td>\n      <td>60.60</td>\n      <td>Cash</td>\n      <td>Kanyon</td>\n    </tr>\n    <tr>\n      <th>...</th>\n      <td>...</td>\n      <td>...</td>\n      <td>...</td>\n      <td>...</td>\n      <td>...</td>\n      <td>...</td>\n      <td>...</td>\n    </tr>\n    <tr>\n      <th>99451</th>\n      <td>Male</td>\n      <td>27</td>\n      <td>Food &amp; Beverage</td>\n      <td>2</td>\n      <td>10.46</td>\n      <td>Cash</td>\n      <td>Forum Istanbul</td>\n    </tr>\n    <tr>\n      <th>99452</th>\n      <td>Female</td>\n      <td>23</td>\n      <td>Food &amp; Beverage</td>\n      <td>1</td>\n      <td>5.23</td>\n      <td>Debit Card</td>\n      <td>Mall of Istanbul</td>\n    </tr>\n    <tr>\n      <th>99453</th>\n      <td>Male</td>\n      <td>63</td>\n      <td>Food &amp; Beverage</td>\n      <td>2</td>\n      <td>10.46</td>\n      <td>Debit Card</td>\n      <td>Metrocity</td>\n    </tr>\n    <tr>\n      <th>99454</th>\n      <td>Male</td>\n      <td>56</td>\n      <td>Technology</td>\n      <td>4</td>\n      <td>4200.00</td>\n      <td>Cash</td>\n      <td>Istinye Park</td>\n    </tr>\n    <tr>\n      <th>99455</th>\n      <td>Female</td>\n      <td>36</td>\n      <td>Souvenir</td>\n      <td>3</td>\n      <td>35.19</td>\n      <td>Credit Card</td>\n      <td>Mall of Istanbul</td>\n    </tr>\n  </tbody>\n</table>\n<p>99456 rows × 7 columns</p>\n</div>"
     },
     "execution_count": 3,
     "metadata": {},
     "output_type": "execute_result"
    }
   ],
   "source": [
    "df.drop(['invoice_date', 'customer_id', 'invoice_no'], axis=1,\n",
    "        inplace=True)"
   ],
   "metadata": {
    "collapsed": false,
    "ExecuteTime": {
     "end_time": "2023-05-03T11:47:43.660473Z",
     "start_time": "2023-05-03T11:47:43.634599700Z"
    }
   }
  },
  {
   "cell_type": "code",
   "execution_count": 4,
   "outputs": [],
   "source": [
    "df.to_csv(\"data.csv\", sep=',', index=False, encoding='utf-8')"
   ],
   "metadata": {
    "collapsed": false,
    "ExecuteTime": {
     "end_time": "2023-05-03T11:47:51.736489400Z",
     "start_time": "2023-05-03T11:47:51.722015100Z"
    }
   }
  },
  {
   "cell_type": "code",
   "execution_count": 5,
   "outputs": [],
   "source": [
    "df"
   ],
   "metadata": {
    "collapsed": false,
    "ExecuteTime": {
     "end_time": "2023-05-03T11:48:00.724824900Z",
     "start_time": "2023-05-03T11:47:55.233010800Z"
    }
   }
  },
  {
   "cell_type": "code",
   "execution_count": 7,
   "outputs": [],
   "source": [
    "def update(row):\n",
    "    row['price'] = row['price'] / row['quantity']\n",
    "    return row"
   ],
   "metadata": {
    "collapsed": false,
    "ExecuteTime": {
     "end_time": "2023-05-03T11:48:22.456157600Z",
     "start_time": "2023-05-03T11:48:22.427294200Z"
    }
   }
  },
  {
   "cell_type": "code",
   "execution_count": 8,
   "outputs": [
    {
     "data": {
      "text/plain": "       gender  age         category    price\n0      Female   28         Clothing   300.08\n1        Male   21            Shoes   600.17\n2        Male   20         Clothing   300.08\n3      Female   66            Shoes   600.17\n4      Female   53            Books    15.15\n...       ...  ...              ...      ...\n99451    Male   27  Food & Beverage     5.23\n99452  Female   23  Food & Beverage     5.23\n99453    Male   63  Food & Beverage     5.23\n99454    Male   56       Technology  1050.00\n99455  Female   36         Souvenir    11.73\n\n[99456 rows x 4 columns]",
      "text/html": "<div>\n<style scoped>\n    .dataframe tbody tr th:only-of-type {\n        vertical-align: middle;\n    }\n\n    .dataframe tbody tr th {\n        vertical-align: top;\n    }\n\n    .dataframe thead th {\n        text-align: right;\n    }\n</style>\n<table border=\"1\" class=\"dataframe\">\n  <thead>\n    <tr style=\"text-align: right;\">\n      <th></th>\n      <th>gender</th>\n      <th>age</th>\n      <th>category</th>\n      <th>price</th>\n    </tr>\n  </thead>\n  <tbody>\n    <tr>\n      <th>0</th>\n      <td>Female</td>\n      <td>28</td>\n      <td>Clothing</td>\n      <td>300.08</td>\n    </tr>\n    <tr>\n      <th>1</th>\n      <td>Male</td>\n      <td>21</td>\n      <td>Shoes</td>\n      <td>600.17</td>\n    </tr>\n    <tr>\n      <th>2</th>\n      <td>Male</td>\n      <td>20</td>\n      <td>Clothing</td>\n      <td>300.08</td>\n    </tr>\n    <tr>\n      <th>3</th>\n      <td>Female</td>\n      <td>66</td>\n      <td>Shoes</td>\n      <td>600.17</td>\n    </tr>\n    <tr>\n      <th>4</th>\n      <td>Female</td>\n      <td>53</td>\n      <td>Books</td>\n      <td>15.15</td>\n    </tr>\n    <tr>\n      <th>...</th>\n      <td>...</td>\n      <td>...</td>\n      <td>...</td>\n      <td>...</td>\n    </tr>\n    <tr>\n      <th>99451</th>\n      <td>Male</td>\n      <td>27</td>\n      <td>Food &amp; Beverage</td>\n      <td>5.23</td>\n    </tr>\n    <tr>\n      <th>99452</th>\n      <td>Female</td>\n      <td>23</td>\n      <td>Food &amp; Beverage</td>\n      <td>5.23</td>\n    </tr>\n    <tr>\n      <th>99453</th>\n      <td>Male</td>\n      <td>63</td>\n      <td>Food &amp; Beverage</td>\n      <td>5.23</td>\n    </tr>\n    <tr>\n      <th>99454</th>\n      <td>Male</td>\n      <td>56</td>\n      <td>Technology</td>\n      <td>1050.00</td>\n    </tr>\n    <tr>\n      <th>99455</th>\n      <td>Female</td>\n      <td>36</td>\n      <td>Souvenir</td>\n      <td>11.73</td>\n    </tr>\n  </tbody>\n</table>\n<p>99456 rows × 4 columns</p>\n</div>"
     },
     "execution_count": 8,
     "metadata": {},
     "output_type": "execute_result"
    }
   ],
   "source": [
    "df = df.apply(update, axis=1)"
   ],
   "metadata": {
    "collapsed": false,
    "ExecuteTime": {
     "end_time": "2023-05-03T11:48:23.795838400Z",
     "start_time": "2023-05-03T11:48:23.781801900Z"
    }
   }
  },
  {
   "cell_type": "code",
   "execution_count": 10,
   "outputs": [],
   "source": [
    "df.drop(['invoice_date', 'customer_id', 'invoice_no', 'shopping_mall', 'payment_method', 'quantity'], axis=1, inplace=True)"
   ],
   "metadata": {
    "collapsed": false,
    "ExecuteTime": {
     "end_time": "2023-05-03T11:49:14.300980600Z",
     "start_time": "2023-05-03T11:49:14.111794500Z"
    }
   }
  },
  {
   "cell_type": "code",
   "execution_count": 39,
   "outputs": [
    {
     "data": {
      "text/plain": "       gender  age         category    price\n0      Female   28         Clothing   300.08\n1        Male   21            Shoes   600.17\n2        Male   20         Clothing   300.08\n3      Female   66            Shoes   600.17\n4      Female   53            Books    15.15\n...       ...  ...              ...      ...\n99452  Female   45         Souvenir    11.73\n99453    Male   27  Food & Beverage     5.23\n99454    Male   63  Food & Beverage     5.23\n99455    Male   56       Technology  1050.00\n99456  Female   36         Souvenir    11.73\n\n[99457 rows x 4 columns]",
      "text/html": "<div>\n<style scoped>\n    .dataframe tbody tr th:only-of-type {\n        vertical-align: middle;\n    }\n\n    .dataframe tbody tr th {\n        vertical-align: top;\n    }\n\n    .dataframe thead th {\n        text-align: right;\n    }\n</style>\n<table border=\"1\" class=\"dataframe\">\n  <thead>\n    <tr style=\"text-align: right;\">\n      <th></th>\n      <th>gender</th>\n      <th>age</th>\n      <th>category</th>\n      <th>price</th>\n    </tr>\n  </thead>\n  <tbody>\n    <tr>\n      <th>0</th>\n      <td>Female</td>\n      <td>28</td>\n      <td>Clothing</td>\n      <td>300.08</td>\n    </tr>\n    <tr>\n      <th>1</th>\n      <td>Male</td>\n      <td>21</td>\n      <td>Shoes</td>\n      <td>600.17</td>\n    </tr>\n    <tr>\n      <th>2</th>\n      <td>Male</td>\n      <td>20</td>\n      <td>Clothing</td>\n      <td>300.08</td>\n    </tr>\n    <tr>\n      <th>3</th>\n      <td>Female</td>\n      <td>66</td>\n      <td>Shoes</td>\n      <td>600.17</td>\n    </tr>\n    <tr>\n      <th>4</th>\n      <td>Female</td>\n      <td>53</td>\n      <td>Books</td>\n      <td>15.15</td>\n    </tr>\n    <tr>\n      <th>...</th>\n      <td>...</td>\n      <td>...</td>\n      <td>...</td>\n      <td>...</td>\n    </tr>\n    <tr>\n      <th>99452</th>\n      <td>Female</td>\n      <td>45</td>\n      <td>Souvenir</td>\n      <td>11.73</td>\n    </tr>\n    <tr>\n      <th>99453</th>\n      <td>Male</td>\n      <td>27</td>\n      <td>Food &amp; Beverage</td>\n      <td>5.23</td>\n    </tr>\n    <tr>\n      <th>99454</th>\n      <td>Male</td>\n      <td>63</td>\n      <td>Food &amp; Beverage</td>\n      <td>5.23</td>\n    </tr>\n    <tr>\n      <th>99455</th>\n      <td>Male</td>\n      <td>56</td>\n      <td>Technology</td>\n      <td>1050.00</td>\n    </tr>\n    <tr>\n      <th>99456</th>\n      <td>Female</td>\n      <td>36</td>\n      <td>Souvenir</td>\n      <td>11.73</td>\n    </tr>\n  </tbody>\n</table>\n<p>99457 rows × 4 columns</p>\n</div>"
     },
     "execution_count": 39,
     "metadata": {},
     "output_type": "execute_result"
    }
   ],
   "source": [
    "df"
   ],
   "metadata": {
    "collapsed": false,
    "ExecuteTime": {
     "end_time": "2023-05-02T19:29:47.625763700Z",
     "start_time": "2023-05-02T19:29:47.603782800Z"
    }
   }
  },
  {
   "cell_type": "code",
   "execution_count": 40,
   "outputs": [],
   "source": [
    "df.to_csv(\"processed_shopping_data.csv\", sep=',', index=False, encoding='utf-8')"
   ],
   "metadata": {
    "collapsed": false,
    "ExecuteTime": {
     "end_time": "2023-05-02T19:31:50.360149800Z",
     "start_time": "2023-05-02T19:31:50.131641800Z"
    }
   }
  }
 ],
 "metadata": {
  "kernelspec": {
   "display_name": "Python 3",
   "language": "python",
   "name": "python3"
  },
  "language_info": {
   "codemirror_mode": {
    "name": "ipython",
    "version": 2
   },
   "file_extension": ".py",
   "mimetype": "text/x-python",
   "name": "python",
   "nbconvert_exporter": "python",
   "pygments_lexer": "ipython2",
   "version": "2.7.6"
  }
 },
 "nbformat": 4,
 "nbformat_minor": 0
}
