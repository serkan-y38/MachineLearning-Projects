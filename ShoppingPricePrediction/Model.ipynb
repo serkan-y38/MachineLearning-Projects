{
 "cells": [
  {
   "cell_type": "code",
   "execution_count": null,
   "metadata": {
    "ExecuteTime": {
     "start_time": "2023-04-06T17:08:16.102230Z",
     "end_time": "2023-04-06T17:08:16.441488Z"
    },
    "collapsed": true
   },
   "outputs": [],
   "source": [
    "import numpy as np\n",
    "import pandas as pd\n",
    "from sklearn.linear_model import Ridge, Lasso, ElasticNet, LinearRegression\n",
    "from sklearn.model_selection import train_test_split, GridSearchCV, cross_val_score\n",
    "from sklearn.metrics import mean_squared_error, r2_score\n",
    "from lightgbm import LGBMRegressor\n",
    "from xgboost import XGBRegressor\n",
    "from sklearn.tree import DecisionTreeRegressor\n",
    "from sklearn.neighbors import KNeighborsRegressor\n",
    "from sklearn.neural_network import MLPRegressor\n",
    "from sklearn.ensemble import RandomForestRegressor\n",
    "from sklearn.ensemble import GradientBoostingRegressor\n",
    "from catboost import CatBoostRegressor\n",
    "from sklearn.svm import SVR\n",
    "from sklearn.preprocessing import OneHotEncoder, LabelEncoder, StandardScaler\n",
    "import warnings\n",
    "from sklearn.neighbors import LocalOutlierFactor"
   ]
  },
  {
   "cell_type": "code",
   "execution_count": 2,
   "metadata": {
    "ExecuteTime": {
     "start_time": "2023-04-06T17:08:16.634487Z",
     "end_time": "2023-04-06T17:08:16.649013Z"
    }
   },
   "outputs": [],
   "source": [
    "warnings.filterwarnings('ignore')"
   ]
  },
  {
   "cell_type": "code",
   "execution_count": 3,
   "metadata": {
    "ExecuteTime": {
     "start_time": "2023-04-06T17:08:17.396057Z",
     "end_time": "2023-04-06T17:08:17.482159Z"
    }
   },
   "outputs": [],
   "source": [
    "df = pd.read_csv(\"./customer_shopping_data.csv\")"
   ]
  },
  {
   "cell_type": "code",
   "execution_count": 4,
   "metadata": {
    "ExecuteTime": {
     "start_time": "2023-04-06T17:08:18.087255Z",
     "end_time": "2023-04-06T17:08:18.147617Z"
    }
   },
   "outputs": [
    {
     "data": {
      "text/plain": "   gender  age  category    price payment_method   shopping_mall\n0  Female   28  Clothing  1500.40    Credit Card          Kanyon\n1    Male   21     Shoes  1800.51     Debit Card  Forum Istanbul\n2    Male   20  Clothing   300.08           Cash       Metrocity\n3  Female   66     Shoes  3000.85    Credit Card    Metropol AVM\n4  Female   53     Books    60.60           Cash          Kanyon",
      "text/html": "<div>\n<style scoped>\n    .dataframe tbody tr th:only-of-type {\n        vertical-align: middle;\n    }\n\n    .dataframe tbody tr th {\n        vertical-align: top;\n    }\n\n    .dataframe thead th {\n        text-align: right;\n    }\n</style>\n<table border=\"1\" class=\"dataframe\">\n  <thead>\n    <tr style=\"text-align: right;\">\n      <th></th>\n      <th>gender</th>\n      <th>age</th>\n      <th>category</th>\n      <th>price</th>\n      <th>payment_method</th>\n      <th>shopping_mall</th>\n    </tr>\n  </thead>\n  <tbody>\n    <tr>\n      <th>0</th>\n      <td>Female</td>\n      <td>28</td>\n      <td>Clothing</td>\n      <td>1500.40</td>\n      <td>Credit Card</td>\n      <td>Kanyon</td>\n    </tr>\n    <tr>\n      <th>1</th>\n      <td>Male</td>\n      <td>21</td>\n      <td>Shoes</td>\n      <td>1800.51</td>\n      <td>Debit Card</td>\n      <td>Forum Istanbul</td>\n    </tr>\n    <tr>\n      <th>2</th>\n      <td>Male</td>\n      <td>20</td>\n      <td>Clothing</td>\n      <td>300.08</td>\n      <td>Cash</td>\n      <td>Metrocity</td>\n    </tr>\n    <tr>\n      <th>3</th>\n      <td>Female</td>\n      <td>66</td>\n      <td>Shoes</td>\n      <td>3000.85</td>\n      <td>Credit Card</td>\n      <td>Metropol AVM</td>\n    </tr>\n    <tr>\n      <th>4</th>\n      <td>Female</td>\n      <td>53</td>\n      <td>Books</td>\n      <td>60.60</td>\n      <td>Cash</td>\n      <td>Kanyon</td>\n    </tr>\n  </tbody>\n</table>\n</div>"
     },
     "execution_count": 4,
     "metadata": {},
     "output_type": "execute_result"
    }
   ],
   "source": [
    "df.head()"
   ]
  },
  {
   "cell_type": "code",
   "execution_count": 5,
   "metadata": {
    "ExecuteTime": {
     "start_time": "2023-04-06T17:08:18.937129Z",
     "end_time": "2023-04-06T17:08:18.991255Z"
    }
   },
   "outputs": [
    {
     "data": {
      "text/plain": "       gender  age    category    price payment_method     shopping_mall\n0      Female   28    Clothing  1500.40    Credit Card            Kanyon\n1        Male   21       Shoes  1800.51     Debit Card    Forum Istanbul\n2        Male   20    Clothing   300.08           Cash         Metrocity\n3      Female   66       Shoes  3000.85    Credit Card      Metropol AVM\n4      Female   53       Books    60.60           Cash            Kanyon\n...       ...  ...         ...      ...            ...               ...\n99444    Male   24        Toys    35.84           Cash  Mall of Istanbul\n99447  Female   37        Toys   107.52           Cash      Metropol AVM\n99450  Female   28       Books    15.15           Cash      Zorlu Center\n99451    Male   50        Toys   179.20           Cash      Metropol AVM\n99455    Male   56  Technology  4200.00           Cash      Istinye Park\n\n[54200 rows x 6 columns]",
      "text/html": "<div>\n<style scoped>\n    .dataframe tbody tr th:only-of-type {\n        vertical-align: middle;\n    }\n\n    .dataframe tbody tr th {\n        vertical-align: top;\n    }\n\n    .dataframe thead th {\n        text-align: right;\n    }\n</style>\n<table border=\"1\" class=\"dataframe\">\n  <thead>\n    <tr style=\"text-align: right;\">\n      <th></th>\n      <th>gender</th>\n      <th>age</th>\n      <th>category</th>\n      <th>price</th>\n      <th>payment_method</th>\n      <th>shopping_mall</th>\n    </tr>\n  </thead>\n  <tbody>\n    <tr>\n      <th>0</th>\n      <td>Female</td>\n      <td>28</td>\n      <td>Clothing</td>\n      <td>1500.40</td>\n      <td>Credit Card</td>\n      <td>Kanyon</td>\n    </tr>\n    <tr>\n      <th>1</th>\n      <td>Male</td>\n      <td>21</td>\n      <td>Shoes</td>\n      <td>1800.51</td>\n      <td>Debit Card</td>\n      <td>Forum Istanbul</td>\n    </tr>\n    <tr>\n      <th>2</th>\n      <td>Male</td>\n      <td>20</td>\n      <td>Clothing</td>\n      <td>300.08</td>\n      <td>Cash</td>\n      <td>Metrocity</td>\n    </tr>\n    <tr>\n      <th>3</th>\n      <td>Female</td>\n      <td>66</td>\n      <td>Shoes</td>\n      <td>3000.85</td>\n      <td>Credit Card</td>\n      <td>Metropol AVM</td>\n    </tr>\n    <tr>\n      <th>4</th>\n      <td>Female</td>\n      <td>53</td>\n      <td>Books</td>\n      <td>60.60</td>\n      <td>Cash</td>\n      <td>Kanyon</td>\n    </tr>\n    <tr>\n      <th>...</th>\n      <td>...</td>\n      <td>...</td>\n      <td>...</td>\n      <td>...</td>\n      <td>...</td>\n      <td>...</td>\n    </tr>\n    <tr>\n      <th>99444</th>\n      <td>Male</td>\n      <td>24</td>\n      <td>Toys</td>\n      <td>35.84</td>\n      <td>Cash</td>\n      <td>Mall of Istanbul</td>\n    </tr>\n    <tr>\n      <th>99447</th>\n      <td>Female</td>\n      <td>37</td>\n      <td>Toys</td>\n      <td>107.52</td>\n      <td>Cash</td>\n      <td>Metropol AVM</td>\n    </tr>\n    <tr>\n      <th>99450</th>\n      <td>Female</td>\n      <td>28</td>\n      <td>Books</td>\n      <td>15.15</td>\n      <td>Cash</td>\n      <td>Zorlu Center</td>\n    </tr>\n    <tr>\n      <th>99451</th>\n      <td>Male</td>\n      <td>50</td>\n      <td>Toys</td>\n      <td>179.20</td>\n      <td>Cash</td>\n      <td>Metropol AVM</td>\n    </tr>\n    <tr>\n      <th>99455</th>\n      <td>Male</td>\n      <td>56</td>\n      <td>Technology</td>\n      <td>4200.00</td>\n      <td>Cash</td>\n      <td>Istinye Park</td>\n    </tr>\n  </tbody>\n</table>\n<p>54200 rows × 6 columns</p>\n</div>"
     },
     "execution_count": 5,
     "metadata": {},
     "output_type": "execute_result"
    }
   ],
   "source": [
    "df.drop_duplicates()"
   ]
  },
  {
   "cell_type": "code",
   "execution_count": 6,
   "metadata": {
    "ExecuteTime": {
     "start_time": "2023-04-06T17:08:19.786953Z",
     "end_time": "2023-04-06T17:08:20.010794Z"
    }
   },
   "outputs": [],
   "source": [
    "df.to_csv(\"customer_shopping_data.csv\", sep=',', index=False, encoding='utf-8')"
   ]
  },
  {
   "cell_type": "markdown",
   "metadata": {},
   "source": [
    "# Data Preparation"
   ]
  },
  {
   "cell_type": "markdown",
   "metadata": {
    "ExecuteTime": {
     "end_time": "2023-04-04T20:18:15.308185Z",
     "start_time": "2023-04-04T20:18:15.283617Z"
    }
   },
   "source": [
    "### Variable Transformation"
   ]
  },
  {
   "cell_type": "code",
   "execution_count": 7,
   "metadata": {
    "ExecuteTime": {
     "start_time": "2023-04-06T17:08:21.860116Z",
     "end_time": "2023-04-06T17:08:21.878226Z"
    }
   },
   "outputs": [],
   "source": [
    "df['gender'] = LabelEncoder().fit_transform(df['gender'])"
   ]
  },
  {
   "cell_type": "code",
   "execution_count": 8,
   "metadata": {
    "ExecuteTime": {
     "start_time": "2023-04-06T17:08:22.323165Z",
     "end_time": "2023-04-06T17:08:22.365491Z"
    }
   },
   "outputs": [],
   "source": [
    "df = pd.get_dummies(df, prefix=['payment_method', 'category', 'shopping_mall'],\n",
    "                    columns=['payment_method', 'category', 'shopping_mall'], drop_first=True)"
   ]
  },
  {
   "cell_type": "code",
   "execution_count": 9,
   "metadata": {
    "ExecuteTime": {
     "start_time": "2023-04-06T17:08:22.759031Z",
     "end_time": "2023-04-06T17:08:22.809040Z"
    }
   },
   "outputs": [
    {
     "data": {
      "text/plain": "   gender  age    price  payment_method_Credit Card   \n0       0   28  1500.40                        True  \\\n1       1   21  1800.51                       False   \n2       1   20   300.08                       False   \n3       0   66  3000.85                        True   \n4       0   53    60.60                       False   \n\n   payment_method_Debit Card  category_Clothing  category_Cosmetics   \n0                      False               True               False  \\\n1                       True              False               False   \n2                      False               True               False   \n3                      False              False               False   \n4                      False              False               False   \n\n   category_Food & Beverage  category_Shoes  category_Souvenir  ...   \n0                     False           False              False  ...  \\\n1                     False            True              False  ...   \n2                     False           False              False  ...   \n3                     False            True              False  ...   \n4                     False           False              False  ...   \n\n   category_Toys  shopping_mall_Emaar Square Mall   \n0          False                            False  \\\n1          False                            False   \n2          False                            False   \n3          False                            False   \n4          False                            False   \n\n   shopping_mall_Forum Istanbul  shopping_mall_Istinye Park   \n0                         False                       False  \\\n1                          True                       False   \n2                         False                       False   \n3                         False                       False   \n4                         False                       False   \n\n   shopping_mall_Kanyon  shopping_mall_Mall of Istanbul   \n0                  True                           False  \\\n1                 False                           False   \n2                 False                           False   \n3                 False                           False   \n4                  True                           False   \n\n   shopping_mall_Metrocity  shopping_mall_Metropol AVM   \n0                    False                       False  \\\n1                    False                       False   \n2                     True                       False   \n3                    False                        True   \n4                    False                       False   \n\n   shopping_mall_Viaport Outlet  shopping_mall_Zorlu Center  \n0                         False                       False  \n1                         False                       False  \n2                         False                       False  \n3                         False                       False  \n4                         False                       False  \n\n[5 rows x 21 columns]",
      "text/html": "<div>\n<style scoped>\n    .dataframe tbody tr th:only-of-type {\n        vertical-align: middle;\n    }\n\n    .dataframe tbody tr th {\n        vertical-align: top;\n    }\n\n    .dataframe thead th {\n        text-align: right;\n    }\n</style>\n<table border=\"1\" class=\"dataframe\">\n  <thead>\n    <tr style=\"text-align: right;\">\n      <th></th>\n      <th>gender</th>\n      <th>age</th>\n      <th>price</th>\n      <th>payment_method_Credit Card</th>\n      <th>payment_method_Debit Card</th>\n      <th>category_Clothing</th>\n      <th>category_Cosmetics</th>\n      <th>category_Food &amp; Beverage</th>\n      <th>category_Shoes</th>\n      <th>category_Souvenir</th>\n      <th>...</th>\n      <th>category_Toys</th>\n      <th>shopping_mall_Emaar Square Mall</th>\n      <th>shopping_mall_Forum Istanbul</th>\n      <th>shopping_mall_Istinye Park</th>\n      <th>shopping_mall_Kanyon</th>\n      <th>shopping_mall_Mall of Istanbul</th>\n      <th>shopping_mall_Metrocity</th>\n      <th>shopping_mall_Metropol AVM</th>\n      <th>shopping_mall_Viaport Outlet</th>\n      <th>shopping_mall_Zorlu Center</th>\n    </tr>\n  </thead>\n  <tbody>\n    <tr>\n      <th>0</th>\n      <td>0</td>\n      <td>28</td>\n      <td>1500.40</td>\n      <td>True</td>\n      <td>False</td>\n      <td>True</td>\n      <td>False</td>\n      <td>False</td>\n      <td>False</td>\n      <td>False</td>\n      <td>...</td>\n      <td>False</td>\n      <td>False</td>\n      <td>False</td>\n      <td>False</td>\n      <td>True</td>\n      <td>False</td>\n      <td>False</td>\n      <td>False</td>\n      <td>False</td>\n      <td>False</td>\n    </tr>\n    <tr>\n      <th>1</th>\n      <td>1</td>\n      <td>21</td>\n      <td>1800.51</td>\n      <td>False</td>\n      <td>True</td>\n      <td>False</td>\n      <td>False</td>\n      <td>False</td>\n      <td>True</td>\n      <td>False</td>\n      <td>...</td>\n      <td>False</td>\n      <td>False</td>\n      <td>True</td>\n      <td>False</td>\n      <td>False</td>\n      <td>False</td>\n      <td>False</td>\n      <td>False</td>\n      <td>False</td>\n      <td>False</td>\n    </tr>\n    <tr>\n      <th>2</th>\n      <td>1</td>\n      <td>20</td>\n      <td>300.08</td>\n      <td>False</td>\n      <td>False</td>\n      <td>True</td>\n      <td>False</td>\n      <td>False</td>\n      <td>False</td>\n      <td>False</td>\n      <td>...</td>\n      <td>False</td>\n      <td>False</td>\n      <td>False</td>\n      <td>False</td>\n      <td>False</td>\n      <td>False</td>\n      <td>True</td>\n      <td>False</td>\n      <td>False</td>\n      <td>False</td>\n    </tr>\n    <tr>\n      <th>3</th>\n      <td>0</td>\n      <td>66</td>\n      <td>3000.85</td>\n      <td>True</td>\n      <td>False</td>\n      <td>False</td>\n      <td>False</td>\n      <td>False</td>\n      <td>True</td>\n      <td>False</td>\n      <td>...</td>\n      <td>False</td>\n      <td>False</td>\n      <td>False</td>\n      <td>False</td>\n      <td>False</td>\n      <td>False</td>\n      <td>False</td>\n      <td>True</td>\n      <td>False</td>\n      <td>False</td>\n    </tr>\n    <tr>\n      <th>4</th>\n      <td>0</td>\n      <td>53</td>\n      <td>60.60</td>\n      <td>False</td>\n      <td>False</td>\n      <td>False</td>\n      <td>False</td>\n      <td>False</td>\n      <td>False</td>\n      <td>False</td>\n      <td>...</td>\n      <td>False</td>\n      <td>False</td>\n      <td>False</td>\n      <td>False</td>\n      <td>True</td>\n      <td>False</td>\n      <td>False</td>\n      <td>False</td>\n      <td>False</td>\n      <td>False</td>\n    </tr>\n  </tbody>\n</table>\n<p>5 rows × 21 columns</p>\n</div>"
     },
     "execution_count": 9,
     "metadata": {},
     "output_type": "execute_result"
    }
   ],
   "source": [
    "df.head()"
   ]
  },
  {
   "cell_type": "markdown",
   "metadata": {
    "ExecuteTime": {
     "end_time": "2023-04-04T20:18:20.592440Z",
     "start_time": "2023-04-04T20:18:20.572088Z"
    }
   },
   "source": [
    "### Missing Data"
   ]
  },
  {
   "cell_type": "code",
   "execution_count": 10,
   "metadata": {
    "ExecuteTime": {
     "start_time": "2023-04-06T17:08:23.734610Z",
     "end_time": "2023-04-06T17:08:23.799612Z"
    }
   },
   "outputs": [
    {
     "data": {
      "text/plain": "gender                             0\nage                                0\nprice                              0\npayment_method_Credit Card         0\npayment_method_Debit Card          0\ncategory_Clothing                  0\ncategory_Cosmetics                 0\ncategory_Food & Beverage           0\ncategory_Shoes                     0\ncategory_Souvenir                  0\ncategory_Technology                0\ncategory_Toys                      0\nshopping_mall_Emaar Square Mall    0\nshopping_mall_Forum Istanbul       0\nshopping_mall_Istinye Park         0\nshopping_mall_Kanyon               0\nshopping_mall_Mall of Istanbul     0\nshopping_mall_Metrocity            0\nshopping_mall_Metropol AVM         0\nshopping_mall_Viaport Outlet       0\nshopping_mall_Zorlu Center         0\ndtype: int64"
     },
     "execution_count": 10,
     "metadata": {},
     "output_type": "execute_result"
    }
   ],
   "source": [
    "df.isnull().sum()"
   ]
  },
  {
   "cell_type": "markdown",
   "metadata": {
    "ExecuteTime": {
     "end_time": "2023-04-04T20:18:35.008168Z",
     "start_time": "2023-04-04T20:18:23.426534Z"
    }
   },
   "source": [
    "### Outliers"
   ]
  },
  {
   "cell_type": "code",
   "execution_count": 11,
   "metadata": {
    "ExecuteTime": {
     "start_time": "2023-04-06T17:08:24.777024Z",
     "end_time": "2023-04-06T17:08:36.165109Z"
    }
   },
   "outputs": [
    {
     "data": {
      "text/plain": "array([1, 1, 1, ..., 1, 1, 1])"
     },
     "execution_count": 11,
     "metadata": {},
     "output_type": "execute_result"
    }
   ],
   "source": [
    "clf = LocalOutlierFactor(n_neighbors=10, contamination='auto')\n",
    "clf.fit_predict(df)"
   ]
  },
  {
   "cell_type": "code",
   "execution_count": 12,
   "metadata": {
    "ExecuteTime": {
     "start_time": "2023-04-06T17:08:36.167110Z",
     "end_time": "2023-04-06T17:08:36.193684Z"
    }
   },
   "outputs": [
    {
     "data": {
      "text/plain": "array([-1.        , -1.04908584, -1.        , ..., -1.05298166,\n       -1.04588532, -0.97764587])"
     },
     "execution_count": 12,
     "metadata": {},
     "output_type": "execute_result"
    }
   ],
   "source": [
    "df_scores = clf.negative_outlier_factor_\n",
    "df_scores"
   ]
  },
  {
   "cell_type": "code",
   "execution_count": 13,
   "metadata": {
    "ExecuteTime": {
     "start_time": "2023-04-06T17:08:37.475043Z",
     "end_time": "2023-04-06T17:08:37.493082Z"
    }
   },
   "outputs": [
    {
     "data": {
      "text/plain": "array([-1.00000000e+10, -9.00000000e+09, -9.00000000e+09, ...,\n       -8.54303670e-01, -8.54059689e-01, -8.38079354e-01])"
     },
     "execution_count": 13,
     "metadata": {},
     "output_type": "execute_result"
    }
   ],
   "source": [
    "np.sort(df_scores[:])"
   ]
  },
  {
   "cell_type": "code",
   "execution_count": 14,
   "metadata": {
    "ExecuteTime": {
     "start_time": "2023-04-06T17:08:38.117195Z",
     "end_time": "2023-04-06T17:08:38.142025Z"
    }
   },
   "outputs": [],
   "source": [
    "tolerance = np.sort(df_scores[:])[10]"
   ]
  },
  {
   "cell_type": "code",
   "execution_count": 15,
   "metadata": {
    "ExecuteTime": {
     "start_time": "2023-04-06T17:08:38.640020Z",
     "end_time": "2023-04-06T17:08:38.671365Z"
    }
   },
   "outputs": [],
   "source": [
    "outlier_boolean = df_scores < tolerance\n",
    "not_outlier_boolean = df_scores > tolerance"
   ]
  },
  {
   "cell_type": "code",
   "execution_count": 16,
   "metadata": {
    "ExecuteTime": {
     "start_time": "2023-04-06T17:08:39.104062Z",
     "end_time": "2023-04-06T17:08:39.148541Z"
    }
   },
   "outputs": [
    {
     "data": {
      "text/plain": "       gender  age    price  payment_method_Credit Card   \n22299       0   69  1500.40                        True  \\\n26490       1   38  1500.40                       False   \n28026       0   61    20.92                       False   \n33876       0   61    20.92                       False   \n46661       0   64   900.24                       False   \n51514       0   61    20.92                        True   \n56406       1   61    20.92                       False   \n72425       1   61    20.92                       False   \n81637       1   61    20.92                       False   \n88310       0   45  1500.40                       False   \n\n       payment_method_Debit Card  category_Clothing  category_Cosmetics   \n22299                      False               True               False  \\\n26490                      False               True               False   \n28026                       True              False               False   \n33876                       True              False               False   \n46661                       True               True               False   \n51514                      False              False               False   \n56406                      False              False               False   \n72425                      False              False               False   \n81637                      False              False               False   \n88310                      False               True               False   \n\n       category_Food & Beverage  category_Shoes  category_Souvenir  ...   \n22299                     False           False              False  ...  \\\n26490                     False           False              False  ...   \n28026                      True           False              False  ...   \n33876                      True           False              False  ...   \n46661                     False           False              False  ...   \n51514                      True           False              False  ...   \n56406                      True           False              False  ...   \n72425                      True           False              False  ...   \n81637                      True           False              False  ...   \n88310                     False           False              False  ...   \n\n       category_Toys  shopping_mall_Emaar Square Mall   \n22299          False                            False  \\\n26490          False                            False   \n28026          False                            False   \n33876          False                            False   \n46661          False                            False   \n51514          False                            False   \n56406          False                            False   \n72425          False                            False   \n81637          False                            False   \n88310          False                            False   \n\n       shopping_mall_Forum Istanbul  shopping_mall_Istinye Park   \n22299                         False                       False  \\\n26490                         False                        True   \n28026                         False                       False   \n33876                         False                       False   \n46661                         False                       False   \n51514                         False                       False   \n56406                         False                       False   \n72425                         False                       False   \n81637                         False                       False   \n88310                         False                       False   \n\n       shopping_mall_Kanyon  shopping_mall_Mall of Istanbul   \n22299                 False                           False  \\\n26490                 False                           False   \n28026                  True                           False   \n33876                  True                           False   \n46661                 False                           False   \n51514                  True                           False   \n56406                  True                           False   \n72425                  True                           False   \n81637                  True                           False   \n88310                 False                           False   \n\n       shopping_mall_Metrocity  shopping_mall_Metropol AVM   \n22299                     True                       False  \\\n26490                    False                       False   \n28026                    False                       False   \n33876                    False                       False   \n46661                     True                       False   \n51514                    False                       False   \n56406                    False                       False   \n72425                    False                       False   \n81637                    False                       False   \n88310                    False                       False   \n\n       shopping_mall_Viaport Outlet  shopping_mall_Zorlu Center  \n22299                         False                       False  \n26490                         False                       False  \n28026                         False                       False  \n33876                         False                       False  \n46661                         False                       False  \n51514                         False                       False  \n56406                         False                       False  \n72425                         False                       False  \n81637                         False                       False  \n88310                         False                       False  \n\n[10 rows x 21 columns]",
      "text/html": "<div>\n<style scoped>\n    .dataframe tbody tr th:only-of-type {\n        vertical-align: middle;\n    }\n\n    .dataframe tbody tr th {\n        vertical-align: top;\n    }\n\n    .dataframe thead th {\n        text-align: right;\n    }\n</style>\n<table border=\"1\" class=\"dataframe\">\n  <thead>\n    <tr style=\"text-align: right;\">\n      <th></th>\n      <th>gender</th>\n      <th>age</th>\n      <th>price</th>\n      <th>payment_method_Credit Card</th>\n      <th>payment_method_Debit Card</th>\n      <th>category_Clothing</th>\n      <th>category_Cosmetics</th>\n      <th>category_Food &amp; Beverage</th>\n      <th>category_Shoes</th>\n      <th>category_Souvenir</th>\n      <th>...</th>\n      <th>category_Toys</th>\n      <th>shopping_mall_Emaar Square Mall</th>\n      <th>shopping_mall_Forum Istanbul</th>\n      <th>shopping_mall_Istinye Park</th>\n      <th>shopping_mall_Kanyon</th>\n      <th>shopping_mall_Mall of Istanbul</th>\n      <th>shopping_mall_Metrocity</th>\n      <th>shopping_mall_Metropol AVM</th>\n      <th>shopping_mall_Viaport Outlet</th>\n      <th>shopping_mall_Zorlu Center</th>\n    </tr>\n  </thead>\n  <tbody>\n    <tr>\n      <th>22299</th>\n      <td>0</td>\n      <td>69</td>\n      <td>1500.40</td>\n      <td>True</td>\n      <td>False</td>\n      <td>True</td>\n      <td>False</td>\n      <td>False</td>\n      <td>False</td>\n      <td>False</td>\n      <td>...</td>\n      <td>False</td>\n      <td>False</td>\n      <td>False</td>\n      <td>False</td>\n      <td>False</td>\n      <td>False</td>\n      <td>True</td>\n      <td>False</td>\n      <td>False</td>\n      <td>False</td>\n    </tr>\n    <tr>\n      <th>26490</th>\n      <td>1</td>\n      <td>38</td>\n      <td>1500.40</td>\n      <td>False</td>\n      <td>False</td>\n      <td>True</td>\n      <td>False</td>\n      <td>False</td>\n      <td>False</td>\n      <td>False</td>\n      <td>...</td>\n      <td>False</td>\n      <td>False</td>\n      <td>False</td>\n      <td>True</td>\n      <td>False</td>\n      <td>False</td>\n      <td>False</td>\n      <td>False</td>\n      <td>False</td>\n      <td>False</td>\n    </tr>\n    <tr>\n      <th>28026</th>\n      <td>0</td>\n      <td>61</td>\n      <td>20.92</td>\n      <td>False</td>\n      <td>True</td>\n      <td>False</td>\n      <td>False</td>\n      <td>True</td>\n      <td>False</td>\n      <td>False</td>\n      <td>...</td>\n      <td>False</td>\n      <td>False</td>\n      <td>False</td>\n      <td>False</td>\n      <td>True</td>\n      <td>False</td>\n      <td>False</td>\n      <td>False</td>\n      <td>False</td>\n      <td>False</td>\n    </tr>\n    <tr>\n      <th>33876</th>\n      <td>0</td>\n      <td>61</td>\n      <td>20.92</td>\n      <td>False</td>\n      <td>True</td>\n      <td>False</td>\n      <td>False</td>\n      <td>True</td>\n      <td>False</td>\n      <td>False</td>\n      <td>...</td>\n      <td>False</td>\n      <td>False</td>\n      <td>False</td>\n      <td>False</td>\n      <td>True</td>\n      <td>False</td>\n      <td>False</td>\n      <td>False</td>\n      <td>False</td>\n      <td>False</td>\n    </tr>\n    <tr>\n      <th>46661</th>\n      <td>0</td>\n      <td>64</td>\n      <td>900.24</td>\n      <td>False</td>\n      <td>True</td>\n      <td>True</td>\n      <td>False</td>\n      <td>False</td>\n      <td>False</td>\n      <td>False</td>\n      <td>...</td>\n      <td>False</td>\n      <td>False</td>\n      <td>False</td>\n      <td>False</td>\n      <td>False</td>\n      <td>False</td>\n      <td>True</td>\n      <td>False</td>\n      <td>False</td>\n      <td>False</td>\n    </tr>\n    <tr>\n      <th>51514</th>\n      <td>0</td>\n      <td>61</td>\n      <td>20.92</td>\n      <td>True</td>\n      <td>False</td>\n      <td>False</td>\n      <td>False</td>\n      <td>True</td>\n      <td>False</td>\n      <td>False</td>\n      <td>...</td>\n      <td>False</td>\n      <td>False</td>\n      <td>False</td>\n      <td>False</td>\n      <td>True</td>\n      <td>False</td>\n      <td>False</td>\n      <td>False</td>\n      <td>False</td>\n      <td>False</td>\n    </tr>\n    <tr>\n      <th>56406</th>\n      <td>1</td>\n      <td>61</td>\n      <td>20.92</td>\n      <td>False</td>\n      <td>False</td>\n      <td>False</td>\n      <td>False</td>\n      <td>True</td>\n      <td>False</td>\n      <td>False</td>\n      <td>...</td>\n      <td>False</td>\n      <td>False</td>\n      <td>False</td>\n      <td>False</td>\n      <td>True</td>\n      <td>False</td>\n      <td>False</td>\n      <td>False</td>\n      <td>False</td>\n      <td>False</td>\n    </tr>\n    <tr>\n      <th>72425</th>\n      <td>1</td>\n      <td>61</td>\n      <td>20.92</td>\n      <td>False</td>\n      <td>False</td>\n      <td>False</td>\n      <td>False</td>\n      <td>True</td>\n      <td>False</td>\n      <td>False</td>\n      <td>...</td>\n      <td>False</td>\n      <td>False</td>\n      <td>False</td>\n      <td>False</td>\n      <td>True</td>\n      <td>False</td>\n      <td>False</td>\n      <td>False</td>\n      <td>False</td>\n      <td>False</td>\n    </tr>\n    <tr>\n      <th>81637</th>\n      <td>1</td>\n      <td>61</td>\n      <td>20.92</td>\n      <td>False</td>\n      <td>False</td>\n      <td>False</td>\n      <td>False</td>\n      <td>True</td>\n      <td>False</td>\n      <td>False</td>\n      <td>...</td>\n      <td>False</td>\n      <td>False</td>\n      <td>False</td>\n      <td>False</td>\n      <td>True</td>\n      <td>False</td>\n      <td>False</td>\n      <td>False</td>\n      <td>False</td>\n      <td>False</td>\n    </tr>\n    <tr>\n      <th>88310</th>\n      <td>0</td>\n      <td>45</td>\n      <td>1500.40</td>\n      <td>False</td>\n      <td>False</td>\n      <td>True</td>\n      <td>False</td>\n      <td>False</td>\n      <td>False</td>\n      <td>False</td>\n      <td>...</td>\n      <td>False</td>\n      <td>False</td>\n      <td>False</td>\n      <td>False</td>\n      <td>False</td>\n      <td>False</td>\n      <td>False</td>\n      <td>False</td>\n      <td>False</td>\n      <td>False</td>\n    </tr>\n  </tbody>\n</table>\n<p>10 rows × 21 columns</p>\n</div>"
     },
     "execution_count": 16,
     "metadata": {},
     "output_type": "execute_result"
    }
   ],
   "source": [
    "df[outlier_boolean]"
   ]
  },
  {
   "cell_type": "code",
   "execution_count": 17,
   "metadata": {
    "ExecuteTime": {
     "start_time": "2023-04-06T17:08:39.773797Z",
     "end_time": "2023-04-06T17:08:39.796232Z"
    }
   },
   "outputs": [],
   "source": [
    "df = df[not_outlier_boolean]"
   ]
  },
  {
   "cell_type": "markdown",
   "metadata": {
    "ExecuteTime": {
     "end_time": "2023-04-04T20:18:47.278773Z",
     "start_time": "2023-04-04T20:18:47.156525Z"
    }
   },
   "source": [
    "### Df"
   ]
  },
  {
   "cell_type": "code",
   "execution_count": 18,
   "outputs": [
    {
     "data": {
      "text/plain": "          count        mean         std    min    25%    50%      75%     max\ngender  99438.0    0.401919    0.490288   0.00   0.00    0.0     1.00     1.0\nage     99438.0   43.425984   14.989547  18.00  30.00   43.0    56.00    69.0\nprice   99438.0  689.214745  941.229503   5.23  45.45  203.3  1200.32  5250.0",
      "text/html": "<div>\n<style scoped>\n    .dataframe tbody tr th:only-of-type {\n        vertical-align: middle;\n    }\n\n    .dataframe tbody tr th {\n        vertical-align: top;\n    }\n\n    .dataframe thead th {\n        text-align: right;\n    }\n</style>\n<table border=\"1\" class=\"dataframe\">\n  <thead>\n    <tr style=\"text-align: right;\">\n      <th></th>\n      <th>count</th>\n      <th>mean</th>\n      <th>std</th>\n      <th>min</th>\n      <th>25%</th>\n      <th>50%</th>\n      <th>75%</th>\n      <th>max</th>\n    </tr>\n  </thead>\n  <tbody>\n    <tr>\n      <th>gender</th>\n      <td>99438.0</td>\n      <td>0.401919</td>\n      <td>0.490288</td>\n      <td>0.00</td>\n      <td>0.00</td>\n      <td>0.0</td>\n      <td>1.00</td>\n      <td>1.0</td>\n    </tr>\n    <tr>\n      <th>age</th>\n      <td>99438.0</td>\n      <td>43.425984</td>\n      <td>14.989547</td>\n      <td>18.00</td>\n      <td>30.00</td>\n      <td>43.0</td>\n      <td>56.00</td>\n      <td>69.0</td>\n    </tr>\n    <tr>\n      <th>price</th>\n      <td>99438.0</td>\n      <td>689.214745</td>\n      <td>941.229503</td>\n      <td>5.23</td>\n      <td>45.45</td>\n      <td>203.3</td>\n      <td>1200.32</td>\n      <td>5250.0</td>\n    </tr>\n  </tbody>\n</table>\n</div>"
     },
     "execution_count": 18,
     "metadata": {},
     "output_type": "execute_result"
    }
   ],
   "source": [
    "df.describe().T"
   ],
   "metadata": {
    "collapsed": false,
    "ExecuteTime": {
     "start_time": "2023-04-06T17:08:40.753008Z",
     "end_time": "2023-04-06T17:08:40.811301Z"
    }
   }
  },
  {
   "cell_type": "markdown",
   "metadata": {},
   "source": [
    "# Models"
   ]
  },
  {
   "cell_type": "code",
   "execution_count": 19,
   "metadata": {
    "ExecuteTime": {
     "start_time": "2023-04-06T17:08:43.129295Z",
     "end_time": "2023-04-06T17:08:43.134301Z"
    }
   },
   "outputs": [],
   "source": [
    "results = []\n",
    "alg_names = []"
   ]
  },
  {
   "cell_type": "code",
   "execution_count": 20,
   "metadata": {
    "ExecuteTime": {
     "start_time": "2023-04-06T17:08:43.847385Z",
     "end_time": "2023-04-06T17:08:43.851342Z"
    }
   },
   "outputs": [],
   "source": [
    "def implementMlAlgorithm(alg, Xtr, ytr, Xte, yte):\n",
    "    model = alg().fit(Xtr, ytr)\n",
    "    score = np.sqrt(mean_squared_error(yte, model.predict(Xte)))\n",
    "\n",
    "    results.append(score)\n",
    "    alg_names.append(alg.__name__)\n",
    "\n",
    "    # print(\"For \" + alg.__name__, \" pre RMSE: \", score)"
   ]
  },
  {
   "cell_type": "code",
   "execution_count": 21,
   "metadata": {
    "ExecuteTime": {
     "start_time": "2023-04-06T17:08:44.474016Z",
     "end_time": "2023-04-06T17:08:44.496398Z"
    }
   },
   "outputs": [],
   "source": [
    "algorithms = [Ridge, Lasso, ElasticNet, LinearRegression, LGBMRegressor,\n",
    "              XGBRegressor, GradientBoostingRegressor, RandomForestRegressor,\n",
    "              DecisionTreeRegressor, MLPRegressor, KNeighborsRegressor, CatBoostRegressor]\n",
    "# SVR took lots of time"
   ]
  },
  {
   "cell_type": "code",
   "execution_count": 22,
   "metadata": {
    "ExecuteTime": {
     "start_time": "2023-04-06T17:08:45.436626Z",
     "end_time": "2023-04-06T17:08:45.459277Z"
    }
   },
   "outputs": [],
   "source": [
    "X_train, X_test, y_train, y_test = train_test_split(df.drop(['price'], axis=1), df['price'], test_size=0.25, random_state=5)"
   ]
  },
  {
   "cell_type": "code",
   "execution_count": 24,
   "metadata": {
    "ExecuteTime": {
     "start_time": "2023-04-06T17:02:08.663857Z",
     "end_time": "2023-04-06T17:04:01.487544Z"
    }
   },
   "outputs": [
    {
     "name": "stdout",
     "output_type": "stream",
     "text": [
      "Learning rate set to 0.080919\n",
      "0:\tlearn: 887.4013969\ttotal: 147ms\tremaining: 2m 27s\n",
      "1:\tlearn: 838.8229679\ttotal: 152ms\tremaining: 1m 15s\n",
      "2:\tlearn: 795.6170397\ttotal: 157ms\tremaining: 52.3s\n",
      "3:\tlearn: 757.1493504\ttotal: 163ms\tremaining: 40.5s\n",
      "4:\tlearn: 723.0524310\ttotal: 168ms\tremaining: 33.4s\n",
      "5:\tlearn: 692.9241372\ttotal: 173ms\tremaining: 28.6s\n",
      "6:\tlearn: 666.3170548\ttotal: 178ms\tremaining: 25.2s\n",
      "7:\tlearn: 643.0394596\ttotal: 182ms\tremaining: 22.6s\n",
      "8:\tlearn: 622.7468579\ttotal: 188ms\tremaining: 20.7s\n",
      "9:\tlearn: 604.9632460\ttotal: 194ms\tremaining: 19.2s\n",
      "10:\tlearn: 589.5678461\ttotal: 198ms\tremaining: 17.8s\n",
      "11:\tlearn: 576.2448822\ttotal: 204ms\tremaining: 16.8s\n",
      "12:\tlearn: 564.7412429\ttotal: 208ms\tremaining: 15.8s\n",
      "13:\tlearn: 554.7711455\ttotal: 214ms\tremaining: 15.1s\n",
      "14:\tlearn: 546.2032320\ttotal: 220ms\tremaining: 14.4s\n",
      "15:\tlearn: 538.8842385\ttotal: 226ms\tremaining: 13.9s\n",
      "16:\tlearn: 532.5632807\ttotal: 231ms\tremaining: 13.4s\n",
      "17:\tlearn: 527.2294004\ttotal: 236ms\tremaining: 12.9s\n",
      "18:\tlearn: 522.6136769\ttotal: 242ms\tremaining: 12.5s\n",
      "19:\tlearn: 518.6544836\ttotal: 248ms\tremaining: 12.2s\n",
      "20:\tlearn: 515.2921990\ttotal: 255ms\tremaining: 11.9s\n",
      "21:\tlearn: 512.4219391\ttotal: 262ms\tremaining: 11.7s\n",
      "22:\tlearn: 509.9836365\ttotal: 269ms\tremaining: 11.4s\n",
      "23:\tlearn: 507.9636715\ttotal: 275ms\tremaining: 11.2s\n",
      "24:\tlearn: 506.2389913\ttotal: 283ms\tremaining: 11s\n",
      "25:\tlearn: 504.7547401\ttotal: 289ms\tremaining: 10.8s\n",
      "26:\tlearn: 503.4831027\ttotal: 296ms\tremaining: 10.7s\n",
      "27:\tlearn: 502.4406733\ttotal: 301ms\tremaining: 10.4s\n",
      "28:\tlearn: 501.5259185\ttotal: 307ms\tremaining: 10.3s\n",
      "29:\tlearn: 500.7543442\ttotal: 313ms\tremaining: 10.1s\n",
      "30:\tlearn: 500.1045597\ttotal: 319ms\tremaining: 9.98s\n",
      "31:\tlearn: 499.5538695\ttotal: 325ms\tremaining: 9.84s\n",
      "32:\tlearn: 499.0795006\ttotal: 331ms\tremaining: 9.7s\n",
      "33:\tlearn: 498.6743556\ttotal: 337ms\tremaining: 9.57s\n",
      "34:\tlearn: 498.3510516\ttotal: 342ms\tremaining: 9.43s\n",
      "35:\tlearn: 498.0463573\ttotal: 348ms\tremaining: 9.32s\n",
      "36:\tlearn: 497.7923207\ttotal: 354ms\tremaining: 9.21s\n",
      "37:\tlearn: 497.5525790\ttotal: 361ms\tremaining: 9.15s\n",
      "38:\tlearn: 497.3320081\ttotal: 368ms\tremaining: 9.07s\n",
      "39:\tlearn: 497.1799903\ttotal: 375ms\tremaining: 9.01s\n",
      "40:\tlearn: 497.0414811\ttotal: 381ms\tremaining: 8.91s\n",
      "41:\tlearn: 496.9294030\ttotal: 387ms\tremaining: 8.82s\n",
      "42:\tlearn: 496.8001474\ttotal: 393ms\tremaining: 8.74s\n",
      "43:\tlearn: 496.6874655\ttotal: 398ms\tremaining: 8.65s\n",
      "44:\tlearn: 496.5852998\ttotal: 405ms\tremaining: 8.61s\n",
      "45:\tlearn: 496.4646611\ttotal: 412ms\tremaining: 8.54s\n",
      "46:\tlearn: 496.3691656\ttotal: 418ms\tremaining: 8.48s\n",
      "47:\tlearn: 496.2948958\ttotal: 425ms\tremaining: 8.42s\n",
      "48:\tlearn: 496.1756360\ttotal: 431ms\tremaining: 8.36s\n",
      "49:\tlearn: 496.0820250\ttotal: 437ms\tremaining: 8.3s\n",
      "50:\tlearn: 495.9735996\ttotal: 443ms\tremaining: 8.25s\n",
      "51:\tlearn: 495.9319036\ttotal: 450ms\tremaining: 8.21s\n",
      "52:\tlearn: 495.8162734\ttotal: 457ms\tremaining: 8.16s\n",
      "53:\tlearn: 495.7363061\ttotal: 467ms\tremaining: 8.18s\n",
      "54:\tlearn: 495.6997085\ttotal: 474ms\tremaining: 8.14s\n",
      "55:\tlearn: 495.6842257\ttotal: 481ms\tremaining: 8.11s\n",
      "56:\tlearn: 495.6698489\ttotal: 488ms\tremaining: 8.07s\n",
      "57:\tlearn: 495.6572284\ttotal: 493ms\tremaining: 8s\n",
      "58:\tlearn: 495.5844806\ttotal: 500ms\tremaining: 7.98s\n",
      "59:\tlearn: 495.5543240\ttotal: 507ms\tremaining: 7.93s\n",
      "60:\tlearn: 495.5505548\ttotal: 511ms\tremaining: 7.86s\n",
      "61:\tlearn: 495.4902206\ttotal: 517ms\tremaining: 7.82s\n",
      "62:\tlearn: 495.4683611\ttotal: 523ms\tremaining: 7.77s\n",
      "63:\tlearn: 495.4238838\ttotal: 529ms\tremaining: 7.73s\n",
      "64:\tlearn: 495.3526866\ttotal: 535ms\tremaining: 7.69s\n",
      "65:\tlearn: 495.3231001\ttotal: 540ms\tremaining: 7.65s\n",
      "66:\tlearn: 495.2573708\ttotal: 546ms\tremaining: 7.61s\n",
      "67:\tlearn: 495.2551130\ttotal: 551ms\tremaining: 7.55s\n",
      "68:\tlearn: 495.2086165\ttotal: 557ms\tremaining: 7.51s\n",
      "69:\tlearn: 495.1695463\ttotal: 563ms\tremaining: 7.48s\n",
      "70:\tlearn: 495.1410747\ttotal: 569ms\tremaining: 7.44s\n",
      "71:\tlearn: 495.0920778\ttotal: 575ms\tremaining: 7.41s\n",
      "72:\tlearn: 495.0223408\ttotal: 580ms\tremaining: 7.37s\n",
      "73:\tlearn: 494.9283320\ttotal: 586ms\tremaining: 7.33s\n",
      "74:\tlearn: 494.8939776\ttotal: 592ms\tremaining: 7.3s\n",
      "75:\tlearn: 494.8364395\ttotal: 597ms\tremaining: 7.26s\n",
      "76:\tlearn: 494.8006437\ttotal: 602ms\tremaining: 7.21s\n",
      "77:\tlearn: 494.7264926\ttotal: 607ms\tremaining: 7.17s\n",
      "78:\tlearn: 494.7071208\ttotal: 612ms\tremaining: 7.13s\n",
      "79:\tlearn: 494.6986325\ttotal: 618ms\tremaining: 7.1s\n",
      "80:\tlearn: 494.6354160\ttotal: 623ms\tremaining: 7.06s\n",
      "81:\tlearn: 494.6324796\ttotal: 627ms\tremaining: 7.02s\n",
      "82:\tlearn: 494.6251401\ttotal: 634ms\tremaining: 7s\n",
      "83:\tlearn: 494.5429766\ttotal: 639ms\tremaining: 6.97s\n",
      "84:\tlearn: 494.4666962\ttotal: 644ms\tremaining: 6.93s\n",
      "85:\tlearn: 494.4064124\ttotal: 651ms\tremaining: 6.91s\n",
      "86:\tlearn: 494.3753553\ttotal: 657ms\tremaining: 6.89s\n",
      "87:\tlearn: 494.3483797\ttotal: 664ms\tremaining: 6.88s\n",
      "88:\tlearn: 494.2830784\ttotal: 671ms\tremaining: 6.87s\n",
      "89:\tlearn: 494.2234441\ttotal: 678ms\tremaining: 6.86s\n",
      "90:\tlearn: 494.1904309\ttotal: 684ms\tremaining: 6.84s\n",
      "91:\tlearn: 494.1533068\ttotal: 690ms\tremaining: 6.81s\n",
      "92:\tlearn: 494.1067586\ttotal: 697ms\tremaining: 6.79s\n",
      "93:\tlearn: 494.1067585\ttotal: 700ms\tremaining: 6.75s\n",
      "94:\tlearn: 494.0066190\ttotal: 706ms\tremaining: 6.72s\n",
      "95:\tlearn: 493.9872020\ttotal: 711ms\tremaining: 6.7s\n",
      "96:\tlearn: 493.9282758\ttotal: 717ms\tremaining: 6.67s\n",
      "97:\tlearn: 493.8731445\ttotal: 723ms\tremaining: 6.65s\n",
      "98:\tlearn: 493.8628793\ttotal: 729ms\tremaining: 6.63s\n",
      "99:\tlearn: 493.7931315\ttotal: 734ms\tremaining: 6.61s\n",
      "100:\tlearn: 493.7382800\ttotal: 740ms\tremaining: 6.59s\n",
      "101:\tlearn: 493.7308178\ttotal: 746ms\tremaining: 6.57s\n",
      "102:\tlearn: 493.7261030\ttotal: 753ms\tremaining: 6.55s\n",
      "103:\tlearn: 493.6566809\ttotal: 758ms\tremaining: 6.53s\n",
      "104:\tlearn: 493.6325607\ttotal: 764ms\tremaining: 6.51s\n",
      "105:\tlearn: 493.5720743\ttotal: 770ms\tremaining: 6.49s\n",
      "106:\tlearn: 493.5169387\ttotal: 775ms\tremaining: 6.47s\n",
      "107:\tlearn: 493.4960173\ttotal: 780ms\tremaining: 6.45s\n",
      "108:\tlearn: 493.4833310\ttotal: 786ms\tremaining: 6.42s\n",
      "109:\tlearn: 493.3842809\ttotal: 791ms\tremaining: 6.4s\n",
      "110:\tlearn: 493.3289294\ttotal: 797ms\tremaining: 6.38s\n",
      "111:\tlearn: 493.2946756\ttotal: 802ms\tremaining: 6.36s\n",
      "112:\tlearn: 493.2403546\ttotal: 807ms\tremaining: 6.33s\n",
      "113:\tlearn: 493.1967733\ttotal: 812ms\tremaining: 6.31s\n",
      "114:\tlearn: 493.1651669\ttotal: 818ms\tremaining: 6.29s\n",
      "115:\tlearn: 493.1247162\ttotal: 823ms\tremaining: 6.27s\n",
      "116:\tlearn: 493.0595147\ttotal: 829ms\tremaining: 6.25s\n",
      "117:\tlearn: 493.0115434\ttotal: 835ms\tremaining: 6.24s\n",
      "118:\tlearn: 492.9999872\ttotal: 840ms\tremaining: 6.22s\n",
      "119:\tlearn: 492.9812742\ttotal: 846ms\tremaining: 6.2s\n",
      "120:\tlearn: 492.9505357\ttotal: 851ms\tremaining: 6.18s\n",
      "121:\tlearn: 492.8990912\ttotal: 856ms\tremaining: 6.16s\n",
      "122:\tlearn: 492.8986887\ttotal: 860ms\tremaining: 6.13s\n",
      "123:\tlearn: 492.8350250\ttotal: 866ms\tremaining: 6.12s\n",
      "124:\tlearn: 492.7900582\ttotal: 873ms\tremaining: 6.11s\n",
      "125:\tlearn: 492.7741351\ttotal: 880ms\tremaining: 6.1s\n",
      "126:\tlearn: 492.7257545\ttotal: 887ms\tremaining: 6.1s\n",
      "127:\tlearn: 492.6696925\ttotal: 895ms\tremaining: 6.09s\n",
      "128:\tlearn: 492.6038816\ttotal: 901ms\tremaining: 6.08s\n",
      "129:\tlearn: 492.5293955\ttotal: 907ms\tremaining: 6.07s\n",
      "130:\tlearn: 492.4872875\ttotal: 913ms\tremaining: 6.05s\n",
      "131:\tlearn: 492.4734196\ttotal: 918ms\tremaining: 6.04s\n",
      "132:\tlearn: 492.4541967\ttotal: 924ms\tremaining: 6.02s\n",
      "133:\tlearn: 492.3658401\ttotal: 929ms\tremaining: 6s\n",
      "134:\tlearn: 492.3105422\ttotal: 934ms\tremaining: 5.99s\n",
      "135:\tlearn: 492.2626876\ttotal: 939ms\tremaining: 5.97s\n",
      "136:\tlearn: 492.2170235\ttotal: 946ms\tremaining: 5.96s\n",
      "137:\tlearn: 492.1892633\ttotal: 952ms\tremaining: 5.95s\n",
      "138:\tlearn: 492.1550788\ttotal: 957ms\tremaining: 5.93s\n",
      "139:\tlearn: 492.1097865\ttotal: 962ms\tremaining: 5.91s\n",
      "140:\tlearn: 492.0735789\ttotal: 967ms\tremaining: 5.89s\n",
      "141:\tlearn: 491.9741432\ttotal: 973ms\tremaining: 5.88s\n",
      "142:\tlearn: 491.9163601\ttotal: 978ms\tremaining: 5.86s\n",
      "143:\tlearn: 491.8795384\ttotal: 983ms\tremaining: 5.84s\n",
      "144:\tlearn: 491.8460419\ttotal: 988ms\tremaining: 5.83s\n",
      "145:\tlearn: 491.8346784\ttotal: 993ms\tremaining: 5.81s\n",
      "146:\tlearn: 491.7907590\ttotal: 998ms\tremaining: 5.79s\n",
      "147:\tlearn: 491.7513347\ttotal: 1s\tremaining: 5.78s\n",
      "148:\tlearn: 491.7291893\ttotal: 1.01s\tremaining: 5.76s\n",
      "149:\tlearn: 491.6810600\ttotal: 1.01s\tremaining: 5.74s\n",
      "150:\tlearn: 491.6566174\ttotal: 1.02s\tremaining: 5.73s\n",
      "151:\tlearn: 491.6102765\ttotal: 1.02s\tremaining: 5.71s\n",
      "152:\tlearn: 491.5580585\ttotal: 1.03s\tremaining: 5.7s\n",
      "153:\tlearn: 491.5384200\ttotal: 1.04s\tremaining: 5.69s\n",
      "154:\tlearn: 491.5234121\ttotal: 1.04s\tremaining: 5.68s\n",
      "155:\tlearn: 491.4807484\ttotal: 1.05s\tremaining: 5.66s\n",
      "156:\tlearn: 491.4529483\ttotal: 1.05s\tremaining: 5.65s\n",
      "157:\tlearn: 491.4472716\ttotal: 1.06s\tremaining: 5.64s\n",
      "158:\tlearn: 491.4138591\ttotal: 1.06s\tremaining: 5.63s\n",
      "159:\tlearn: 491.4092052\ttotal: 1.07s\tremaining: 5.62s\n",
      "160:\tlearn: 491.3658453\ttotal: 1.08s\tremaining: 5.61s\n",
      "161:\tlearn: 491.3297026\ttotal: 1.08s\tremaining: 5.6s\n",
      "162:\tlearn: 491.3084026\ttotal: 1.09s\tremaining: 5.59s\n",
      "163:\tlearn: 491.2730003\ttotal: 1.09s\tremaining: 5.58s\n",
      "164:\tlearn: 491.2377804\ttotal: 1.1s\tremaining: 5.57s\n",
      "165:\tlearn: 491.1989949\ttotal: 1.1s\tremaining: 5.55s\n",
      "166:\tlearn: 491.1794303\ttotal: 1.11s\tremaining: 5.54s\n",
      "167:\tlearn: 491.1572716\ttotal: 1.11s\tremaining: 5.52s\n",
      "168:\tlearn: 491.1058901\ttotal: 1.12s\tremaining: 5.51s\n",
      "169:\tlearn: 491.0795727\ttotal: 1.13s\tremaining: 5.5s\n",
      "170:\tlearn: 491.0199628\ttotal: 1.13s\tremaining: 5.48s\n",
      "171:\tlearn: 491.0158924\ttotal: 1.14s\tremaining: 5.47s\n",
      "172:\tlearn: 490.9758420\ttotal: 1.14s\tremaining: 5.45s\n",
      "173:\tlearn: 490.9633877\ttotal: 1.15s\tremaining: 5.44s\n",
      "174:\tlearn: 490.9110664\ttotal: 1.15s\tremaining: 5.43s\n",
      "175:\tlearn: 490.8730662\ttotal: 1.16s\tremaining: 5.41s\n",
      "176:\tlearn: 490.8180447\ttotal: 1.16s\tremaining: 5.39s\n",
      "177:\tlearn: 490.7809811\ttotal: 1.16s\tremaining: 5.38s\n",
      "178:\tlearn: 490.7316078\ttotal: 1.17s\tremaining: 5.37s\n",
      "179:\tlearn: 490.7182334\ttotal: 1.17s\tremaining: 5.35s\n",
      "180:\tlearn: 490.6695370\ttotal: 1.18s\tremaining: 5.34s\n",
      "181:\tlearn: 490.6464462\ttotal: 1.18s\tremaining: 5.32s\n",
      "182:\tlearn: 490.5957227\ttotal: 1.19s\tremaining: 5.31s\n",
      "183:\tlearn: 490.5663977\ttotal: 1.19s\tremaining: 5.29s\n",
      "184:\tlearn: 490.5355621\ttotal: 1.2s\tremaining: 5.28s\n",
      "185:\tlearn: 490.4888435\ttotal: 1.2s\tremaining: 5.26s\n",
      "186:\tlearn: 490.4569273\ttotal: 1.21s\tremaining: 5.25s\n",
      "187:\tlearn: 490.4259259\ttotal: 1.21s\tremaining: 5.24s\n",
      "188:\tlearn: 490.3785495\ttotal: 1.22s\tremaining: 5.23s\n",
      "189:\tlearn: 490.3599386\ttotal: 1.22s\tremaining: 5.21s\n",
      "190:\tlearn: 490.3453551\ttotal: 1.23s\tremaining: 5.2s\n",
      "191:\tlearn: 490.3059227\ttotal: 1.23s\tremaining: 5.19s\n",
      "192:\tlearn: 490.2865365\ttotal: 1.24s\tremaining: 5.18s\n",
      "193:\tlearn: 490.2700783\ttotal: 1.24s\tremaining: 5.17s\n",
      "194:\tlearn: 490.2587247\ttotal: 1.25s\tremaining: 5.16s\n",
      "195:\tlearn: 490.2172199\ttotal: 1.25s\tremaining: 5.14s\n",
      "196:\tlearn: 490.1728453\ttotal: 1.26s\tremaining: 5.13s\n",
      "197:\tlearn: 490.1533044\ttotal: 1.26s\tremaining: 5.12s\n",
      "198:\tlearn: 490.1439508\ttotal: 1.27s\tremaining: 5.12s\n",
      "199:\tlearn: 490.1026051\ttotal: 1.28s\tremaining: 5.11s\n",
      "200:\tlearn: 490.0992806\ttotal: 1.28s\tremaining: 5.1s\n",
      "201:\tlearn: 490.0248547\ttotal: 1.29s\tremaining: 5.1s\n",
      "202:\tlearn: 489.9777126\ttotal: 1.29s\tremaining: 5.09s\n",
      "203:\tlearn: 489.9312348\ttotal: 1.3s\tremaining: 5.07s\n",
      "204:\tlearn: 489.8943566\ttotal: 1.31s\tremaining: 5.06s\n",
      "205:\tlearn: 489.8332509\ttotal: 1.31s\tremaining: 5.05s\n",
      "206:\tlearn: 489.7880164\ttotal: 1.31s\tremaining: 5.04s\n",
      "207:\tlearn: 489.7850652\ttotal: 1.32s\tremaining: 5.03s\n",
      "208:\tlearn: 489.7484871\ttotal: 1.32s\tremaining: 5.02s\n",
      "209:\tlearn: 489.6884900\ttotal: 1.33s\tremaining: 5.01s\n",
      "210:\tlearn: 489.6513069\ttotal: 1.33s\tremaining: 4.99s\n",
      "211:\tlearn: 489.6388820\ttotal: 1.34s\tremaining: 4.98s\n",
      "212:\tlearn: 489.5775089\ttotal: 1.34s\tremaining: 4.97s\n",
      "213:\tlearn: 489.5748939\ttotal: 1.35s\tremaining: 4.96s\n",
      "214:\tlearn: 489.5432342\ttotal: 1.35s\tremaining: 4.95s\n",
      "215:\tlearn: 489.4796072\ttotal: 1.36s\tremaining: 4.94s\n",
      "216:\tlearn: 489.4345550\ttotal: 1.36s\tremaining: 4.92s\n",
      "217:\tlearn: 489.3881000\ttotal: 1.37s\tremaining: 4.91s\n",
      "218:\tlearn: 489.3274304\ttotal: 1.37s\tremaining: 4.9s\n",
      "219:\tlearn: 489.2865894\ttotal: 1.38s\tremaining: 4.89s\n",
      "220:\tlearn: 489.2617564\ttotal: 1.38s\tremaining: 4.88s\n",
      "221:\tlearn: 489.2266221\ttotal: 1.39s\tremaining: 4.87s\n",
      "222:\tlearn: 489.1881764\ttotal: 1.39s\tremaining: 4.86s\n",
      "223:\tlearn: 489.1731563\ttotal: 1.4s\tremaining: 4.85s\n",
      "224:\tlearn: 489.1331529\ttotal: 1.4s\tremaining: 4.84s\n",
      "225:\tlearn: 489.1208627\ttotal: 1.41s\tremaining: 4.83s\n",
      "226:\tlearn: 489.1049011\ttotal: 1.41s\tremaining: 4.82s\n",
      "227:\tlearn: 489.0650595\ttotal: 1.42s\tremaining: 4.8s\n",
      "228:\tlearn: 489.0445838\ttotal: 1.42s\tremaining: 4.79s\n",
      "229:\tlearn: 489.0274694\ttotal: 1.43s\tremaining: 4.79s\n",
      "230:\tlearn: 489.0056550\ttotal: 1.44s\tremaining: 4.78s\n",
      "231:\tlearn: 488.9804308\ttotal: 1.44s\tremaining: 4.77s\n",
      "232:\tlearn: 488.9706366\ttotal: 1.45s\tremaining: 4.76s\n",
      "233:\tlearn: 488.9682166\ttotal: 1.45s\tremaining: 4.75s\n",
      "234:\tlearn: 488.9283404\ttotal: 1.46s\tremaining: 4.74s\n",
      "235:\tlearn: 488.8944351\ttotal: 1.46s\tremaining: 4.73s\n",
      "236:\tlearn: 488.8529785\ttotal: 1.47s\tremaining: 4.73s\n",
      "237:\tlearn: 488.8384702\ttotal: 1.47s\tremaining: 4.72s\n",
      "238:\tlearn: 488.8074277\ttotal: 1.48s\tremaining: 4.71s\n",
      "239:\tlearn: 488.7686542\ttotal: 1.49s\tremaining: 4.7s\n",
      "240:\tlearn: 488.7435422\ttotal: 1.49s\tremaining: 4.7s\n",
      "241:\tlearn: 488.6887402\ttotal: 1.5s\tremaining: 4.69s\n",
      "242:\tlearn: 488.6467655\ttotal: 1.5s\tremaining: 4.68s\n",
      "243:\tlearn: 488.6340051\ttotal: 1.51s\tremaining: 4.67s\n",
      "244:\tlearn: 488.6205790\ttotal: 1.51s\tremaining: 4.67s\n",
      "245:\tlearn: 488.5985612\ttotal: 1.52s\tremaining: 4.66s\n",
      "246:\tlearn: 488.5717717\ttotal: 1.52s\tremaining: 4.64s\n",
      "247:\tlearn: 488.5517308\ttotal: 1.53s\tremaining: 4.63s\n",
      "248:\tlearn: 488.5394009\ttotal: 1.53s\tremaining: 4.62s\n",
      "249:\tlearn: 488.5183475\ttotal: 1.54s\tremaining: 4.61s\n",
      "250:\tlearn: 488.5161616\ttotal: 1.54s\tremaining: 4.6s\n",
      "251:\tlearn: 488.4608973\ttotal: 1.55s\tremaining: 4.59s\n",
      "252:\tlearn: 488.4288883\ttotal: 1.55s\tremaining: 4.58s\n",
      "253:\tlearn: 488.4115130\ttotal: 1.56s\tremaining: 4.57s\n",
      "254:\tlearn: 488.3564870\ttotal: 1.56s\tremaining: 4.56s\n",
      "255:\tlearn: 488.3289063\ttotal: 1.57s\tremaining: 4.55s\n",
      "256:\tlearn: 488.3108408\ttotal: 1.57s\tremaining: 4.55s\n",
      "257:\tlearn: 488.3089225\ttotal: 1.58s\tremaining: 4.54s\n",
      "258:\tlearn: 488.2676921\ttotal: 1.58s\tremaining: 4.53s\n",
      "259:\tlearn: 488.2324193\ttotal: 1.59s\tremaining: 4.52s\n",
      "260:\tlearn: 488.2012407\ttotal: 1.59s\tremaining: 4.51s\n",
      "261:\tlearn: 488.1840461\ttotal: 1.6s\tremaining: 4.5s\n",
      "262:\tlearn: 488.1695891\ttotal: 1.6s\tremaining: 4.49s\n",
      "263:\tlearn: 488.1407490\ttotal: 1.61s\tremaining: 4.48s\n",
      "264:\tlearn: 488.1041199\ttotal: 1.61s\tremaining: 4.47s\n",
      "265:\tlearn: 488.0667361\ttotal: 1.62s\tremaining: 4.46s\n",
      "266:\tlearn: 488.0277822\ttotal: 1.62s\tremaining: 4.45s\n",
      "267:\tlearn: 488.0118794\ttotal: 1.63s\tremaining: 4.44s\n",
      "268:\tlearn: 487.9916474\ttotal: 1.63s\tremaining: 4.43s\n",
      "269:\tlearn: 487.9873273\ttotal: 1.64s\tremaining: 4.42s\n",
      "270:\tlearn: 487.9668357\ttotal: 1.64s\tremaining: 4.42s\n",
      "271:\tlearn: 487.9391604\ttotal: 1.65s\tremaining: 4.41s\n",
      "272:\tlearn: 487.9295997\ttotal: 1.65s\tremaining: 4.39s\n",
      "273:\tlearn: 487.9208416\ttotal: 1.66s\tremaining: 4.39s\n",
      "274:\tlearn: 487.9047767\ttotal: 1.66s\tremaining: 4.38s\n",
      "275:\tlearn: 487.8848295\ttotal: 1.67s\tremaining: 4.37s\n",
      "276:\tlearn: 487.8737698\ttotal: 1.67s\tremaining: 4.36s\n",
      "277:\tlearn: 487.8598029\ttotal: 1.68s\tremaining: 4.36s\n",
      "278:\tlearn: 487.8515768\ttotal: 1.68s\tremaining: 4.35s\n",
      "279:\tlearn: 487.8321981\ttotal: 1.69s\tremaining: 4.35s\n",
      "280:\tlearn: 487.8201745\ttotal: 1.7s\tremaining: 4.34s\n",
      "281:\tlearn: 487.8046181\ttotal: 1.7s\tremaining: 4.34s\n",
      "282:\tlearn: 487.7587698\ttotal: 1.71s\tremaining: 4.33s\n",
      "283:\tlearn: 487.7570897\ttotal: 1.72s\tremaining: 4.33s\n",
      "284:\tlearn: 487.7127239\ttotal: 1.72s\tremaining: 4.32s\n",
      "285:\tlearn: 487.6546397\ttotal: 1.73s\tremaining: 4.32s\n",
      "286:\tlearn: 487.6358762\ttotal: 1.73s\tremaining: 4.31s\n",
      "287:\tlearn: 487.6137518\ttotal: 1.74s\tremaining: 4.3s\n",
      "288:\tlearn: 487.5922071\ttotal: 1.75s\tremaining: 4.29s\n",
      "289:\tlearn: 487.5781833\ttotal: 1.75s\tremaining: 4.29s\n",
      "290:\tlearn: 487.5502124\ttotal: 1.76s\tremaining: 4.28s\n",
      "291:\tlearn: 487.5452035\ttotal: 1.76s\tremaining: 4.27s\n",
      "292:\tlearn: 487.5326337\ttotal: 1.77s\tremaining: 4.27s\n",
      "293:\tlearn: 487.5231631\ttotal: 1.77s\tremaining: 4.26s\n",
      "294:\tlearn: 487.4787717\ttotal: 1.78s\tremaining: 4.26s\n",
      "295:\tlearn: 487.4656055\ttotal: 1.79s\tremaining: 4.25s\n",
      "296:\tlearn: 487.4508536\ttotal: 1.79s\tremaining: 4.24s\n",
      "297:\tlearn: 487.4405082\ttotal: 1.8s\tremaining: 4.23s\n",
      "298:\tlearn: 487.4123867\ttotal: 1.8s\tremaining: 4.22s\n",
      "299:\tlearn: 487.3935780\ttotal: 1.81s\tremaining: 4.21s\n",
      "300:\tlearn: 487.3680194\ttotal: 1.81s\tremaining: 4.21s\n",
      "301:\tlearn: 487.3328631\ttotal: 1.81s\tremaining: 4.2s\n",
      "302:\tlearn: 487.3222438\ttotal: 1.82s\tremaining: 4.19s\n",
      "303:\tlearn: 487.2981149\ttotal: 1.83s\tremaining: 4.18s\n",
      "304:\tlearn: 487.2935461\ttotal: 1.83s\tremaining: 4.17s\n",
      "305:\tlearn: 487.2523212\ttotal: 1.84s\tremaining: 4.17s\n",
      "306:\tlearn: 487.2362747\ttotal: 1.84s\tremaining: 4.16s\n",
      "307:\tlearn: 487.2035931\ttotal: 1.85s\tremaining: 4.15s\n",
      "308:\tlearn: 487.1968741\ttotal: 1.85s\tremaining: 4.14s\n",
      "309:\tlearn: 487.1734904\ttotal: 1.86s\tremaining: 4.14s\n",
      "310:\tlearn: 487.1439783\ttotal: 1.86s\tremaining: 4.13s\n",
      "311:\tlearn: 487.1298009\ttotal: 1.87s\tremaining: 4.12s\n",
      "312:\tlearn: 487.1205484\ttotal: 1.87s\tremaining: 4.11s\n",
      "313:\tlearn: 487.0984344\ttotal: 1.88s\tremaining: 4.11s\n",
      "314:\tlearn: 487.0658036\ttotal: 1.89s\tremaining: 4.1s\n",
      "315:\tlearn: 487.0196891\ttotal: 1.89s\tremaining: 4.1s\n",
      "316:\tlearn: 486.9906512\ttotal: 1.9s\tremaining: 4.09s\n",
      "317:\tlearn: 486.9738043\ttotal: 1.9s\tremaining: 4.08s\n",
      "318:\tlearn: 486.9664710\ttotal: 1.91s\tremaining: 4.08s\n",
      "319:\tlearn: 486.9650360\ttotal: 1.92s\tremaining: 4.07s\n",
      "320:\tlearn: 486.9185528\ttotal: 1.92s\tremaining: 4.07s\n",
      "321:\tlearn: 486.8998246\ttotal: 1.93s\tremaining: 4.06s\n",
      "322:\tlearn: 486.8716663\ttotal: 1.93s\tremaining: 4.05s\n",
      "323:\tlearn: 486.8557188\ttotal: 1.94s\tremaining: 4.05s\n",
      "324:\tlearn: 486.8275768\ttotal: 1.94s\tremaining: 4.04s\n",
      "325:\tlearn: 486.8190654\ttotal: 1.95s\tremaining: 4.03s\n",
      "326:\tlearn: 486.7957778\ttotal: 1.96s\tremaining: 4.02s\n",
      "327:\tlearn: 486.7761382\ttotal: 1.96s\tremaining: 4.01s\n",
      "328:\tlearn: 486.7641467\ttotal: 1.96s\tremaining: 4.01s\n",
      "329:\tlearn: 486.7319638\ttotal: 1.97s\tremaining: 4s\n",
      "330:\tlearn: 486.7164634\ttotal: 1.97s\tremaining: 3.99s\n",
      "331:\tlearn: 486.7045553\ttotal: 1.98s\tremaining: 3.98s\n",
      "332:\tlearn: 486.6575479\ttotal: 1.99s\tremaining: 3.98s\n",
      "333:\tlearn: 486.6331495\ttotal: 1.99s\tremaining: 3.97s\n",
      "334:\tlearn: 486.6240947\ttotal: 2s\tremaining: 3.96s\n",
      "335:\tlearn: 486.5944030\ttotal: 2s\tremaining: 3.95s\n",
      "336:\tlearn: 486.5835458\ttotal: 2s\tremaining: 3.95s\n",
      "337:\tlearn: 486.5664297\ttotal: 2.01s\tremaining: 3.94s\n",
      "338:\tlearn: 486.5560437\ttotal: 2.02s\tremaining: 3.93s\n",
      "339:\tlearn: 486.5528201\ttotal: 2.02s\tremaining: 3.92s\n",
      "340:\tlearn: 486.5335521\ttotal: 2.03s\tremaining: 3.92s\n",
      "341:\tlearn: 486.5168707\ttotal: 2.03s\tremaining: 3.91s\n",
      "342:\tlearn: 486.5156536\ttotal: 2.04s\tremaining: 3.9s\n",
      "343:\tlearn: 486.4974397\ttotal: 2.04s\tremaining: 3.9s\n",
      "344:\tlearn: 486.4454477\ttotal: 2.05s\tremaining: 3.89s\n",
      "345:\tlearn: 486.4193371\ttotal: 2.05s\tremaining: 3.88s\n",
      "346:\tlearn: 486.3944903\ttotal: 2.06s\tremaining: 3.88s\n",
      "347:\tlearn: 486.3630593\ttotal: 2.06s\tremaining: 3.87s\n",
      "348:\tlearn: 486.3264698\ttotal: 2.07s\tremaining: 3.86s\n",
      "349:\tlearn: 486.3178432\ttotal: 2.07s\tremaining: 3.85s\n",
      "350:\tlearn: 486.2856034\ttotal: 2.08s\tremaining: 3.85s\n",
      "351:\tlearn: 486.2717521\ttotal: 2.08s\tremaining: 3.84s\n",
      "352:\tlearn: 486.2554393\ttotal: 2.09s\tremaining: 3.83s\n",
      "353:\tlearn: 486.2465313\ttotal: 2.1s\tremaining: 3.83s\n",
      "354:\tlearn: 486.2334795\ttotal: 2.1s\tremaining: 3.82s\n",
      "355:\tlearn: 486.2003155\ttotal: 2.11s\tremaining: 3.82s\n",
      "356:\tlearn: 486.1954183\ttotal: 2.12s\tremaining: 3.81s\n",
      "357:\tlearn: 486.1810268\ttotal: 2.12s\tremaining: 3.81s\n",
      "358:\tlearn: 486.1630698\ttotal: 2.13s\tremaining: 3.8s\n",
      "359:\tlearn: 486.1527251\ttotal: 2.13s\tremaining: 3.79s\n",
      "360:\tlearn: 486.1303734\ttotal: 2.14s\tremaining: 3.79s\n",
      "361:\tlearn: 486.0731625\ttotal: 2.15s\tremaining: 3.78s\n",
      "362:\tlearn: 486.0593413\ttotal: 2.15s\tremaining: 3.78s\n",
      "363:\tlearn: 486.0224247\ttotal: 2.16s\tremaining: 3.77s\n",
      "364:\tlearn: 486.0062753\ttotal: 2.16s\tremaining: 3.76s\n",
      "365:\tlearn: 486.0004132\ttotal: 2.17s\tremaining: 3.76s\n",
      "366:\tlearn: 485.9745357\ttotal: 2.17s\tremaining: 3.75s\n",
      "367:\tlearn: 485.9476942\ttotal: 2.18s\tremaining: 3.74s\n",
      "368:\tlearn: 485.9359515\ttotal: 2.18s\tremaining: 3.73s\n",
      "369:\tlearn: 485.9221166\ttotal: 2.19s\tremaining: 3.73s\n",
      "370:\tlearn: 485.9047342\ttotal: 2.19s\tremaining: 3.72s\n",
      "371:\tlearn: 485.8886712\ttotal: 2.2s\tremaining: 3.71s\n",
      "372:\tlearn: 485.8805227\ttotal: 2.21s\tremaining: 3.71s\n",
      "373:\tlearn: 485.8700615\ttotal: 2.21s\tremaining: 3.7s\n",
      "374:\tlearn: 485.8500288\ttotal: 2.21s\tremaining: 3.69s\n",
      "375:\tlearn: 485.8239482\ttotal: 2.22s\tremaining: 3.68s\n",
      "376:\tlearn: 485.7725639\ttotal: 2.23s\tremaining: 3.68s\n",
      "377:\tlearn: 485.7489299\ttotal: 2.23s\tremaining: 3.67s\n",
      "378:\tlearn: 485.7377282\ttotal: 2.23s\tremaining: 3.66s\n",
      "379:\tlearn: 485.7262517\ttotal: 2.24s\tremaining: 3.66s\n",
      "380:\tlearn: 485.6912109\ttotal: 2.25s\tremaining: 3.65s\n",
      "381:\tlearn: 485.6658227\ttotal: 2.25s\tremaining: 3.64s\n",
      "382:\tlearn: 485.6486334\ttotal: 2.26s\tremaining: 3.63s\n",
      "383:\tlearn: 485.6379494\ttotal: 2.26s\tremaining: 3.63s\n",
      "384:\tlearn: 485.6309388\ttotal: 2.27s\tremaining: 3.62s\n",
      "385:\tlearn: 485.6201023\ttotal: 2.27s\tremaining: 3.62s\n",
      "386:\tlearn: 485.6080307\ttotal: 2.28s\tremaining: 3.61s\n",
      "387:\tlearn: 485.5960130\ttotal: 2.29s\tremaining: 3.61s\n",
      "388:\tlearn: 485.5861036\ttotal: 2.29s\tremaining: 3.6s\n",
      "389:\tlearn: 485.5792113\ttotal: 2.3s\tremaining: 3.6s\n",
      "390:\tlearn: 485.5548099\ttotal: 2.31s\tremaining: 3.59s\n",
      "391:\tlearn: 485.5439110\ttotal: 2.31s\tremaining: 3.58s\n",
      "392:\tlearn: 485.5267335\ttotal: 2.32s\tremaining: 3.58s\n",
      "393:\tlearn: 485.4993237\ttotal: 2.32s\tremaining: 3.58s\n",
      "394:\tlearn: 485.4797293\ttotal: 2.33s\tremaining: 3.57s\n",
      "395:\tlearn: 485.4424665\ttotal: 2.34s\tremaining: 3.56s\n",
      "396:\tlearn: 485.4322129\ttotal: 2.34s\tremaining: 3.56s\n",
      "397:\tlearn: 485.4225882\ttotal: 2.35s\tremaining: 3.55s\n",
      "398:\tlearn: 485.4136606\ttotal: 2.35s\tremaining: 3.54s\n",
      "399:\tlearn: 485.3992589\ttotal: 2.36s\tremaining: 3.54s\n",
      "400:\tlearn: 485.3859511\ttotal: 2.36s\tremaining: 3.53s\n",
      "401:\tlearn: 485.3779226\ttotal: 2.37s\tremaining: 3.52s\n",
      "402:\tlearn: 485.3665166\ttotal: 2.37s\tremaining: 3.52s\n",
      "403:\tlearn: 485.3572746\ttotal: 2.38s\tremaining: 3.51s\n",
      "404:\tlearn: 485.3452409\ttotal: 2.38s\tremaining: 3.5s\n",
      "405:\tlearn: 485.3199512\ttotal: 2.39s\tremaining: 3.49s\n",
      "406:\tlearn: 485.3188788\ttotal: 2.39s\tremaining: 3.49s\n",
      "407:\tlearn: 485.3092202\ttotal: 2.4s\tremaining: 3.48s\n",
      "408:\tlearn: 485.2988062\ttotal: 2.4s\tremaining: 3.47s\n",
      "409:\tlearn: 485.2960729\ttotal: 2.41s\tremaining: 3.47s\n",
      "410:\tlearn: 485.2838471\ttotal: 2.41s\tremaining: 3.46s\n",
      "411:\tlearn: 485.2721501\ttotal: 2.42s\tremaining: 3.45s\n",
      "412:\tlearn: 485.2506259\ttotal: 2.42s\tremaining: 3.45s\n",
      "413:\tlearn: 485.2404625\ttotal: 2.43s\tremaining: 3.44s\n",
      "414:\tlearn: 485.2248236\ttotal: 2.44s\tremaining: 3.44s\n",
      "415:\tlearn: 485.2140980\ttotal: 2.44s\tremaining: 3.43s\n",
      "416:\tlearn: 485.1719125\ttotal: 2.45s\tremaining: 3.42s\n",
      "417:\tlearn: 485.1581785\ttotal: 2.45s\tremaining: 3.42s\n",
      "418:\tlearn: 485.1282076\ttotal: 2.46s\tremaining: 3.41s\n",
      "419:\tlearn: 485.1206333\ttotal: 2.46s\tremaining: 3.4s\n",
      "420:\tlearn: 485.0973160\ttotal: 2.47s\tremaining: 3.4s\n",
      "421:\tlearn: 485.0757904\ttotal: 2.47s\tremaining: 3.39s\n",
      "422:\tlearn: 485.0652253\ttotal: 2.48s\tremaining: 3.38s\n",
      "423:\tlearn: 485.0425479\ttotal: 2.48s\tremaining: 3.38s\n",
      "424:\tlearn: 485.0320128\ttotal: 2.49s\tremaining: 3.37s\n",
      "425:\tlearn: 485.0223867\ttotal: 2.5s\tremaining: 3.36s\n",
      "426:\tlearn: 485.0141597\ttotal: 2.5s\tremaining: 3.35s\n",
      "427:\tlearn: 485.0024983\ttotal: 2.5s\tremaining: 3.35s\n",
      "428:\tlearn: 484.9931340\ttotal: 2.51s\tremaining: 3.34s\n",
      "429:\tlearn: 484.9757919\ttotal: 2.52s\tremaining: 3.34s\n",
      "430:\tlearn: 484.9670271\ttotal: 2.52s\tremaining: 3.33s\n",
      "431:\tlearn: 484.9510588\ttotal: 2.53s\tremaining: 3.33s\n",
      "432:\tlearn: 484.9365212\ttotal: 2.54s\tremaining: 3.32s\n",
      "433:\tlearn: 484.9273347\ttotal: 2.54s\tremaining: 3.32s\n",
      "434:\tlearn: 484.9201653\ttotal: 2.55s\tremaining: 3.31s\n",
      "435:\tlearn: 484.9101670\ttotal: 2.55s\tremaining: 3.3s\n",
      "436:\tlearn: 484.9004392\ttotal: 2.56s\tremaining: 3.3s\n",
      "437:\tlearn: 484.8821467\ttotal: 2.56s\tremaining: 3.29s\n",
      "438:\tlearn: 484.8747646\ttotal: 2.57s\tremaining: 3.28s\n",
      "439:\tlearn: 484.8542445\ttotal: 2.58s\tremaining: 3.28s\n",
      "440:\tlearn: 484.8446547\ttotal: 2.58s\tremaining: 3.27s\n",
      "441:\tlearn: 484.8363513\ttotal: 2.58s\tremaining: 3.26s\n",
      "442:\tlearn: 484.8212058\ttotal: 2.59s\tremaining: 3.26s\n",
      "443:\tlearn: 484.8129413\ttotal: 2.6s\tremaining: 3.25s\n",
      "444:\tlearn: 484.8034510\ttotal: 2.6s\tremaining: 3.24s\n",
      "445:\tlearn: 484.7930240\ttotal: 2.6s\tremaining: 3.23s\n",
      "446:\tlearn: 484.7756647\ttotal: 2.61s\tremaining: 3.23s\n",
      "447:\tlearn: 484.7612405\ttotal: 2.62s\tremaining: 3.22s\n",
      "448:\tlearn: 484.7510009\ttotal: 2.62s\tremaining: 3.22s\n",
      "449:\tlearn: 484.7372376\ttotal: 2.63s\tremaining: 3.21s\n",
      "450:\tlearn: 484.7302985\ttotal: 2.63s\tremaining: 3.2s\n",
      "451:\tlearn: 484.7152730\ttotal: 2.64s\tremaining: 3.2s\n",
      "452:\tlearn: 484.6946121\ttotal: 2.64s\tremaining: 3.19s\n",
      "453:\tlearn: 484.6915622\ttotal: 2.65s\tremaining: 3.18s\n",
      "454:\tlearn: 484.6840073\ttotal: 2.65s\tremaining: 3.18s\n",
      "455:\tlearn: 484.6760721\ttotal: 2.66s\tremaining: 3.17s\n",
      "456:\tlearn: 484.6509636\ttotal: 2.66s\tremaining: 3.16s\n",
      "457:\tlearn: 484.6445766\ttotal: 2.67s\tremaining: 3.16s\n",
      "458:\tlearn: 484.6337085\ttotal: 2.67s\tremaining: 3.15s\n",
      "459:\tlearn: 484.6303788\ttotal: 2.68s\tremaining: 3.15s\n",
      "460:\tlearn: 484.6201347\ttotal: 2.68s\tremaining: 3.14s\n",
      "461:\tlearn: 484.6157170\ttotal: 2.69s\tremaining: 3.13s\n",
      "462:\tlearn: 484.5863027\ttotal: 2.69s\tremaining: 3.13s\n",
      "463:\tlearn: 484.5823447\ttotal: 2.7s\tremaining: 3.12s\n",
      "464:\tlearn: 484.5735067\ttotal: 2.71s\tremaining: 3.11s\n",
      "465:\tlearn: 484.5522740\ttotal: 2.71s\tremaining: 3.11s\n",
      "466:\tlearn: 484.5336081\ttotal: 2.72s\tremaining: 3.1s\n",
      "467:\tlearn: 484.5160989\ttotal: 2.72s\tremaining: 3.09s\n",
      "468:\tlearn: 484.5101063\ttotal: 2.73s\tremaining: 3.09s\n",
      "469:\tlearn: 484.4988855\ttotal: 2.73s\tremaining: 3.08s\n",
      "470:\tlearn: 484.4908601\ttotal: 2.74s\tremaining: 3.08s\n",
      "471:\tlearn: 484.4780619\ttotal: 2.74s\tremaining: 3.07s\n",
      "472:\tlearn: 484.4672904\ttotal: 2.75s\tremaining: 3.06s\n",
      "473:\tlearn: 484.4507634\ttotal: 2.76s\tremaining: 3.06s\n",
      "474:\tlearn: 484.4181737\ttotal: 2.76s\tremaining: 3.05s\n",
      "475:\tlearn: 484.3816855\ttotal: 2.77s\tremaining: 3.05s\n",
      "476:\tlearn: 484.3747340\ttotal: 2.77s\tremaining: 3.04s\n",
      "477:\tlearn: 484.3469526\ttotal: 2.78s\tremaining: 3.03s\n",
      "478:\tlearn: 484.3016345\ttotal: 2.78s\tremaining: 3.03s\n",
      "479:\tlearn: 484.2960527\ttotal: 2.79s\tremaining: 3.02s\n",
      "480:\tlearn: 484.2784541\ttotal: 2.79s\tremaining: 3.01s\n",
      "481:\tlearn: 484.2728503\ttotal: 2.8s\tremaining: 3.01s\n",
      "482:\tlearn: 484.2645779\ttotal: 2.8s\tremaining: 3s\n",
      "483:\tlearn: 484.2571949\ttotal: 2.81s\tremaining: 2.99s\n",
      "484:\tlearn: 484.2445446\ttotal: 2.81s\tremaining: 2.99s\n",
      "485:\tlearn: 484.2136377\ttotal: 2.82s\tremaining: 2.98s\n",
      "486:\tlearn: 484.2039540\ttotal: 2.82s\tremaining: 2.97s\n",
      "487:\tlearn: 484.1999768\ttotal: 2.83s\tremaining: 2.97s\n",
      "488:\tlearn: 484.1880190\ttotal: 2.83s\tremaining: 2.96s\n",
      "489:\tlearn: 484.1651979\ttotal: 2.84s\tremaining: 2.95s\n",
      "490:\tlearn: 484.1572784\ttotal: 2.84s\tremaining: 2.94s\n",
      "491:\tlearn: 484.1483299\ttotal: 2.85s\tremaining: 2.94s\n",
      "492:\tlearn: 484.1391977\ttotal: 2.85s\tremaining: 2.93s\n",
      "493:\tlearn: 484.1143532\ttotal: 2.85s\tremaining: 2.92s\n",
      "494:\tlearn: 484.0928792\ttotal: 2.86s\tremaining: 2.92s\n",
      "495:\tlearn: 484.0798118\ttotal: 2.87s\tremaining: 2.91s\n",
      "496:\tlearn: 484.0762930\ttotal: 2.87s\tremaining: 2.9s\n",
      "497:\tlearn: 484.0400995\ttotal: 2.88s\tremaining: 2.9s\n",
      "498:\tlearn: 484.0316663\ttotal: 2.88s\tremaining: 2.89s\n",
      "499:\tlearn: 484.0309947\ttotal: 2.88s\tremaining: 2.88s\n",
      "500:\tlearn: 484.0249164\ttotal: 2.89s\tremaining: 2.88s\n",
      "501:\tlearn: 484.0177723\ttotal: 2.9s\tremaining: 2.87s\n",
      "502:\tlearn: 484.0020768\ttotal: 2.9s\tremaining: 2.87s\n",
      "503:\tlearn: 483.9948801\ttotal: 2.9s\tremaining: 2.86s\n",
      "504:\tlearn: 483.9873127\ttotal: 2.91s\tremaining: 2.85s\n",
      "505:\tlearn: 483.9742314\ttotal: 2.92s\tremaining: 2.85s\n",
      "506:\tlearn: 483.9593986\ttotal: 2.92s\tremaining: 2.84s\n",
      "507:\tlearn: 483.9479166\ttotal: 2.93s\tremaining: 2.83s\n",
      "508:\tlearn: 483.9323925\ttotal: 2.93s\tremaining: 2.83s\n",
      "509:\tlearn: 483.9265257\ttotal: 2.94s\tremaining: 2.83s\n",
      "510:\tlearn: 483.9259455\ttotal: 2.95s\tremaining: 2.82s\n",
      "511:\tlearn: 483.9127326\ttotal: 2.95s\tremaining: 2.81s\n",
      "512:\tlearn: 483.9049399\ttotal: 2.96s\tremaining: 2.81s\n",
      "513:\tlearn: 483.8979766\ttotal: 2.97s\tremaining: 2.81s\n",
      "514:\tlearn: 483.8947897\ttotal: 2.97s\tremaining: 2.8s\n",
      "515:\tlearn: 483.8841230\ttotal: 2.98s\tremaining: 2.79s\n",
      "516:\tlearn: 483.8613616\ttotal: 2.98s\tremaining: 2.79s\n",
      "517:\tlearn: 483.8450556\ttotal: 2.99s\tremaining: 2.78s\n",
      "518:\tlearn: 483.8224215\ttotal: 2.99s\tremaining: 2.77s\n",
      "519:\tlearn: 483.7982968\ttotal: 3s\tremaining: 2.77s\n",
      "520:\tlearn: 483.7587370\ttotal: 3s\tremaining: 2.76s\n",
      "521:\tlearn: 483.7408613\ttotal: 3.01s\tremaining: 2.75s\n",
      "522:\tlearn: 483.7131560\ttotal: 3.01s\tremaining: 2.75s\n",
      "523:\tlearn: 483.6958697\ttotal: 3.02s\tremaining: 2.74s\n",
      "524:\tlearn: 483.6810420\ttotal: 3.02s\tremaining: 2.73s\n",
      "525:\tlearn: 483.6719192\ttotal: 3.03s\tremaining: 2.73s\n",
      "526:\tlearn: 483.6347798\ttotal: 3.03s\tremaining: 2.72s\n",
      "527:\tlearn: 483.6266812\ttotal: 3.04s\tremaining: 2.71s\n",
      "528:\tlearn: 483.5840852\ttotal: 3.04s\tremaining: 2.71s\n",
      "529:\tlearn: 483.5445348\ttotal: 3.05s\tremaining: 2.7s\n",
      "530:\tlearn: 483.5302647\ttotal: 3.05s\tremaining: 2.7s\n",
      "531:\tlearn: 483.5264174\ttotal: 3.06s\tremaining: 2.69s\n",
      "532:\tlearn: 483.5158173\ttotal: 3.06s\tremaining: 2.68s\n",
      "533:\tlearn: 483.5080962\ttotal: 3.07s\tremaining: 2.68s\n",
      "534:\tlearn: 483.4926699\ttotal: 3.07s\tremaining: 2.67s\n",
      "535:\tlearn: 483.4701799\ttotal: 3.08s\tremaining: 2.66s\n",
      "536:\tlearn: 483.4527025\ttotal: 3.08s\tremaining: 2.66s\n",
      "537:\tlearn: 483.4469043\ttotal: 3.09s\tremaining: 2.65s\n",
      "538:\tlearn: 483.4408786\ttotal: 3.09s\tremaining: 2.64s\n",
      "539:\tlearn: 483.4270347\ttotal: 3.1s\tremaining: 2.64s\n",
      "540:\tlearn: 483.4092316\ttotal: 3.1s\tremaining: 2.63s\n",
      "541:\tlearn: 483.3922292\ttotal: 3.11s\tremaining: 2.63s\n",
      "542:\tlearn: 483.3824774\ttotal: 3.11s\tremaining: 2.62s\n",
      "543:\tlearn: 483.3691103\ttotal: 3.12s\tremaining: 2.61s\n",
      "544:\tlearn: 483.3563270\ttotal: 3.12s\tremaining: 2.61s\n",
      "545:\tlearn: 483.3478894\ttotal: 3.13s\tremaining: 2.6s\n",
      "546:\tlearn: 483.3354654\ttotal: 3.13s\tremaining: 2.6s\n",
      "547:\tlearn: 483.3276889\ttotal: 3.14s\tremaining: 2.59s\n",
      "548:\tlearn: 483.3219415\ttotal: 3.15s\tremaining: 2.58s\n",
      "549:\tlearn: 483.3158794\ttotal: 3.15s\tremaining: 2.58s\n",
      "550:\tlearn: 483.3005498\ttotal: 3.16s\tremaining: 2.57s\n",
      "551:\tlearn: 483.2896559\ttotal: 3.16s\tremaining: 2.57s\n",
      "552:\tlearn: 483.2836315\ttotal: 3.17s\tremaining: 2.56s\n",
      "553:\tlearn: 483.2701995\ttotal: 3.17s\tremaining: 2.56s\n",
      "554:\tlearn: 483.2652952\ttotal: 3.18s\tremaining: 2.55s\n",
      "555:\tlearn: 483.2564706\ttotal: 3.19s\tremaining: 2.54s\n",
      "556:\tlearn: 483.2529718\ttotal: 3.19s\tremaining: 2.54s\n",
      "557:\tlearn: 483.2487079\ttotal: 3.2s\tremaining: 2.53s\n",
      "558:\tlearn: 483.2380237\ttotal: 3.2s\tremaining: 2.52s\n",
      "559:\tlearn: 483.2263684\ttotal: 3.21s\tremaining: 2.52s\n",
      "560:\tlearn: 483.2041062\ttotal: 3.21s\tremaining: 2.51s\n",
      "561:\tlearn: 483.2015418\ttotal: 3.21s\tremaining: 2.5s\n",
      "562:\tlearn: 483.1869287\ttotal: 3.22s\tremaining: 2.5s\n",
      "563:\tlearn: 483.1700637\ttotal: 3.23s\tremaining: 2.49s\n",
      "564:\tlearn: 483.1646421\ttotal: 3.23s\tremaining: 2.49s\n",
      "565:\tlearn: 483.1624902\ttotal: 3.23s\tremaining: 2.48s\n",
      "566:\tlearn: 483.1566700\ttotal: 3.24s\tremaining: 2.47s\n",
      "567:\tlearn: 483.1518277\ttotal: 3.25s\tremaining: 2.47s\n",
      "568:\tlearn: 483.1296690\ttotal: 3.25s\tremaining: 2.46s\n",
      "569:\tlearn: 483.1263101\ttotal: 3.25s\tremaining: 2.46s\n",
      "570:\tlearn: 483.1036347\ttotal: 3.26s\tremaining: 2.45s\n",
      "571:\tlearn: 483.0985036\ttotal: 3.27s\tremaining: 2.44s\n",
      "572:\tlearn: 483.0706266\ttotal: 3.27s\tremaining: 2.44s\n",
      "573:\tlearn: 483.0625897\ttotal: 3.27s\tremaining: 2.43s\n",
      "574:\tlearn: 483.0527502\ttotal: 3.28s\tremaining: 2.42s\n",
      "575:\tlearn: 483.0477824\ttotal: 3.29s\tremaining: 2.42s\n",
      "576:\tlearn: 483.0261357\ttotal: 3.29s\tremaining: 2.41s\n",
      "577:\tlearn: 483.0177779\ttotal: 3.29s\tremaining: 2.41s\n",
      "578:\tlearn: 483.0109821\ttotal: 3.3s\tremaining: 2.4s\n",
      "579:\tlearn: 482.9871238\ttotal: 3.31s\tremaining: 2.39s\n",
      "580:\tlearn: 482.9786571\ttotal: 3.31s\tremaining: 2.39s\n",
      "581:\tlearn: 482.9608294\ttotal: 3.31s\tremaining: 2.38s\n",
      "582:\tlearn: 482.9534490\ttotal: 3.32s\tremaining: 2.37s\n",
      "583:\tlearn: 482.9466188\ttotal: 3.33s\tremaining: 2.37s\n",
      "584:\tlearn: 482.9377263\ttotal: 3.33s\tremaining: 2.36s\n",
      "585:\tlearn: 482.9260496\ttotal: 3.33s\tremaining: 2.35s\n",
      "586:\tlearn: 482.8914013\ttotal: 3.34s\tremaining: 2.35s\n",
      "587:\tlearn: 482.8717227\ttotal: 3.34s\tremaining: 2.34s\n",
      "588:\tlearn: 482.8478451\ttotal: 3.35s\tremaining: 2.34s\n",
      "589:\tlearn: 482.8278700\ttotal: 3.35s\tremaining: 2.33s\n",
      "590:\tlearn: 482.8164648\ttotal: 3.36s\tremaining: 2.33s\n",
      "591:\tlearn: 482.8119735\ttotal: 3.37s\tremaining: 2.32s\n",
      "592:\tlearn: 482.7977965\ttotal: 3.37s\tremaining: 2.31s\n",
      "593:\tlearn: 482.7934891\ttotal: 3.38s\tremaining: 2.31s\n",
      "594:\tlearn: 482.7863680\ttotal: 3.38s\tremaining: 2.3s\n",
      "595:\tlearn: 482.7773995\ttotal: 3.39s\tremaining: 2.3s\n",
      "596:\tlearn: 482.7641385\ttotal: 3.4s\tremaining: 2.29s\n",
      "597:\tlearn: 482.7391548\ttotal: 3.4s\tremaining: 2.29s\n",
      "598:\tlearn: 482.7260336\ttotal: 3.41s\tremaining: 2.28s\n",
      "599:\tlearn: 482.7164340\ttotal: 3.41s\tremaining: 2.27s\n",
      "600:\tlearn: 482.7049884\ttotal: 3.42s\tremaining: 2.27s\n",
      "601:\tlearn: 482.6811469\ttotal: 3.42s\tremaining: 2.26s\n",
      "602:\tlearn: 482.6556572\ttotal: 3.43s\tremaining: 2.26s\n",
      "603:\tlearn: 482.6467812\ttotal: 3.43s\tremaining: 2.25s\n",
      "604:\tlearn: 482.6349994\ttotal: 3.44s\tremaining: 2.24s\n",
      "605:\tlearn: 482.5965704\ttotal: 3.44s\tremaining: 2.24s\n",
      "606:\tlearn: 482.5891394\ttotal: 3.45s\tremaining: 2.23s\n",
      "607:\tlearn: 482.5798212\ttotal: 3.45s\tremaining: 2.23s\n",
      "608:\tlearn: 482.5726175\ttotal: 3.46s\tremaining: 2.22s\n",
      "609:\tlearn: 482.5580355\ttotal: 3.46s\tremaining: 2.21s\n",
      "610:\tlearn: 482.5485540\ttotal: 3.47s\tremaining: 2.21s\n",
      "611:\tlearn: 482.5275941\ttotal: 3.47s\tremaining: 2.2s\n",
      "612:\tlearn: 482.4939511\ttotal: 3.48s\tremaining: 2.19s\n",
      "613:\tlearn: 482.4861625\ttotal: 3.48s\tremaining: 2.19s\n",
      "614:\tlearn: 482.4623948\ttotal: 3.49s\tremaining: 2.18s\n",
      "615:\tlearn: 482.4539590\ttotal: 3.49s\tremaining: 2.18s\n",
      "616:\tlearn: 482.4467715\ttotal: 3.5s\tremaining: 2.17s\n",
      "617:\tlearn: 482.4379332\ttotal: 3.5s\tremaining: 2.16s\n",
      "618:\tlearn: 482.4321744\ttotal: 3.51s\tremaining: 2.16s\n",
      "619:\tlearn: 482.4252406\ttotal: 3.51s\tremaining: 2.15s\n",
      "620:\tlearn: 482.4198240\ttotal: 3.52s\tremaining: 2.15s\n",
      "621:\tlearn: 482.4138238\ttotal: 3.52s\tremaining: 2.14s\n",
      "622:\tlearn: 482.3969760\ttotal: 3.53s\tremaining: 2.13s\n",
      "623:\tlearn: 482.3949431\ttotal: 3.53s\tremaining: 2.13s\n",
      "624:\tlearn: 482.3803905\ttotal: 3.54s\tremaining: 2.12s\n",
      "625:\tlearn: 482.3571846\ttotal: 3.54s\tremaining: 2.12s\n",
      "626:\tlearn: 482.3514360\ttotal: 3.55s\tremaining: 2.11s\n",
      "627:\tlearn: 482.3433440\ttotal: 3.55s\tremaining: 2.1s\n",
      "628:\tlearn: 482.3367525\ttotal: 3.56s\tremaining: 2.1s\n",
      "629:\tlearn: 482.3250675\ttotal: 3.56s\tremaining: 2.09s\n",
      "630:\tlearn: 482.3145314\ttotal: 3.57s\tremaining: 2.09s\n",
      "631:\tlearn: 482.2968285\ttotal: 3.57s\tremaining: 2.08s\n",
      "632:\tlearn: 482.2883690\ttotal: 3.58s\tremaining: 2.08s\n",
      "633:\tlearn: 482.2764578\ttotal: 3.58s\tremaining: 2.07s\n",
      "634:\tlearn: 482.2656117\ttotal: 3.59s\tremaining: 2.06s\n",
      "635:\tlearn: 482.2550366\ttotal: 3.6s\tremaining: 2.06s\n",
      "636:\tlearn: 482.2496992\ttotal: 3.6s\tremaining: 2.05s\n",
      "637:\tlearn: 482.2283500\ttotal: 3.61s\tremaining: 2.05s\n",
      "638:\tlearn: 482.2239418\ttotal: 3.62s\tremaining: 2.04s\n",
      "639:\tlearn: 482.2136717\ttotal: 3.62s\tremaining: 2.04s\n",
      "640:\tlearn: 482.2060973\ttotal: 3.62s\tremaining: 2.03s\n",
      "641:\tlearn: 482.1834150\ttotal: 3.63s\tremaining: 2.02s\n",
      "642:\tlearn: 482.1774620\ttotal: 3.63s\tremaining: 2.02s\n",
      "643:\tlearn: 482.1610949\ttotal: 3.64s\tremaining: 2.01s\n",
      "644:\tlearn: 482.1520362\ttotal: 3.64s\tremaining: 2s\n",
      "645:\tlearn: 482.1261768\ttotal: 3.65s\tremaining: 2s\n",
      "646:\tlearn: 482.1116073\ttotal: 3.65s\tremaining: 1.99s\n",
      "647:\tlearn: 482.1028950\ttotal: 3.66s\tremaining: 1.99s\n",
      "648:\tlearn: 482.0827232\ttotal: 3.66s\tremaining: 1.98s\n",
      "649:\tlearn: 482.0671560\ttotal: 3.67s\tremaining: 1.97s\n",
      "650:\tlearn: 482.0321530\ttotal: 3.67s\tremaining: 1.97s\n",
      "651:\tlearn: 482.0255067\ttotal: 3.68s\tremaining: 1.96s\n",
      "652:\tlearn: 482.0057455\ttotal: 3.68s\tremaining: 1.96s\n",
      "653:\tlearn: 481.9974611\ttotal: 3.69s\tremaining: 1.95s\n",
      "654:\tlearn: 481.9788821\ttotal: 3.69s\tremaining: 1.95s\n",
      "655:\tlearn: 481.9705478\ttotal: 3.7s\tremaining: 1.94s\n",
      "656:\tlearn: 481.9600247\ttotal: 3.71s\tremaining: 1.93s\n",
      "657:\tlearn: 481.9346424\ttotal: 3.71s\tremaining: 1.93s\n",
      "658:\tlearn: 481.9000633\ttotal: 3.71s\tremaining: 1.92s\n",
      "659:\tlearn: 481.8827151\ttotal: 3.72s\tremaining: 1.92s\n",
      "660:\tlearn: 481.8756687\ttotal: 3.73s\tremaining: 1.91s\n",
      "661:\tlearn: 481.8704643\ttotal: 3.73s\tremaining: 1.91s\n",
      "662:\tlearn: 481.8649766\ttotal: 3.74s\tremaining: 1.9s\n",
      "663:\tlearn: 481.8499107\ttotal: 3.74s\tremaining: 1.89s\n",
      "664:\tlearn: 481.8340077\ttotal: 3.75s\tremaining: 1.89s\n",
      "665:\tlearn: 481.8280960\ttotal: 3.75s\tremaining: 1.88s\n",
      "666:\tlearn: 481.8170231\ttotal: 3.76s\tremaining: 1.88s\n",
      "667:\tlearn: 481.8146244\ttotal: 3.76s\tremaining: 1.87s\n",
      "668:\tlearn: 481.8066402\ttotal: 3.77s\tremaining: 1.86s\n",
      "669:\tlearn: 481.8011438\ttotal: 3.77s\tremaining: 1.86s\n",
      "670:\tlearn: 481.7808795\ttotal: 3.78s\tremaining: 1.85s\n",
      "671:\tlearn: 481.7498411\ttotal: 3.79s\tremaining: 1.85s\n",
      "672:\tlearn: 481.7457166\ttotal: 3.8s\tremaining: 1.85s\n",
      "673:\tlearn: 481.7380683\ttotal: 3.81s\tremaining: 1.84s\n",
      "674:\tlearn: 481.7267217\ttotal: 3.81s\tremaining: 1.83s\n",
      "675:\tlearn: 481.7216745\ttotal: 3.82s\tremaining: 1.83s\n",
      "676:\tlearn: 481.7164137\ttotal: 3.83s\tremaining: 1.82s\n",
      "677:\tlearn: 481.6713328\ttotal: 3.83s\tremaining: 1.82s\n",
      "678:\tlearn: 481.6558641\ttotal: 3.84s\tremaining: 1.81s\n",
      "679:\tlearn: 481.6482287\ttotal: 3.84s\tremaining: 1.81s\n",
      "680:\tlearn: 481.6434967\ttotal: 3.85s\tremaining: 1.8s\n",
      "681:\tlearn: 481.6289701\ttotal: 3.85s\tremaining: 1.8s\n",
      "682:\tlearn: 481.6186038\ttotal: 3.86s\tremaining: 1.79s\n",
      "683:\tlearn: 481.6143029\ttotal: 3.86s\tremaining: 1.78s\n",
      "684:\tlearn: 481.6046703\ttotal: 3.87s\tremaining: 1.78s\n",
      "685:\tlearn: 481.5955974\ttotal: 3.87s\tremaining: 1.77s\n",
      "686:\tlearn: 481.5649372\ttotal: 3.88s\tremaining: 1.77s\n",
      "687:\tlearn: 481.5258869\ttotal: 3.88s\tremaining: 1.76s\n",
      "688:\tlearn: 481.5111649\ttotal: 3.89s\tremaining: 1.75s\n",
      "689:\tlearn: 481.4886663\ttotal: 3.89s\tremaining: 1.75s\n",
      "690:\tlearn: 481.4859254\ttotal: 3.9s\tremaining: 1.74s\n",
      "691:\tlearn: 481.4754228\ttotal: 3.9s\tremaining: 1.74s\n",
      "692:\tlearn: 481.4708630\ttotal: 3.91s\tremaining: 1.73s\n",
      "693:\tlearn: 481.4592195\ttotal: 3.92s\tremaining: 1.73s\n",
      "694:\tlearn: 481.4554914\ttotal: 3.92s\tremaining: 1.72s\n",
      "695:\tlearn: 481.4535419\ttotal: 3.93s\tremaining: 1.72s\n",
      "696:\tlearn: 481.4470862\ttotal: 3.93s\tremaining: 1.71s\n",
      "697:\tlearn: 481.4318121\ttotal: 3.94s\tremaining: 1.7s\n",
      "698:\tlearn: 481.4247200\ttotal: 3.94s\tremaining: 1.7s\n",
      "699:\tlearn: 481.3967761\ttotal: 3.95s\tremaining: 1.69s\n",
      "700:\tlearn: 481.3789546\ttotal: 3.96s\tremaining: 1.69s\n",
      "701:\tlearn: 481.3747056\ttotal: 3.96s\tremaining: 1.68s\n",
      "702:\tlearn: 481.3455310\ttotal: 3.97s\tremaining: 1.68s\n",
      "703:\tlearn: 481.3343468\ttotal: 3.97s\tremaining: 1.67s\n",
      "704:\tlearn: 481.3272559\ttotal: 3.98s\tremaining: 1.66s\n",
      "705:\tlearn: 481.3225133\ttotal: 3.98s\tremaining: 1.66s\n",
      "706:\tlearn: 481.3187996\ttotal: 3.99s\tremaining: 1.65s\n",
      "707:\tlearn: 481.3092524\ttotal: 4s\tremaining: 1.65s\n",
      "708:\tlearn: 481.3039109\ttotal: 4s\tremaining: 1.64s\n",
      "709:\tlearn: 481.2960168\ttotal: 4.01s\tremaining: 1.64s\n",
      "710:\tlearn: 481.2884212\ttotal: 4.01s\tremaining: 1.63s\n",
      "711:\tlearn: 481.2843845\ttotal: 4.02s\tremaining: 1.63s\n",
      "712:\tlearn: 481.2706854\ttotal: 4.03s\tremaining: 1.62s\n",
      "713:\tlearn: 481.2547714\ttotal: 4.03s\tremaining: 1.61s\n",
      "714:\tlearn: 481.2344890\ttotal: 4.03s\tremaining: 1.61s\n",
      "715:\tlearn: 481.2253849\ttotal: 4.04s\tremaining: 1.6s\n",
      "716:\tlearn: 481.2130617\ttotal: 4.04s\tremaining: 1.6s\n",
      "717:\tlearn: 481.1975373\ttotal: 4.05s\tremaining: 1.59s\n",
      "718:\tlearn: 481.1887983\ttotal: 4.05s\tremaining: 1.58s\n",
      "719:\tlearn: 481.1786787\ttotal: 4.06s\tremaining: 1.58s\n",
      "720:\tlearn: 481.1765472\ttotal: 4.07s\tremaining: 1.57s\n",
      "721:\tlearn: 481.1701157\ttotal: 4.07s\tremaining: 1.57s\n",
      "722:\tlearn: 481.1567936\ttotal: 4.08s\tremaining: 1.56s\n",
      "723:\tlearn: 481.1499812\ttotal: 4.08s\tremaining: 1.55s\n",
      "724:\tlearn: 481.1431153\ttotal: 4.09s\tremaining: 1.55s\n",
      "725:\tlearn: 481.1165878\ttotal: 4.09s\tremaining: 1.54s\n",
      "726:\tlearn: 481.1098366\ttotal: 4.1s\tremaining: 1.54s\n",
      "727:\tlearn: 481.0965889\ttotal: 4.1s\tremaining: 1.53s\n",
      "728:\tlearn: 481.0925021\ttotal: 4.11s\tremaining: 1.53s\n",
      "729:\tlearn: 481.0882424\ttotal: 4.11s\tremaining: 1.52s\n",
      "730:\tlearn: 481.0798742\ttotal: 4.12s\tremaining: 1.51s\n",
      "731:\tlearn: 481.0668827\ttotal: 4.12s\tremaining: 1.51s\n",
      "732:\tlearn: 481.0551536\ttotal: 4.13s\tremaining: 1.5s\n",
      "733:\tlearn: 481.0389396\ttotal: 4.13s\tremaining: 1.5s\n",
      "734:\tlearn: 481.0342671\ttotal: 4.14s\tremaining: 1.49s\n",
      "735:\tlearn: 481.0277551\ttotal: 4.14s\tremaining: 1.49s\n",
      "736:\tlearn: 481.0108062\ttotal: 4.15s\tremaining: 1.48s\n",
      "737:\tlearn: 481.0104810\ttotal: 4.15s\tremaining: 1.47s\n",
      "738:\tlearn: 480.9952578\ttotal: 4.16s\tremaining: 1.47s\n",
      "739:\tlearn: 480.9931437\ttotal: 4.17s\tremaining: 1.46s\n",
      "740:\tlearn: 480.9877949\ttotal: 4.17s\tremaining: 1.46s\n",
      "741:\tlearn: 480.9689598\ttotal: 4.18s\tremaining: 1.45s\n",
      "742:\tlearn: 480.9549039\ttotal: 4.18s\tremaining: 1.45s\n",
      "743:\tlearn: 480.9501843\ttotal: 4.19s\tremaining: 1.44s\n",
      "744:\tlearn: 480.9309786\ttotal: 4.2s\tremaining: 1.44s\n",
      "745:\tlearn: 480.9232559\ttotal: 4.2s\tremaining: 1.43s\n",
      "746:\tlearn: 480.9208246\ttotal: 4.21s\tremaining: 1.43s\n",
      "747:\tlearn: 480.9059438\ttotal: 4.21s\tremaining: 1.42s\n",
      "748:\tlearn: 480.8963689\ttotal: 4.22s\tremaining: 1.41s\n",
      "749:\tlearn: 480.8932883\ttotal: 4.22s\tremaining: 1.41s\n",
      "750:\tlearn: 480.8796712\ttotal: 4.23s\tremaining: 1.4s\n",
      "751:\tlearn: 480.8639990\ttotal: 4.24s\tremaining: 1.4s\n",
      "752:\tlearn: 480.8608096\ttotal: 4.24s\tremaining: 1.39s\n",
      "753:\tlearn: 480.8502828\ttotal: 4.25s\tremaining: 1.39s\n",
      "754:\tlearn: 480.8469720\ttotal: 4.25s\tremaining: 1.38s\n",
      "755:\tlearn: 480.8338741\ttotal: 4.26s\tremaining: 1.37s\n",
      "756:\tlearn: 480.8184907\ttotal: 4.26s\tremaining: 1.37s\n",
      "757:\tlearn: 480.7992808\ttotal: 4.27s\tremaining: 1.36s\n",
      "758:\tlearn: 480.7671208\ttotal: 4.27s\tremaining: 1.36s\n",
      "759:\tlearn: 480.7372885\ttotal: 4.28s\tremaining: 1.35s\n",
      "760:\tlearn: 480.7335906\ttotal: 4.28s\tremaining: 1.34s\n",
      "761:\tlearn: 480.7293999\ttotal: 4.29s\tremaining: 1.34s\n",
      "762:\tlearn: 480.7158096\ttotal: 4.29s\tremaining: 1.33s\n",
      "763:\tlearn: 480.7042395\ttotal: 4.3s\tremaining: 1.33s\n",
      "764:\tlearn: 480.6901045\ttotal: 4.3s\tremaining: 1.32s\n",
      "765:\tlearn: 480.6520719\ttotal: 4.31s\tremaining: 1.32s\n",
      "766:\tlearn: 480.6438386\ttotal: 4.32s\tremaining: 1.31s\n",
      "767:\tlearn: 480.6290636\ttotal: 4.32s\tremaining: 1.3s\n",
      "768:\tlearn: 480.6128828\ttotal: 4.33s\tremaining: 1.3s\n",
      "769:\tlearn: 480.6089767\ttotal: 4.33s\tremaining: 1.29s\n",
      "770:\tlearn: 480.6003117\ttotal: 4.34s\tremaining: 1.29s\n",
      "771:\tlearn: 480.5923054\ttotal: 4.34s\tremaining: 1.28s\n",
      "772:\tlearn: 480.5767803\ttotal: 4.35s\tremaining: 1.28s\n",
      "773:\tlearn: 480.5654478\ttotal: 4.36s\tremaining: 1.27s\n",
      "774:\tlearn: 480.5605117\ttotal: 4.36s\tremaining: 1.27s\n",
      "775:\tlearn: 480.5459312\ttotal: 4.37s\tremaining: 1.26s\n",
      "776:\tlearn: 480.5393796\ttotal: 4.37s\tremaining: 1.25s\n",
      "777:\tlearn: 480.5306691\ttotal: 4.38s\tremaining: 1.25s\n",
      "778:\tlearn: 480.5163829\ttotal: 4.38s\tremaining: 1.24s\n",
      "779:\tlearn: 480.5066115\ttotal: 4.39s\tremaining: 1.24s\n",
      "780:\tlearn: 480.4929588\ttotal: 4.39s\tremaining: 1.23s\n",
      "781:\tlearn: 480.4817441\ttotal: 4.4s\tremaining: 1.23s\n",
      "782:\tlearn: 480.4701173\ttotal: 4.41s\tremaining: 1.22s\n",
      "783:\tlearn: 480.4640373\ttotal: 4.41s\tremaining: 1.22s\n",
      "784:\tlearn: 480.4539938\ttotal: 4.42s\tremaining: 1.21s\n",
      "785:\tlearn: 480.4229451\ttotal: 4.42s\tremaining: 1.2s\n",
      "786:\tlearn: 480.4194072\ttotal: 4.43s\tremaining: 1.2s\n",
      "787:\tlearn: 480.4029852\ttotal: 4.44s\tremaining: 1.19s\n",
      "788:\tlearn: 480.3744468\ttotal: 4.44s\tremaining: 1.19s\n",
      "789:\tlearn: 480.3606490\ttotal: 4.45s\tremaining: 1.18s\n",
      "790:\tlearn: 480.3404019\ttotal: 4.45s\tremaining: 1.18s\n",
      "791:\tlearn: 480.3270647\ttotal: 4.46s\tremaining: 1.17s\n",
      "792:\tlearn: 480.3002505\ttotal: 4.46s\tremaining: 1.17s\n",
      "793:\tlearn: 480.2897724\ttotal: 4.47s\tremaining: 1.16s\n",
      "794:\tlearn: 480.2796512\ttotal: 4.47s\tremaining: 1.15s\n",
      "795:\tlearn: 480.2717876\ttotal: 4.48s\tremaining: 1.15s\n",
      "796:\tlearn: 480.2686895\ttotal: 4.49s\tremaining: 1.14s\n",
      "797:\tlearn: 480.2628497\ttotal: 4.49s\tremaining: 1.14s\n",
      "798:\tlearn: 480.2418774\ttotal: 4.5s\tremaining: 1.13s\n",
      "799:\tlearn: 480.2321004\ttotal: 4.5s\tremaining: 1.13s\n",
      "800:\tlearn: 480.2248144\ttotal: 4.51s\tremaining: 1.12s\n",
      "801:\tlearn: 480.1926416\ttotal: 4.51s\tremaining: 1.11s\n",
      "802:\tlearn: 480.1819462\ttotal: 4.52s\tremaining: 1.11s\n",
      "803:\tlearn: 480.1610164\ttotal: 4.52s\tremaining: 1.1s\n",
      "804:\tlearn: 480.1534565\ttotal: 4.53s\tremaining: 1.1s\n",
      "805:\tlearn: 480.1494934\ttotal: 4.54s\tremaining: 1.09s\n",
      "806:\tlearn: 480.1418598\ttotal: 4.54s\tremaining: 1.08s\n",
      "807:\tlearn: 480.1300016\ttotal: 4.54s\tremaining: 1.08s\n",
      "808:\tlearn: 480.0845918\ttotal: 4.55s\tremaining: 1.07s\n",
      "809:\tlearn: 480.0761135\ttotal: 4.56s\tremaining: 1.07s\n",
      "810:\tlearn: 480.0603982\ttotal: 4.56s\tremaining: 1.06s\n",
      "811:\tlearn: 480.0570090\ttotal: 4.57s\tremaining: 1.06s\n",
      "812:\tlearn: 480.0460610\ttotal: 4.57s\tremaining: 1.05s\n",
      "813:\tlearn: 480.0435067\ttotal: 4.58s\tremaining: 1.05s\n",
      "814:\tlearn: 480.0411351\ttotal: 4.58s\tremaining: 1.04s\n",
      "815:\tlearn: 480.0224274\ttotal: 4.59s\tremaining: 1.03s\n",
      "816:\tlearn: 480.0130382\ttotal: 4.59s\tremaining: 1.03s\n",
      "817:\tlearn: 480.0113153\ttotal: 4.6s\tremaining: 1.02s\n",
      "818:\tlearn: 479.9846115\ttotal: 4.61s\tremaining: 1.02s\n",
      "819:\tlearn: 479.9733679\ttotal: 4.61s\tremaining: 1.01s\n",
      "820:\tlearn: 479.9640193\ttotal: 4.62s\tremaining: 1.01s\n",
      "821:\tlearn: 479.9426152\ttotal: 4.62s\tremaining: 1s\n",
      "822:\tlearn: 479.9278950\ttotal: 4.63s\tremaining: 996ms\n",
      "823:\tlearn: 479.9152559\ttotal: 4.64s\tremaining: 990ms\n",
      "824:\tlearn: 479.9030858\ttotal: 4.64s\tremaining: 985ms\n",
      "825:\tlearn: 479.8955140\ttotal: 4.65s\tremaining: 979ms\n",
      "826:\tlearn: 479.8823407\ttotal: 4.65s\tremaining: 973ms\n",
      "827:\tlearn: 479.8712497\ttotal: 4.66s\tremaining: 968ms\n",
      "828:\tlearn: 479.8636594\ttotal: 4.66s\tremaining: 962ms\n",
      "829:\tlearn: 479.8504174\ttotal: 4.67s\tremaining: 956ms\n",
      "830:\tlearn: 479.8394085\ttotal: 4.67s\tremaining: 950ms\n",
      "831:\tlearn: 479.8377632\ttotal: 4.68s\tremaining: 945ms\n",
      "832:\tlearn: 479.8319675\ttotal: 4.68s\tremaining: 939ms\n",
      "833:\tlearn: 479.8280996\ttotal: 4.69s\tremaining: 933ms\n",
      "834:\tlearn: 479.8223902\ttotal: 4.69s\tremaining: 928ms\n",
      "835:\tlearn: 479.8159866\ttotal: 4.7s\tremaining: 922ms\n",
      "836:\tlearn: 479.8137540\ttotal: 4.71s\tremaining: 916ms\n",
      "837:\tlearn: 479.7978172\ttotal: 4.71s\tremaining: 911ms\n",
      "838:\tlearn: 479.7855524\ttotal: 4.71s\tremaining: 905ms\n",
      "839:\tlearn: 479.7684330\ttotal: 4.72s\tremaining: 899ms\n",
      "840:\tlearn: 479.7609176\ttotal: 4.72s\tremaining: 893ms\n",
      "841:\tlearn: 479.7509899\ttotal: 4.73s\tremaining: 888ms\n",
      "842:\tlearn: 479.7462445\ttotal: 4.74s\tremaining: 882ms\n",
      "843:\tlearn: 479.7388200\ttotal: 4.74s\tremaining: 876ms\n",
      "844:\tlearn: 479.7201234\ttotal: 4.75s\tremaining: 870ms\n",
      "845:\tlearn: 479.7145905\ttotal: 4.75s\tremaining: 865ms\n",
      "846:\tlearn: 479.7034627\ttotal: 4.75s\tremaining: 859ms\n",
      "847:\tlearn: 479.6974397\ttotal: 4.76s\tremaining: 853ms\n",
      "848:\tlearn: 479.6920892\ttotal: 4.76s\tremaining: 847ms\n",
      "849:\tlearn: 479.6773238\ttotal: 4.77s\tremaining: 842ms\n",
      "850:\tlearn: 479.6620272\ttotal: 4.77s\tremaining: 836ms\n",
      "851:\tlearn: 479.6556229\ttotal: 4.78s\tremaining: 830ms\n",
      "852:\tlearn: 479.6420692\ttotal: 4.78s\tremaining: 825ms\n",
      "853:\tlearn: 479.6344125\ttotal: 4.79s\tremaining: 819ms\n",
      "854:\tlearn: 479.6243056\ttotal: 4.79s\tremaining: 813ms\n",
      "855:\tlearn: 479.6153713\ttotal: 4.8s\tremaining: 807ms\n",
      "856:\tlearn: 479.6099819\ttotal: 4.8s\tremaining: 802ms\n",
      "857:\tlearn: 479.5978324\ttotal: 4.81s\tremaining: 796ms\n",
      "858:\tlearn: 479.5908167\ttotal: 4.82s\tremaining: 790ms\n",
      "859:\tlearn: 479.5809629\ttotal: 4.82s\tremaining: 785ms\n",
      "860:\tlearn: 479.5645173\ttotal: 4.83s\tremaining: 779ms\n",
      "861:\tlearn: 479.5527084\ttotal: 4.83s\tremaining: 774ms\n",
      "862:\tlearn: 479.5421791\ttotal: 4.84s\tremaining: 768ms\n",
      "863:\tlearn: 479.5358850\ttotal: 4.84s\tremaining: 763ms\n",
      "864:\tlearn: 479.5047112\ttotal: 4.85s\tremaining: 757ms\n",
      "865:\tlearn: 479.4921611\ttotal: 4.86s\tremaining: 751ms\n",
      "866:\tlearn: 479.4811732\ttotal: 4.86s\tremaining: 746ms\n",
      "867:\tlearn: 479.4736726\ttotal: 4.87s\tremaining: 740ms\n",
      "868:\tlearn: 479.4663078\ttotal: 4.87s\tremaining: 734ms\n",
      "869:\tlearn: 479.4545903\ttotal: 4.88s\tremaining: 728ms\n",
      "870:\tlearn: 479.4360603\ttotal: 4.88s\tremaining: 723ms\n",
      "871:\tlearn: 479.4261235\ttotal: 4.88s\tremaining: 717ms\n",
      "872:\tlearn: 479.4163116\ttotal: 4.89s\tremaining: 711ms\n",
      "873:\tlearn: 479.3643816\ttotal: 4.89s\tremaining: 706ms\n",
      "874:\tlearn: 479.3566753\ttotal: 4.9s\tremaining: 700ms\n",
      "875:\tlearn: 479.3470638\ttotal: 4.91s\tremaining: 695ms\n",
      "876:\tlearn: 479.3366803\ttotal: 4.91s\tremaining: 689ms\n",
      "877:\tlearn: 479.3251328\ttotal: 4.92s\tremaining: 683ms\n",
      "878:\tlearn: 479.3203434\ttotal: 4.92s\tremaining: 678ms\n",
      "879:\tlearn: 479.3156466\ttotal: 4.93s\tremaining: 672ms\n",
      "880:\tlearn: 479.3024105\ttotal: 4.93s\tremaining: 666ms\n",
      "881:\tlearn: 479.2970205\ttotal: 4.94s\tremaining: 661ms\n",
      "882:\tlearn: 479.2834681\ttotal: 4.94s\tremaining: 655ms\n",
      "883:\tlearn: 479.2685551\ttotal: 4.95s\tremaining: 649ms\n",
      "884:\tlearn: 479.2636209\ttotal: 4.95s\tremaining: 643ms\n",
      "885:\tlearn: 479.2496223\ttotal: 4.96s\tremaining: 638ms\n",
      "886:\tlearn: 479.2452418\ttotal: 4.96s\tremaining: 632ms\n",
      "887:\tlearn: 479.2388699\ttotal: 4.97s\tremaining: 626ms\n",
      "888:\tlearn: 479.2225316\ttotal: 4.97s\tremaining: 621ms\n",
      "889:\tlearn: 479.1971282\ttotal: 4.98s\tremaining: 615ms\n",
      "890:\tlearn: 479.1743981\ttotal: 4.98s\tremaining: 609ms\n",
      "891:\tlearn: 479.1673134\ttotal: 4.99s\tremaining: 604ms\n",
      "892:\tlearn: 479.1628114\ttotal: 4.99s\tremaining: 598ms\n",
      "893:\tlearn: 479.1405797\ttotal: 5s\tremaining: 592ms\n",
      "894:\tlearn: 479.1286752\ttotal: 5s\tremaining: 587ms\n",
      "895:\tlearn: 479.1251313\ttotal: 5s\tremaining: 581ms\n",
      "896:\tlearn: 479.1139913\ttotal: 5.01s\tremaining: 575ms\n",
      "897:\tlearn: 479.1072367\ttotal: 5.01s\tremaining: 570ms\n",
      "898:\tlearn: 479.0956020\ttotal: 5.02s\tremaining: 564ms\n",
      "899:\tlearn: 479.0763994\ttotal: 5.03s\tremaining: 558ms\n",
      "900:\tlearn: 479.0547568\ttotal: 5.03s\tremaining: 553ms\n",
      "901:\tlearn: 479.0457576\ttotal: 5.04s\tremaining: 547ms\n",
      "902:\tlearn: 479.0142438\ttotal: 5.04s\tremaining: 542ms\n",
      "903:\tlearn: 478.9951147\ttotal: 5.05s\tremaining: 537ms\n",
      "904:\tlearn: 478.9840168\ttotal: 5.06s\tremaining: 531ms\n",
      "905:\tlearn: 478.9728901\ttotal: 5.07s\tremaining: 526ms\n",
      "906:\tlearn: 478.9600856\ttotal: 5.07s\tremaining: 520ms\n",
      "907:\tlearn: 478.9438088\ttotal: 5.08s\tremaining: 514ms\n",
      "908:\tlearn: 478.9401833\ttotal: 5.08s\tremaining: 509ms\n",
      "909:\tlearn: 478.9340641\ttotal: 5.09s\tremaining: 503ms\n",
      "910:\tlearn: 478.9275138\ttotal: 5.09s\tremaining: 498ms\n",
      "911:\tlearn: 478.9141030\ttotal: 5.1s\tremaining: 492ms\n",
      "912:\tlearn: 478.8871708\ttotal: 5.1s\tremaining: 486ms\n",
      "913:\tlearn: 478.8816946\ttotal: 5.11s\tremaining: 480ms\n",
      "914:\tlearn: 478.8768112\ttotal: 5.11s\tremaining: 475ms\n",
      "915:\tlearn: 478.8654577\ttotal: 5.12s\tremaining: 469ms\n",
      "916:\tlearn: 478.8608562\ttotal: 5.12s\tremaining: 464ms\n",
      "917:\tlearn: 478.8408168\ttotal: 5.13s\tremaining: 458ms\n",
      "918:\tlearn: 478.8146297\ttotal: 5.13s\tremaining: 452ms\n",
      "919:\tlearn: 478.7981048\ttotal: 5.14s\tremaining: 447ms\n",
      "920:\tlearn: 478.7840512\ttotal: 5.14s\tremaining: 441ms\n",
      "921:\tlearn: 478.7748312\ttotal: 5.14s\tremaining: 435ms\n",
      "922:\tlearn: 478.7640215\ttotal: 5.15s\tremaining: 430ms\n",
      "923:\tlearn: 478.7511898\ttotal: 5.16s\tremaining: 424ms\n",
      "924:\tlearn: 478.7219161\ttotal: 5.16s\tremaining: 418ms\n",
      "925:\tlearn: 478.7136850\ttotal: 5.16s\tremaining: 413ms\n",
      "926:\tlearn: 478.7045083\ttotal: 5.17s\tremaining: 407ms\n",
      "927:\tlearn: 478.6939667\ttotal: 5.17s\tremaining: 402ms\n",
      "928:\tlearn: 478.6867965\ttotal: 5.18s\tremaining: 396ms\n",
      "929:\tlearn: 478.6778143\ttotal: 5.18s\tremaining: 390ms\n",
      "930:\tlearn: 478.6758061\ttotal: 5.19s\tremaining: 385ms\n",
      "931:\tlearn: 478.6554342\ttotal: 5.19s\tremaining: 379ms\n",
      "932:\tlearn: 478.6251169\ttotal: 5.2s\tremaining: 373ms\n",
      "933:\tlearn: 478.6066299\ttotal: 5.21s\tremaining: 368ms\n",
      "934:\tlearn: 478.5890893\ttotal: 5.21s\tremaining: 362ms\n",
      "935:\tlearn: 478.5775418\ttotal: 5.22s\tremaining: 357ms\n",
      "936:\tlearn: 478.5729860\ttotal: 5.22s\tremaining: 351ms\n",
      "937:\tlearn: 478.5647601\ttotal: 5.23s\tremaining: 345ms\n",
      "938:\tlearn: 478.5545602\ttotal: 5.23s\tremaining: 340ms\n",
      "939:\tlearn: 478.5398869\ttotal: 5.24s\tremaining: 334ms\n",
      "940:\tlearn: 478.5351016\ttotal: 5.24s\tremaining: 329ms\n",
      "941:\tlearn: 478.5295005\ttotal: 5.25s\tremaining: 323ms\n",
      "942:\tlearn: 478.4986442\ttotal: 5.25s\tremaining: 318ms\n",
      "943:\tlearn: 478.4864402\ttotal: 5.26s\tremaining: 312ms\n",
      "944:\tlearn: 478.4722710\ttotal: 5.27s\tremaining: 307ms\n",
      "945:\tlearn: 478.4530003\ttotal: 5.27s\tremaining: 301ms\n",
      "946:\tlearn: 478.4439362\ttotal: 5.28s\tremaining: 295ms\n",
      "947:\tlearn: 478.4389393\ttotal: 5.28s\tremaining: 290ms\n",
      "948:\tlearn: 478.4266390\ttotal: 5.29s\tremaining: 284ms\n",
      "949:\tlearn: 478.4199386\ttotal: 5.29s\tremaining: 279ms\n",
      "950:\tlearn: 478.4024196\ttotal: 5.3s\tremaining: 273ms\n",
      "951:\tlearn: 478.3935128\ttotal: 5.3s\tremaining: 267ms\n",
      "952:\tlearn: 478.3888825\ttotal: 5.31s\tremaining: 262ms\n",
      "953:\tlearn: 478.3837903\ttotal: 5.31s\tremaining: 256ms\n",
      "954:\tlearn: 478.3701227\ttotal: 5.32s\tremaining: 251ms\n",
      "955:\tlearn: 478.3627873\ttotal: 5.32s\tremaining: 245ms\n",
      "956:\tlearn: 478.3551100\ttotal: 5.33s\tremaining: 239ms\n",
      "957:\tlearn: 478.3320625\ttotal: 5.33s\tremaining: 234ms\n",
      "958:\tlearn: 478.3281471\ttotal: 5.34s\tremaining: 228ms\n",
      "959:\tlearn: 478.3233576\ttotal: 5.34s\tremaining: 223ms\n",
      "960:\tlearn: 478.3053667\ttotal: 5.35s\tremaining: 217ms\n",
      "961:\tlearn: 478.2992653\ttotal: 5.35s\tremaining: 211ms\n",
      "962:\tlearn: 478.2953148\ttotal: 5.36s\tremaining: 206ms\n",
      "963:\tlearn: 478.2718508\ttotal: 5.36s\tremaining: 200ms\n",
      "964:\tlearn: 478.2545216\ttotal: 5.37s\tremaining: 195ms\n",
      "965:\tlearn: 478.2279588\ttotal: 5.37s\tremaining: 189ms\n",
      "966:\tlearn: 478.2239351\ttotal: 5.38s\tremaining: 184ms\n",
      "967:\tlearn: 478.2129322\ttotal: 5.38s\tremaining: 178ms\n",
      "968:\tlearn: 478.2041977\ttotal: 5.39s\tremaining: 172ms\n",
      "969:\tlearn: 478.1914538\ttotal: 5.39s\tremaining: 167ms\n",
      "970:\tlearn: 478.1659220\ttotal: 5.4s\tremaining: 161ms\n",
      "971:\tlearn: 478.1567576\ttotal: 5.4s\tremaining: 156ms\n",
      "972:\tlearn: 478.1499156\ttotal: 5.41s\tremaining: 150ms\n",
      "973:\tlearn: 478.1460978\ttotal: 5.42s\tremaining: 145ms\n",
      "974:\tlearn: 478.1399881\ttotal: 5.42s\tremaining: 139ms\n",
      "975:\tlearn: 478.1336235\ttotal: 5.42s\tremaining: 133ms\n",
      "976:\tlearn: 478.1118870\ttotal: 5.43s\tremaining: 128ms\n",
      "977:\tlearn: 478.0948713\ttotal: 5.43s\tremaining: 122ms\n",
      "978:\tlearn: 478.0776622\ttotal: 5.44s\tremaining: 117ms\n",
      "979:\tlearn: 478.0714245\ttotal: 5.45s\tremaining: 111ms\n",
      "980:\tlearn: 478.0660480\ttotal: 5.45s\tremaining: 106ms\n",
      "981:\tlearn: 478.0577446\ttotal: 5.46s\tremaining: 100ms\n",
      "982:\tlearn: 478.0406059\ttotal: 5.46s\tremaining: 94.5ms\n",
      "983:\tlearn: 478.0376210\ttotal: 5.47s\tremaining: 88.9ms\n",
      "984:\tlearn: 478.0231597\ttotal: 5.48s\tremaining: 83.4ms\n",
      "985:\tlearn: 478.0178392\ttotal: 5.48s\tremaining: 77.8ms\n",
      "986:\tlearn: 478.0088417\ttotal: 5.49s\tremaining: 72.3ms\n",
      "987:\tlearn: 477.9959005\ttotal: 5.49s\tremaining: 66.7ms\n",
      "988:\tlearn: 477.9873882\ttotal: 5.5s\tremaining: 61.1ms\n",
      "989:\tlearn: 477.9723178\ttotal: 5.5s\tremaining: 55.6ms\n",
      "990:\tlearn: 477.9666050\ttotal: 5.51s\tremaining: 50ms\n",
      "991:\tlearn: 477.9529420\ttotal: 5.51s\tremaining: 44.4ms\n",
      "992:\tlearn: 477.9386865\ttotal: 5.52s\tremaining: 38.9ms\n",
      "993:\tlearn: 477.9292097\ttotal: 5.52s\tremaining: 33.3ms\n",
      "994:\tlearn: 477.8949537\ttotal: 5.53s\tremaining: 27.8ms\n",
      "995:\tlearn: 477.8916355\ttotal: 5.53s\tremaining: 22.2ms\n",
      "996:\tlearn: 477.8859121\ttotal: 5.54s\tremaining: 16.7ms\n",
      "997:\tlearn: 477.8750458\ttotal: 5.54s\tremaining: 11.1ms\n",
      "998:\tlearn: 477.8697085\ttotal: 5.54s\tremaining: 5.55ms\n",
      "999:\tlearn: 477.8622619\ttotal: 5.55s\tremaining: 0us\n"
     ]
    }
   ],
   "source": [
    "for algorithm in algorithms:\n",
    "    implementMlAlgorithm(algorithm, X_train, y_train, X_test, y_test)"
   ]
  },
  {
   "cell_type": "code",
   "execution_count": 25,
   "metadata": {
    "ExecuteTime": {
     "start_time": "2023-04-06T17:04:18.246289Z",
     "end_time": "2023-04-06T17:04:18.265581Z"
    }
   },
   "outputs": [],
   "source": [
    "result_df = pd.DataFrame({\n",
    "    \"Algorithm\": alg_names,\n",
    "    \"Scores\": results\n",
    "})"
   ]
  },
  {
   "cell_type": "code",
   "execution_count": 26,
   "outputs": [
    {
     "data": {
      "text/plain": "                    Algorithm      Scores\n0                       Ridge  491.669017\n1                       Lasso  491.884973\n2                  ElasticNet  849.086229\n3            LinearRegression  491.669536\n4               LGBMRegressor  495.629768\n5                XGBRegressor  505.427566\n6   GradientBoostingRegressor  492.020658\n7       RandomForestRegressor  537.480827\n8       DecisionTreeRegressor  581.243661\n9                MLPRegressor  491.556340\n10        KNeighborsRegressor  558.049245\n11          CatBoostRegressor  496.429722",
      "text/html": "<div>\n<style scoped>\n    .dataframe tbody tr th:only-of-type {\n        vertical-align: middle;\n    }\n\n    .dataframe tbody tr th {\n        vertical-align: top;\n    }\n\n    .dataframe thead th {\n        text-align: right;\n    }\n</style>\n<table border=\"1\" class=\"dataframe\">\n  <thead>\n    <tr style=\"text-align: right;\">\n      <th></th>\n      <th>Algorithm</th>\n      <th>Scores</th>\n    </tr>\n  </thead>\n  <tbody>\n    <tr>\n      <th>0</th>\n      <td>Ridge</td>\n      <td>491.669017</td>\n    </tr>\n    <tr>\n      <th>1</th>\n      <td>Lasso</td>\n      <td>491.884973</td>\n    </tr>\n    <tr>\n      <th>2</th>\n      <td>ElasticNet</td>\n      <td>849.086229</td>\n    </tr>\n    <tr>\n      <th>3</th>\n      <td>LinearRegression</td>\n      <td>491.669536</td>\n    </tr>\n    <tr>\n      <th>4</th>\n      <td>LGBMRegressor</td>\n      <td>495.629768</td>\n    </tr>\n    <tr>\n      <th>5</th>\n      <td>XGBRegressor</td>\n      <td>505.427566</td>\n    </tr>\n    <tr>\n      <th>6</th>\n      <td>GradientBoostingRegressor</td>\n      <td>492.020658</td>\n    </tr>\n    <tr>\n      <th>7</th>\n      <td>RandomForestRegressor</td>\n      <td>537.480827</td>\n    </tr>\n    <tr>\n      <th>8</th>\n      <td>DecisionTreeRegressor</td>\n      <td>581.243661</td>\n    </tr>\n    <tr>\n      <th>9</th>\n      <td>MLPRegressor</td>\n      <td>491.556340</td>\n    </tr>\n    <tr>\n      <th>10</th>\n      <td>KNeighborsRegressor</td>\n      <td>558.049245</td>\n    </tr>\n    <tr>\n      <th>11</th>\n      <td>CatBoostRegressor</td>\n      <td>496.429722</td>\n    </tr>\n  </tbody>\n</table>\n</div>"
     },
     "execution_count": 26,
     "metadata": {},
     "output_type": "execute_result"
    }
   ],
   "source": [
    "result_df"
   ],
   "metadata": {
    "collapsed": false,
    "ExecuteTime": {
     "start_time": "2023-04-06T17:04:18.852182Z",
     "end_time": "2023-04-06T17:04:18.898978Z"
    }
   }
  },
  {
   "cell_type": "code",
   "execution_count": 27,
   "outputs": [
    {
     "data": {
      "text/plain": "540.1789618122681"
     },
     "execution_count": 27,
     "metadata": {},
     "output_type": "execute_result"
    }
   ],
   "source": [
    "result_df['Scores'].mean()"
   ],
   "metadata": {
    "collapsed": false,
    "ExecuteTime": {
     "start_time": "2023-04-06T17:04:23.631222Z",
     "end_time": "2023-04-06T17:04:23.648767Z"
    }
   }
  },
  {
   "cell_type": "code",
   "execution_count": 28,
   "outputs": [
    {
     "data": {
      "text/plain": "      Algorithm     Scores\n9  MLPRegressor  491.55634",
      "text/html": "<div>\n<style scoped>\n    .dataframe tbody tr th:only-of-type {\n        vertical-align: middle;\n    }\n\n    .dataframe tbody tr th {\n        vertical-align: top;\n    }\n\n    .dataframe thead th {\n        text-align: right;\n    }\n</style>\n<table border=\"1\" class=\"dataframe\">\n  <thead>\n    <tr style=\"text-align: right;\">\n      <th></th>\n      <th>Algorithm</th>\n      <th>Scores</th>\n    </tr>\n  </thead>\n  <tbody>\n    <tr>\n      <th>9</th>\n      <td>MLPRegressor</td>\n      <td>491.55634</td>\n    </tr>\n  </tbody>\n</table>\n</div>"
     },
     "execution_count": 28,
     "metadata": {},
     "output_type": "execute_result"
    }
   ],
   "source": [
    "result_df[result_df['Scores'] == result_df['Scores'].min()]"
   ],
   "metadata": {
    "collapsed": false,
    "ExecuteTime": {
     "start_time": "2023-04-06T17:04:24.811995Z",
     "end_time": "2023-04-06T17:04:24.862947Z"
    }
   }
  },
  {
   "cell_type": "markdown",
   "source": [
    "## MLP Regressor"
   ],
   "metadata": {
    "collapsed": false
   }
  },
  {
   "cell_type": "code",
   "execution_count": 27,
   "outputs": [],
   "source": [
    "mlp = MLPRegressor()"
   ],
   "metadata": {
    "collapsed": false,
    "ExecuteTime": {
     "start_time": "2023-04-06T17:10:24.992797Z",
     "end_time": "2023-04-06T17:10:25.020483Z"
    }
   }
  },
  {
   "cell_type": "code",
   "execution_count": 28,
   "outputs": [],
   "source": [
    "?mlp"
   ],
   "metadata": {
    "collapsed": false,
    "ExecuteTime": {
     "start_time": "2023-04-06T17:10:25.544028Z",
     "end_time": "2023-04-06T17:10:25.578624Z"
    }
   }
  },
  {
   "cell_type": "code",
   "execution_count": 29,
   "outputs": [],
   "source": [
    "scaler = StandardScaler()\n",
    "\n",
    "scaler.fit(X_train)\n",
    "X_train_scaled = scaler.transform(X_train)\n",
    "\n",
    "scaler.fit(X_test)\n",
    "X_test_scaled = scaler.transform(X_test)"
   ],
   "metadata": {
    "collapsed": false,
    "ExecuteTime": {
     "start_time": "2023-04-06T17:10:26.461222Z",
     "end_time": "2023-04-06T17:10:26.546534Z"
    }
   }
  },
  {
   "cell_type": "code",
   "execution_count": 30,
   "outputs": [],
   "source": [
    "params = {\"solver\": [\"lbfgs\", \"adam\"],\n",
    "          \"learning_rate\": [\"constant\", \"adaptive\"],\n",
    "          \"alpha\": [1, 0.1, 0.01, 0.001],\n",
    "          \"hidden_layer_sizes\": [(10, 10, 10), (10, 10), (3, 5)]}"
   ],
   "metadata": {
    "collapsed": false,
    "ExecuteTime": {
     "start_time": "2023-04-06T17:10:27.285536Z",
     "end_time": "2023-04-06T17:10:27.308456Z"
    }
   }
  },
  {
   "cell_type": "code",
   "execution_count": 31,
   "outputs": [
    {
     "name": "stdout",
     "output_type": "stream",
     "text": [
      "Fitting 10 folds for each of 48 candidates, totalling 480 fits\n"
     ]
    }
   ],
   "source": [
    "mlpc_cv_model = GridSearchCV(MLPRegressor(), params, cv=10, n_jobs=-1, verbose=2).fit(X_train_scaled, y_train)"
   ],
   "metadata": {
    "collapsed": false,
    "ExecuteTime": {
     "start_time": "2023-04-06T17:10:27.987262Z",
     "end_time": "2023-04-06T17:29:10.792536Z"
    }
   }
  },
  {
   "cell_type": "code",
   "execution_count": 32,
   "outputs": [
    {
     "data": {
      "text/plain": "{'alpha': 0.1,\n 'hidden_layer_sizes': (10, 10),\n 'learning_rate': 'constant',\n 'solver': 'adam'}"
     },
     "execution_count": 32,
     "metadata": {},
     "output_type": "execute_result"
    }
   ],
   "source": [
    "mlpc_cv_model.best_params_"
   ],
   "metadata": {
    "collapsed": false,
    "ExecuteTime": {
     "start_time": "2023-04-06T17:32:29.091784Z",
     "end_time": "2023-04-06T17:32:29.114574Z"
    }
   }
  },
  {
   "cell_type": "code",
   "execution_count": 45,
   "outputs": [],
   "source": [
    "tuned_model = MLPRegressor(alpha=0.1, hidden_layer_sizes=(10,10), learning_rate=\"constant\", solver=\"adam\").fit(X_train, y_train)"
   ],
   "metadata": {
    "collapsed": false,
    "ExecuteTime": {
     "start_time": "2023-04-06T17:39:40.174676Z",
     "end_time": "2023-04-06T17:39:47.816271Z"
    }
   }
  },
  {
   "cell_type": "code",
   "execution_count": 47,
   "outputs": [
    {
     "data": {
      "text/plain": "491.81314476330226"
     },
     "execution_count": 47,
     "metadata": {},
     "output_type": "execute_result"
    }
   ],
   "source": [
    "np.sqrt(mean_squared_error(y_test, tuned_model.predict(X_test)))"
   ],
   "metadata": {
    "collapsed": false,
    "ExecuteTime": {
     "start_time": "2023-04-06T17:39:55.099928Z",
     "end_time": "2023-04-06T17:39:55.130292Z"
    }
   }
  }
 ],
 "metadata": {
  "kernelspec": {
   "display_name": "Python 3 (ipykernel)",
   "language": "python",
   "name": "python3"
  },
  "language_info": {
   "codemirror_mode": {
    "name": "ipython",
    "version": 2
   },
   "file_extension": ".py",
   "mimetype": "text/x-python",
   "name": "python",
   "nbconvert_exporter": "python",
   "pygments_lexer": "ipython2",
   "version": "2.7.6"
  }
 },
 "nbformat": 4,
 "nbformat_minor": 1
}
